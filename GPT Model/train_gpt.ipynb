{
 "cells": [
  {
   "cell_type": "markdown",
   "metadata": {},
   "source": [
    "#### Define Imports"
   ]
  },
  {
   "cell_type": "code",
   "execution_count": 1,
   "metadata": {},
   "outputs": [],
   "source": [
    "#%pip install openai"
   ]
  },
  {
   "cell_type": "markdown",
   "metadata": {},
   "source": [
    "hugging face - chunking strategies\n",
    "embedding the chunks into vectors\n",
    "chroma (vector store) \n",
    "retrieval method - API calls/\n",
    "-> question -> chunks from store -> LLM -> answer question based on context\n",
    "\n",
    "Can we have chat gpt create the API call string?\n",
    "->prompt and examples\n",
    "\n",
    "Separate prompt for Park to ParkCode?\n",
    "\n",
    "Evaluation\n",
    "RAGAS - for RAG evaluation, explore what types of evaluation, retrieval-focused\n",
    "Correct generation - some manual evaluation may be necessary \n",
    "\n",
    "Evaluate chatGpt vs a traditional NLP key-word matching on the same queries\n",
    "Set up baseline architecture for experimentation"
   ]
  },
  {
   "cell_type": "code",
   "execution_count": 1,
   "metadata": {},
   "outputs": [],
   "source": [
    "import requests\n",
    "import pandas as pd \n",
    "import random\n",
    "from sklearn.model_selection import train_test_split\n",
    "from sklearn.preprocessing import LabelEncoder, OneHotEncoder\n",
    "from sklearn.feature_extraction.text import TfidfVectorizer\n",
    "import json\n",
    "import openai\n",
    "import os\n",
    "from openai import OpenAI\n",
    "import time\n",
    "import sys\n",
    "\n",
    "sys.path.insert(0,'../')\n",
    "from environment import env"
   ]
  },
  {
   "cell_type": "markdown",
   "metadata": {},
   "source": [
    "#### Define Variables"
   ]
  },
  {
   "cell_type": "code",
   "execution_count": 3,
   "metadata": {},
   "outputs": [],
   "source": [
    "config = env.env()\n",
    "nps_api_key = config['nps_api_key']\n",
    "openai.api_key = config['gpt_api_key']\n",
    "gpt_npi_key = config['gpt_api_key']\n",
    "client = OpenAI(api_key  = config['gpt_api_key'])\n",
    "api_base_url = 'https://developer.nps.gov/api/v1/'"
   ]
  },
  {
   "cell_type": "markdown",
   "metadata": {},
   "source": [
    "#### Define Functions"
   ]
  },
  {
   "cell_type": "code",
   "execution_count": 23,
   "metadata": {},
   "outputs": [],
   "source": [
    "def handle_query(query, model):\n",
    "    prompt = f\"prompt: {query}\\n\"\n",
    "    response = client.completions.create(\n",
    "        model=model,  \n",
    "        prompt=prompt,\n",
    "        max_tokens=50\n",
    "    )\n",
    "    completion = response.choices[0].text#.strip()\n",
    "    return completion"
   ]
  },
  {
   "cell_type": "markdown",
   "metadata": {},
   "source": [
    "#### Read Inputs"
   ]
  },
  {
   "cell_type": "code",
   "execution_count": 6,
   "metadata": {},
   "outputs": [],
   "source": [
    "synthetic_queries_df = pd.read_csv('synthetic_queries.csv')\n",
    "train_file =  client.files.create(\n",
    "  file=open(\"fine_tune_train_data.jsonl\", \"rb\"),\n",
    "  purpose=\"fine-tune\"\n",
    ")\n",
    "\n",
    "val_file = client.files.create(\n",
    "  file=open(\"fine_tune_val_data.jsonl\", \"rb\"),\n",
    "  purpose=\"fine-tune\"\n",
    ")\n",
    "\n",
    "train_file_id = train_file.id\n",
    "val_file_id = val_file.id"
   ]
  },
  {
   "cell_type": "markdown",
   "metadata": {},
   "source": [
    "#### Fine Tune"
   ]
  },
  {
   "cell_type": "code",
   "execution_count": null,
   "metadata": {},
   "outputs": [],
   "source": [
    "fine_tune = client.fine_tuning.jobs.create(\n",
    "    model=\"davinci-002\",\n",
    "    training_file=train_file_id,\n",
    "    validation_file=val_file_id,\n",
    "    seed = 42,\n",
    "    suffix = 'nps_model'\n",
    ")"
   ]
  },
  {
   "cell_type": "code",
   "execution_count": 9,
   "metadata": {},
   "outputs": [],
   "source": [
    "try:\n",
    "    fine_tune_id = fine_tune.id\n",
    "except:\n",
    "    fine_tune_id = config['gpt_model_id']"
   ]
  },
  {
   "cell_type": "code",
   "execution_count": 10,
   "metadata": {},
   "outputs": [
    {
     "name": "stdout",
     "output_type": "stream",
     "text": [
      "Fine-tuning job status: succeeded\n"
     ]
    }
   ],
   "source": [
    "while True:\n",
    "    status = client.fine_tuning.jobs.retrieve(fine_tune_id).status\n",
    "    print(f\"Fine-tuning job status: {status}\")\n",
    "\n",
    "    if status in [\"succeeded\", \"failed\"]:\n",
    "        break\n",
    "\n",
    "    time.sleep(60)"
   ]
  },
  {
   "cell_type": "markdown",
   "metadata": {},
   "source": [
    "#### Test Fine Tuning"
   ]
  },
  {
   "cell_type": "code",
   "execution_count": 25,
   "metadata": {},
   "outputs": [
    {
     "name": "stdout",
     "output_type": "stream",
     "text": [
      "alerts afamalerts afam Inalerts afamalerts afamalerts afamalerts afamalerts afamalerts afamalerts afamalerts afamalerts afamalerts afamalerts afamalerts afamalerts afamalerts afamalerts\n",
      "parkinglots yoseparkinglots yoseparkinglots yose.\n",
      "parkinglots yoseparkinglots yose.\n",
      "parkinglots yoseparkinglots yoseparkinglots yose.\n",
      "\n",
      "parkinglots yoseparking\n",
      "amenities jicaamenities jica Richard Nixonamenities rich Theamenities rich RichardParks richRichardparks rich Richardparks rich Richardparks rich Richardparks richRichardparks rich Richardparks richRichardparks rich Richard\n"
     ]
    }
   ],
   "source": [
    "model = client.fine_tuning.jobs.retrieve(fine_tune_id).fine_tuned_model\n",
    "\n",
    "queries = [\"Are there any alerts for the African American War Memorial\",\"Where are the parking lots in Yosemite?\",\"What amenities does the Jimmy Carter Park have?\"]\n",
    "for query in queries:\n",
    "    api_call = handle_query(query,model)\n",
    "    print(api_call)"
   ]
  },
  {
   "cell_type": "markdown",
   "metadata": {},
   "source": []
  }
 ],
 "metadata": {
  "kernelspec": {
   "display_name": "Python 3",
   "language": "python",
   "name": "python3"
  },
  "language_info": {
   "codemirror_mode": {
    "name": "ipython",
    "version": 3
   },
   "file_extension": ".py",
   "mimetype": "text/x-python",
   "name": "python",
   "nbconvert_exporter": "python",
   "pygments_lexer": "ipython3",
   "version": "3.7.1"
  }
 },
 "nbformat": 4,
 "nbformat_minor": 2
}
