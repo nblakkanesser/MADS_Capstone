{
 "cells": [
  {
   "cell_type": "markdown",
   "metadata": {},
   "source": [
    "#### Define Imports"
   ]
  },
  {
   "cell_type": "code",
   "execution_count": 1,
   "metadata": {},
   "outputs": [],
   "source": [
    "#%pip install openai"
   ]
  },
  {
   "cell_type": "code",
   "execution_count": 2,
   "metadata": {},
   "outputs": [],
   "source": [
    "import pandas as pd \n",
    "from sklearn.model_selection import train_test_split\n",
    "import json\n",
    "import os\n",
    "import openai\n",
    "from openai import OpenAI\n",
    "import time\n",
    "import sys\n",
    "\n",
    "sys.path.insert(0,'../')\n",
    "from environment import env\n",
    "from environment import helper_functions"
   ]
  },
  {
   "cell_type": "markdown",
   "metadata": {},
   "source": [
    "#### Define Variables"
   ]
  },
  {
   "cell_type": "code",
   "execution_count": 3,
   "metadata": {},
   "outputs": [],
   "source": [
    "config = env.env()\n",
    "\n",
    "# Inputs\n",
    "client = OpenAI(api_key  = config['gpt_api_key'])\n",
    "root = config['root']\n",
    "syn_queries = root+'synthetic_queries.csv'\n",
    "\n",
    "# Output\n",
    "train_data = 'endpoint_train_data.jsonl'\n",
    "val_data = 'endpoint_val_data.jsonl'\n",
    "model_name = 'nps_model_endpoint'\n",
    "target = 'endpoint'"
   ]
  },
  {
   "cell_type": "markdown",
   "metadata": {},
   "source": [
    "#### Read Inputs"
   ]
  },
  {
   "cell_type": "code",
   "execution_count": 4,
   "metadata": {},
   "outputs": [
    {
     "data": {
      "text/html": [
       "<div>\n",
       "<style scoped>\n",
       "    .dataframe tbody tr th:only-of-type {\n",
       "        vertical-align: middle;\n",
       "    }\n",
       "\n",
       "    .dataframe tbody tr th {\n",
       "        vertical-align: top;\n",
       "    }\n",
       "\n",
       "    .dataframe thead th {\n",
       "        text-align: right;\n",
       "    }\n",
       "</style>\n",
       "<table border=\"1\" class=\"dataframe\">\n",
       "  <thead>\n",
       "    <tr style=\"text-align: right;\">\n",
       "      <th></th>\n",
       "      <th>query</th>\n",
       "      <th>intent</th>\n",
       "      <th>api_call.endpoint</th>\n",
       "      <th>api_call.parkCode</th>\n",
       "    </tr>\n",
       "  </thead>\n",
       "  <tbody>\n",
       "    <tr>\n",
       "      <th>0</th>\n",
       "      <td>Tell me about Abraham Lincoln Birthplace Natio...</td>\n",
       "      <td>ParkInfo: Desc</td>\n",
       "      <td>parks</td>\n",
       "      <td>abli</td>\n",
       "    </tr>\n",
       "    <tr>\n",
       "      <th>1</th>\n",
       "      <td>What is the full name of Abraham Lincoln Birth...</td>\n",
       "      <td>ParkInfo: Desc</td>\n",
       "      <td>parks</td>\n",
       "      <td>abli</td>\n",
       "    </tr>\n",
       "    <tr>\n",
       "      <th>2</th>\n",
       "      <td>What is the address of Abraham Lincoln Birthpl...</td>\n",
       "      <td>ParkInfo: Desc</td>\n",
       "      <td>parks</td>\n",
       "      <td>abli</td>\n",
       "    </tr>\n",
       "    <tr>\n",
       "      <th>3</th>\n",
       "      <td>Which state is Abraham Lincoln Birthplace Nati...</td>\n",
       "      <td>ParkInfo: Desc</td>\n",
       "      <td>parks</td>\n",
       "      <td>abli</td>\n",
       "    </tr>\n",
       "    <tr>\n",
       "      <th>4</th>\n",
       "      <td>Give me a description of Abraham Lincoln Birth...</td>\n",
       "      <td>ParkInfo: Desc</td>\n",
       "      <td>parks</td>\n",
       "      <td>abli</td>\n",
       "    </tr>\n",
       "    <tr>\n",
       "      <th>...</th>\n",
       "      <td>...</td>\n",
       "      <td>...</td>\n",
       "      <td>...</td>\n",
       "      <td>...</td>\n",
       "    </tr>\n",
       "    <tr>\n",
       "      <th>48037</th>\n",
       "      <td>What is the cost of admission to Zion?</td>\n",
       "      <td>ParkFees</td>\n",
       "      <td>feespasses</td>\n",
       "      <td>zion</td>\n",
       "    </tr>\n",
       "    <tr>\n",
       "      <th>48038</th>\n",
       "      <td>How expensive is it to visit Zion?</td>\n",
       "      <td>ParkFees</td>\n",
       "      <td>feespasses</td>\n",
       "      <td>zion</td>\n",
       "    </tr>\n",
       "    <tr>\n",
       "      <th>48039</th>\n",
       "      <td>What are the ticket prices for Zion?</td>\n",
       "      <td>ParkFees</td>\n",
       "      <td>feespasses</td>\n",
       "      <td>zion</td>\n",
       "    </tr>\n",
       "    <tr>\n",
       "      <th>48040</th>\n",
       "      <td>Do I need to pay to enter Zion?</td>\n",
       "      <td>ParkFees</td>\n",
       "      <td>feespasses</td>\n",
       "      <td>zion</td>\n",
       "    </tr>\n",
       "    <tr>\n",
       "      <th>48041</th>\n",
       "      <td>Are there any charges to access Zion?</td>\n",
       "      <td>ParkFees</td>\n",
       "      <td>feespasses</td>\n",
       "      <td>zion</td>\n",
       "    </tr>\n",
       "  </tbody>\n",
       "</table>\n",
       "<p>48042 rows × 4 columns</p>\n",
       "</div>"
      ],
      "text/plain": [
       "                                                   query          intent  \\\n",
       "0      Tell me about Abraham Lincoln Birthplace Natio...  ParkInfo: Desc   \n",
       "1      What is the full name of Abraham Lincoln Birth...  ParkInfo: Desc   \n",
       "2      What is the address of Abraham Lincoln Birthpl...  ParkInfo: Desc   \n",
       "3      Which state is Abraham Lincoln Birthplace Nati...  ParkInfo: Desc   \n",
       "4      Give me a description of Abraham Lincoln Birth...  ParkInfo: Desc   \n",
       "...                                                  ...             ...   \n",
       "48037             What is the cost of admission to Zion?        ParkFees   \n",
       "48038                 How expensive is it to visit Zion?        ParkFees   \n",
       "48039               What are the ticket prices for Zion?        ParkFees   \n",
       "48040                    Do I need to pay to enter Zion?        ParkFees   \n",
       "48041              Are there any charges to access Zion?        ParkFees   \n",
       "\n",
       "      api_call.endpoint api_call.parkCode  \n",
       "0                 parks              abli  \n",
       "1                 parks              abli  \n",
       "2                 parks              abli  \n",
       "3                 parks              abli  \n",
       "4                 parks              abli  \n",
       "...                 ...               ...  \n",
       "48037        feespasses              zion  \n",
       "48038        feespasses              zion  \n",
       "48039        feespasses              zion  \n",
       "48040        feespasses              zion  \n",
       "48041        feespasses              zion  \n",
       "\n",
       "[48042 rows x 4 columns]"
      ]
     },
     "execution_count": 4,
     "metadata": {},
     "output_type": "execute_result"
    }
   ],
   "source": [
    "synthetic_queries_df = pd.read_csv(syn_queries)\n",
    "synthetic_queries_df"
   ]
  },
  {
   "cell_type": "markdown",
   "metadata": {},
   "source": [
    "#### Prepare for GPT"
   ]
  },
  {
   "cell_type": "code",
   "execution_count": 8,
   "metadata": {},
   "outputs": [
    {
     "name": "stdout",
     "output_type": "stream",
     "text": [
      "38433 9609\n"
     ]
    }
   ],
   "source": [
    "train_df, val_df = train_test_split(synthetic_queries_df, test_size=0.2, random_state=42)\n",
    "print(len(train_df),len(val_df))\n",
    "\n",
    "helper_functions.save_to_jsonl(train_df, train_data, target)\n",
    "helper_functions.save_to_jsonl(val_df, val_data, target)"
   ]
  },
  {
   "cell_type": "markdown",
   "metadata": {},
   "source": [
    "#### Fine Tune"
   ]
  },
  {
   "cell_type": "code",
   "execution_count": 9,
   "metadata": {},
   "outputs": [],
   "source": [
    "train_file =  client.files.create(\n",
    "  file=open(train_data, \"rb\"),\n",
    "  purpose=\"fine-tune\"\n",
    ")\n",
    "\n",
    "val_file = client.files.create(\n",
    "  file=open(val_data, \"rb\"),\n",
    "  purpose=\"fine-tune\"\n",
    ")\n",
    "\n",
    "train_file_id = train_file.id\n",
    "val_file_id = val_file.id"
   ]
  },
  {
   "cell_type": "code",
   "execution_count": 10,
   "metadata": {},
   "outputs": [],
   "source": [
    "fine_tune = client.fine_tuning.jobs.create(\n",
    "    model=\"davinci-002\",\n",
    "    training_file=train_file_id,\n",
    "    validation_file=val_file_id,\n",
    "    seed = 42,\n",
    "    suffix = model_name\n",
    ")\n",
    "fine_tune_id = fine_tune.id"
   ]
  },
  {
   "cell_type": "markdown",
   "metadata": {},
   "source": []
  }
 ],
 "metadata": {
  "kernelspec": {
   "display_name": "Python 3",
   "language": "python",
   "name": "python3"
  },
  "language_info": {
   "codemirror_mode": {
    "name": "ipython",
    "version": 3
   },
   "file_extension": ".py",
   "mimetype": "text/x-python",
   "name": "python",
   "nbconvert_exporter": "python",
   "pygments_lexer": "ipython3",
   "version": "3.7.1"
  }
 },
 "nbformat": 4,
 "nbformat_minor": 2
}
