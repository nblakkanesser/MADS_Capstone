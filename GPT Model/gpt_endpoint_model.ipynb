{
 "cells": [
  {
   "cell_type": "markdown",
   "metadata": {},
   "source": [
    "#### Define Imports"
   ]
  },
  {
   "cell_type": "code",
   "execution_count": 1,
   "metadata": {},
   "outputs": [],
   "source": [
    "#%pip install openai"
   ]
  },
  {
   "cell_type": "code",
   "execution_count": 2,
   "metadata": {},
   "outputs": [],
   "source": [
    "import pandas as pd \n",
    "from sklearn.model_selection import train_test_split\n",
    "import json\n",
    "import os\n",
    "import openai\n",
    "from openai import OpenAI\n",
    "import time\n",
    "import sys\n",
    "\n",
    "sys.path.insert(0,'../')\n",
    "from environment import env\n",
    "from environment import helper_functions"
   ]
  },
  {
   "cell_type": "markdown",
   "metadata": {},
   "source": [
    "#### Define Variables"
   ]
  },
  {
   "cell_type": "code",
   "execution_count": 3,
   "metadata": {},
   "outputs": [],
   "source": [
    "config = env.env()\n",
    "\n",
    "# Inputs\n",
    "client = OpenAI(api_key  = config['gpt_api_key'])\n",
    "root = config['root']\n",
    "syn_queries = root+'synthetic_queries.csv'\n",
    "\n",
    "\n",
    "# Output\n",
    "train_data = 'endpoint_train_data.jsonl'\n",
    "val_data = 'endpoint_val_data.jsonl'\n",
    "test_data = 'endpoint_test_data.jsonl'\n",
    "model_name = 'nps_model_endpoint'\n",
    "target = 'endpoint'"
   ]
  },
  {
   "cell_type": "markdown",
   "metadata": {},
   "source": [
    "#### Read Inputs"
   ]
  },
  {
   "cell_type": "code",
   "execution_count": 4,
   "metadata": {},
   "outputs": [],
   "source": [
    "synthetic_queries_df = pd.read_csv(syn_queries)"
   ]
  },
  {
   "cell_type": "markdown",
   "metadata": {},
   "source": [
    "#### Prepare for GPT"
   ]
  },
  {
   "cell_type": "code",
   "execution_count": 5,
   "metadata": {},
   "outputs": [],
   "source": [
    "train_df, val_df = train_test_split(synthetic_queries_df, test_size=0.2, random_state=42)\n",
    "train_df, temp_df = train_test_split(synthetic_queries_df, test_size=0.3, random_state=42)\n",
    "val_df, test_df = train_test_split(temp_df, test_size=0.5, random_state=42)\n",
    "\n",
    "helper_functions.save_to_jsonl(train_df, train_data, target)\n",
    "helper_functions.save_to_jsonl(val_df, val_data, target)\n",
    "helper_functions.save_to_jsonl(test_df, test_data, target)"
   ]
  },
  {
   "cell_type": "markdown",
   "metadata": {},
   "source": [
    "#### Fine Tune"
   ]
  },
  {
   "cell_type": "code",
   "execution_count": 6,
   "metadata": {},
   "outputs": [],
   "source": [
    "train_file =  client.files.create(\n",
    "  file=open(train_data, \"rb\"),\n",
    "  purpose=\"fine-tune\"\n",
    ")\n",
    "\n",
    "val_file = client.files.create(\n",
    "  file=open(val_data, \"rb\"),\n",
    "  purpose=\"fine-tune\"\n",
    ")\n",
    "\n",
    "train_file_id = train_file.id\n",
    "val_file_id = val_file.id"
   ]
  },
  {
   "cell_type": "code",
   "execution_count": 87,
   "metadata": {},
   "outputs": [],
   "source": [
    "fine_tune = client.fine_tuning.jobs.create(\n",
    "    model=\"davinci-002\",\n",
    "    training_file=train_file_id,\n",
    "    validation_file=val_file_id,\n",
    "    seed = 42,\n",
    "    suffix = model_name\n",
    ")\n",
    "fine_tune_id = fine_tune.id"
   ]
  },
  {
   "cell_type": "markdown",
   "metadata": {},
   "source": []
  }
 ],
 "metadata": {
  "kernelspec": {
   "display_name": "Python 3",
   "language": "python",
   "name": "python3"
  },
  "language_info": {
   "codemirror_mode": {
    "name": "ipython",
    "version": 3
   },
   "file_extension": ".py",
   "mimetype": "text/x-python",
   "name": "python",
   "nbconvert_exporter": "python",
   "pygments_lexer": "ipython3",
   "version": "3.7.1"
  }
 },
 "nbformat": 4,
 "nbformat_minor": 2
}
