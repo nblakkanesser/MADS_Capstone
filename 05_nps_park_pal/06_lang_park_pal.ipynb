{
 "cells": [
  {
   "cell_type": "code",
   "execution_count": 9,
   "metadata": {},
   "outputs": [],
   "source": [
    "from flask import Flask, request, jsonify, render_template, session\n",
    "import pandas as pd\n",
    "from flask_session import Session\n",
    "import sys\n",
    "sys.path.insert(0,'../')\n",
    "from environment import env\n",
    "config = env.env()\n",
    "\n",
    "from model_functions.spacy_model import *\n",
    "from model_functions.tfidf_model import *\n",
    "from model_functions.nltk_model import *\n",
    "from model_functions.gpt_model_functions import *\n",
    "from model_functions.get_context import *\n",
    "from lang_chatbot import nps_chain"
   ]
  },
  {
   "cell_type": "code",
   "execution_count": 10,
   "metadata": {},
   "outputs": [
    {
     "ename": "NameError",
     "evalue": "name 'nltk_model' is not defined",
     "output_type": "error",
     "traceback": [
      "\u001b[0;31m---------------------------------------------------------------------------\u001b[0m",
      "\u001b[0;31mNameError\u001b[0m                                 Traceback (most recent call last)",
      "Cell \u001b[0;32mIn[10], line 3\u001b[0m\n\u001b[1;32m      1\u001b[0m \u001b[38;5;66;03m#VARIABLES\u001b[39;00m\n\u001b[1;32m      2\u001b[0m \u001b[38;5;66;03m#Select which model to use with chatbot\u001b[39;00m\n\u001b[0;32m----> 3\u001b[0m model \u001b[38;5;241m=\u001b[39m \u001b[43mnltk_model\u001b[49m\n\u001b[1;32m      4\u001b[0m OPENAI_API_KEY \u001b[38;5;241m=\u001b[39m config[\u001b[38;5;124m'\u001b[39m\u001b[38;5;124mgpt_api_key\u001b[39m\u001b[38;5;124m'\u001b[39m]\n",
      "\u001b[0;31mNameError\u001b[0m: name 'nltk_model' is not defined"
     ]
    }
   ],
   "source": [
    "#VARIABLES\n",
    "#Select which model to use with chatbot\n",
    "model = tfidf_model\n",
    "OPENAI_API_KEY = config['gpt_api_key']"
   ]
  },
  {
   "cell_type": "code",
   "execution_count": 5,
   "metadata": {},
   "outputs": [
    {
     "name": "stdout",
     "output_type": "stream",
     "text": [
      " * Serving Flask app '__main__'\n",
      " * Debug mode: off\n"
     ]
    },
    {
     "name": "stderr",
     "output_type": "stream",
     "text": [
      "\u001b[31m\u001b[1mWARNING: This is a development server. Do not use it in a production deployment. Use a production WSGI server instead.\u001b[0m\n",
      " * Running on http://127.0.0.1:8000\n",
      "\u001b[33mPress CTRL+C to quit\u001b[0m\n",
      "127.0.0.1 - - [24/Jul/2024 15:27:55] \"GET / HTTP/1.1\" 200 -\n",
      "127.0.0.1 - - [24/Jul/2024 15:28:03] \"POST /chat HTTP/1.1\" 200 -\n",
      "127.0.0.1 - - [24/Jul/2024 15:28:13] \"POST /chat HTTP/1.1\" 200 -\n",
      "127.0.0.1 - - [24/Jul/2024 15:28:31] \"POST /chat HTTP/1.1\" 200 -\n",
      "127.0.0.1 - - [24/Jul/2024 15:28:55] \"POST /chat HTTP/1.1\" 200 -\n",
      "127.0.0.1 - - [24/Jul/2024 15:29:30] \"POST /chat HTTP/1.1\" 200 -\n"
     ]
    }
   ],
   "source": [
    "app = Flask(__name__)\n",
    "\n",
    "# Configure server-side session\n",
    "app.config['SESSION_TYPE'] = 'filesystem'\n",
    "app.config['SECRET_KEY'] = 'supersecretkey'\n",
    "Session(app)\n",
    "\n",
    "@app.route('/reset', methods=['POST'])\n",
    "def reset():\n",
    "    session.clear()\n",
    "    return jsonify({\"response\": \"Session reset successful.\"})\n",
    "\n",
    "@app.route('/')\n",
    "def home():\n",
    "    return render_template('index.html')\n",
    "\n",
    "@app.route('/chat', methods=['POST'])\n",
    "def chat():\n",
    "    # *Chat GPT assisted with session logic\n",
    "    user_input = request.json.get(\"message\")\n",
    "    if not user_input:\n",
    "        return jsonify({\"response\": \"Please provide a message.\"})\n",
    "\n",
    "    if 'stage' not in session:\n",
    "        session['stage'] = 'initial'\n",
    "\n",
    "    if session['stage'] == 'initial':\n",
    "        # Initial stage: Handle general queries\n",
    "        output, session['stage'], session['data'] = handle_initial_query(user_input)\n",
    "        \n",
    "    else:\n",
    "        output = \"I specialize only in queries related to amenities, events, alerts, park fees, park locations, and park descriptions. Please clarify your question.\"\n",
    "        session['stage'] = 'initial'\n",
    "\n",
    "    return jsonify({\"response\": output})\n",
    "\n",
    "def handle_initial_query(user_input):\n",
    "    # Simulate API call to get responses for the 'amenities' endpoint\n",
    "    try: \n",
    "        output = nps_chain.invoke({\"context\": get_context(user_input, model), \"question\": user_input})\n",
    "       \n",
    "        return output, 'initial', None\n",
    "    # If the bot does not understand the question, ask to clarify.\n",
    "    except:\n",
    "        return \"I specialize only in queries related to amenities, events, alerts, park fees, park locations, and park descriptions. Please clarify your question.\", 'initial', None\n",
    "\n",
    "\n",
    "if __name__ == \"__main__\":\n",
    "    app.run(port=8000)\n",
    "\n"
   ]
  }
 ],
 "metadata": {
  "kernelspec": {
   "display_name": ".venv",
   "language": "python",
   "name": "python3"
  },
  "language_info": {
   "codemirror_mode": {
    "name": "ipython",
    "version": 3
   },
   "file_extension": ".py",
   "mimetype": "text/x-python",
   "name": "python",
   "nbconvert_exporter": "python",
   "pygments_lexer": "ipython3",
   "version": "3.11.8"
  }
 },
 "nbformat": 4,
 "nbformat_minor": 2
}
