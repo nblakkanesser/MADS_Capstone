{
 "cells": [
  {
   "cell_type": "markdown",
   "metadata": {},
   "source": [
    "#### Define Imports"
   ]
  },
  {
   "cell_type": "code",
   "execution_count": 1,
   "metadata": {},
   "outputs": [],
   "source": [
    "#! pip install flask_session"
   ]
  },
  {
   "cell_type": "code",
   "execution_count": 2,
   "metadata": {},
   "outputs": [],
   "source": [
    "from flask import Flask, request, jsonify, render_template, session\n",
    "import pandas as pd\n",
    "from flask_session import Session\n",
    "import sys\n",
    "sys.path.insert(0,'../')\n",
    "from environment import env\n",
    "from model_functions.gpt_model_functions import *\n",
    "config = env.env()"
   ]
  },
  {
   "cell_type": "code",
   "execution_count": 3,
   "metadata": {},
   "outputs": [
    {
     "name": "stdout",
     "output_type": "stream",
     "text": [
      " * Serving Flask app '__main__'\n",
      " * Debug mode: off\n"
     ]
    },
    {
     "name": "stderr",
     "output_type": "stream",
     "text": [
      "WARNING: This is a development server. Do not use it in a production deployment. Use a production WSGI server instead.\n",
      " * Running on http://127.0.0.1:8000\n",
      "Press CTRL+C to quit\n",
      "127.0.0.1 - - [24/Jul/2024 08:37:56] \"GET / HTTP/1.1\" 200 -\n",
      "127.0.0.1 - - [24/Jul/2024 08:38:08] \"POST /chat HTTP/1.1\" 200 -\n"
     ]
    }
   ],
   "source": [
    "app = Flask(__name__)\n",
    "\n",
    "# Configure server-side session\n",
    "app.config['SESSION_TYPE'] = 'filesystem'\n",
    "app.config['SECRET_KEY'] = 'supersecretkey'\n",
    "Session(app)\n",
    "\n",
    "@app.route('/reset', methods=['POST'])\n",
    "def reset():\n",
    "    session.clear()\n",
    "    return jsonify({\"response\": \"Session reset successful.\"})\n",
    "\n",
    "@app.route('/')\n",
    "def home():\n",
    "    return render_template('index.html')\n",
    "\n",
    "@app.route('/chat', methods=['POST'])\n",
    "def chat():\n",
    "    # *Chat GPT assisted with session logic\n",
    "    user_input = request.json.get(\"message\")\n",
    "    if not user_input:\n",
    "        return jsonify({\"response\": \"Please provide a message.\"})\n",
    "\n",
    "    if 'stage' not in session:\n",
    "        session['stage'] = 'initial'\n",
    "\n",
    "    if session['stage'] == 'initial':\n",
    "        # Initial stage: Handle general queries\n",
    "        output, session['stage'], session['data'] = handle_initial_query(user_input)\n",
    "        \n",
    "    elif session['stage'] == 'amenities':\n",
    "        # Handle amenity category selection\n",
    "        output, session['stage'] = handle_amenity_selection(user_input, session['data'])\n",
    "    else:\n",
    "        output = \"I specialize only in queries related to amenities, events, alerts, park fees, park locations, and park descriptions. Please clarify your question.\"\n",
    "        session['stage'] = 'initial'\n",
    "\n",
    "    return jsonify({\"response\": output})\n",
    "\n",
    "def handle_initial_query(user_input):\n",
    "    # Simulate API call to get responses for the 'amenities' endpoint\n",
    "    try: \n",
    "        output = api_call(user_input)\n",
    "        if isinstance(output, pd.DataFrame):\n",
    "            # The nps_model_function returns a dataframe for questions that are predicted to be amenities.\n",
    "            responses_df = output\n",
    "            # List the amenity categories for the user to review\n",
    "            categories = sorted(list(set(element.lower() for sublist in responses_df['categories'] for element in sublist)))\n",
    "            if len(categories) > 0:\n",
    "                # Count of categories and list them\n",
    "                response = f'There are {len(categories)} amenity categories. Choose one of the following categories to learn more: '\n",
    "                for category in categories:\n",
    "                    response += f'\\n {category}'\n",
    "\n",
    "                return response, 'amenities', responses_df\n",
    "            else:\n",
    "                # If there are no categories then return this:\n",
    "                return f'There are no amenities available to share at this time', 'initial', None\n",
    "        return output, 'initial', None\n",
    "    # If the bot does not understand the question, ask to clarify.\n",
    "    except:\n",
    "        return \"I specialize only in queries related to amenities, events, alerts, park fees, park locations, and park descriptions. Please clarify your question.\", 'initial', None\n",
    "\n",
    "def handle_amenity_selection(user_input, responses_df):\n",
    "    # Create list of amenities in the specified category\n",
    "    amenities_df = responses_df[responses_df['categories'].apply(lambda x: user_input.lower() in [item.lower() for item in x])]\n",
    "    amenities = sorted(list(set(name for name in amenities_df['name'])))\n",
    "    \n",
    "    if len(amenities) > 0:\n",
    "        # Count of amenities and list them\n",
    "        output = f'There {\"is\" if len(amenities) == 1 else \"are\"} {len(amenities)} {\"amenity\" if len(amenities) == 1 else \"amenities\"} in the {user_input.title()} category: '\n",
    "        for amenity in amenities:\n",
    "            output += f'\\n {amenity}'\n",
    "        return output, 'initial'\n",
    "    else:\n",
    "        # If there are no amenity then return this:\n",
    "        return \"The specified category is not an option. Please try again.\", 'initial'\n",
    "\n",
    "if __name__ == \"__main__\":\n",
    "    app.run(port=8000)\n",
    "\n"
   ]
  },
  {
   "cell_type": "markdown",
   "metadata": {},
   "source": []
  }
 ],
 "metadata": {
  "kernelspec": {
   "display_name": "Python 3",
   "language": "python",
   "name": "python3"
  },
  "language_info": {
   "codemirror_mode": {
    "name": "ipython",
    "version": 3
   },
   "file_extension": ".py",
   "mimetype": "text/x-python",
   "name": "python",
   "nbconvert_exporter": "python",
   "pygments_lexer": "ipython3",
   "version": "3.8.19"
  }
 },
 "nbformat": 4,
 "nbformat_minor": 2
}
