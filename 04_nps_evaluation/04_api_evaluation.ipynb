{
 "cells": [
  {
   "cell_type": "markdown",
   "metadata": {},
   "source": [
    "Imports"
   ]
  },
  {
   "cell_type": "code",
   "execution_count": 3,
   "metadata": {},
   "outputs": [
    {
     "name": "stderr",
     "output_type": "stream",
     "text": [
      "[nltk_data] Downloading package punkt to\n",
      "[nltk_data]     /Users/lauralyns/Documents/MADS/SIADS 699 -\n",
      "[nltk_data]     Capstone/Capstone\n",
      "[nltk_data]     VS/MADS_Capstone/.venv/lib/nltk_data...\n",
      "[nltk_data]   Package punkt is already up-to-date!\n",
      "[nltk_data] Downloading package stopwords to\n",
      "[nltk_data]     /Users/lauralyns/Documents/MADS/SIADS 699 -\n",
      "[nltk_data]     Capstone/Capstone\n",
      "[nltk_data]     VS/MADS_Capstone/.venv/lib/nltk_data...\n",
      "[nltk_data]   Package stopwords is already up-to-date!\n",
      "[nltk_data] Downloading package wordnet to\n",
      "[nltk_data]     /Users/lauralyns/Documents/MADS/SIADS 699 -\n",
      "[nltk_data]     Capstone/Capstone\n",
      "[nltk_data]     VS/MADS_Capstone/.venv/lib/nltk_data...\n",
      "[nltk_data]   Package wordnet is already up-to-date!\n"
     ]
    }
   ],
   "source": [
    "import sys\n",
    "import pandas as pd\n",
    "import matplotlib.pyplot as plt\n",
    "import seaborn as sns\n",
    "import pickle\n",
    "import time\n",
    "\n",
    "sys.path.insert(0,'../')\n",
    "from environment import env\n",
    "config = env.env()\n",
    "\n",
    "#Import Models\n",
    "sys.path.insert(0,'../03_nps_models')\n",
    "from model_functions.tfidf_model import *\n",
    "from model_functions.spacy_model import *\n",
    "from model_functions.nltk_model import *\n",
    "#from model_functions.gpt_model_functions import *\n",
    "from model_functions import gpt_model_functions"
   ]
  },
  {
   "cell_type": "code",
   "execution_count": 78,
   "metadata": {},
   "outputs": [
    {
     "data": {
      "text/plain": [
       "4.52175"
      ]
     },
     "execution_count": 78,
     "metadata": {},
     "output_type": "execute_result"
    }
   ],
   "source": [
    ".03*30145/200"
   ]
  },
  {
   "cell_type": "code",
   "execution_count": 46,
   "metadata": {},
   "outputs": [
    {
     "data": {
      "text/plain": [
       "28.34145299145299"
      ]
     },
     "execution_count": 46,
     "metadata": {},
     "output_type": "execute_result"
    }
   ],
   "source": [
    ".11*30145/117"
   ]
  },
  {
   "cell_type": "markdown",
   "metadata": {},
   "source": [
    "Test Data"
   ]
  },
  {
   "cell_type": "code",
   "execution_count": 4,
   "metadata": {},
   "outputs": [
    {
     "data": {
      "text/html": [
       "<div>\n",
       "<style scoped>\n",
       "    .dataframe tbody tr th:only-of-type {\n",
       "        vertical-align: middle;\n",
       "    }\n",
       "\n",
       "    .dataframe tbody tr th {\n",
       "        vertical-align: top;\n",
       "    }\n",
       "\n",
       "    .dataframe thead th {\n",
       "        text-align: right;\n",
       "    }\n",
       "</style>\n",
       "<table border=\"1\" class=\"dataframe\">\n",
       "  <thead>\n",
       "    <tr style=\"text-align: right;\">\n",
       "      <th></th>\n",
       "      <th>query</th>\n",
       "      <th>intent</th>\n",
       "      <th>endpoint</th>\n",
       "      <th>parkcode</th>\n",
       "    </tr>\n",
       "  </thead>\n",
       "  <tbody>\n",
       "    <tr>\n",
       "      <th>27641</th>\n",
       "      <td>What are the fees for visiting Virgin Islands ...</td>\n",
       "      <td>feespass</td>\n",
       "      <td>feespasses</td>\n",
       "      <td>vicr</td>\n",
       "    </tr>\n",
       "    <tr>\n",
       "      <th>15777</th>\n",
       "      <td>What is available at Denali National Park &amp; Pr...</td>\n",
       "      <td>amenities</td>\n",
       "      <td>amenities</td>\n",
       "      <td>dena</td>\n",
       "    </tr>\n",
       "    <tr>\n",
       "      <th>24454</th>\n",
       "      <td>What events are scheduled at Lower Delaware?</td>\n",
       "      <td>events</td>\n",
       "      <td>events</td>\n",
       "      <td>lode</td>\n",
       "    </tr>\n",
       "    <tr>\n",
       "      <th>6328</th>\n",
       "      <td>What is the address of Saint Paul's Church</td>\n",
       "      <td>address</td>\n",
       "      <td>parks</td>\n",
       "      <td>sapa</td>\n",
       "    </tr>\n",
       "    <tr>\n",
       "      <th>28771</th>\n",
       "      <td>What are the fees for visiting Grant-Kohrs Ranch</td>\n",
       "      <td>feespass</td>\n",
       "      <td>feespasses</td>\n",
       "      <td>grko</td>\n",
       "    </tr>\n",
       "  </tbody>\n",
       "</table>\n",
       "</div>"
      ],
      "text/plain": [
       "                                                   query     intent  \\\n",
       "27641  What are the fees for visiting Virgin Islands ...   feespass   \n",
       "15777  What is available at Denali National Park & Pr...  amenities   \n",
       "24454       What events are scheduled at Lower Delaware?     events   \n",
       "6328          What is the address of Saint Paul's Church    address   \n",
       "28771   What are the fees for visiting Grant-Kohrs Ranch   feespass   \n",
       "\n",
       "         endpoint parkcode  \n",
       "27641  feespasses     vicr  \n",
       "15777   amenities     dena  \n",
       "24454      events     lode  \n",
       "6328        parks     sapa  \n",
       "28771  feespasses     grko  "
      ]
     },
     "execution_count": 4,
     "metadata": {},
     "output_type": "execute_result"
    }
   ],
   "source": [
    "test_data = pd.read_csv('../02_nps_api_data/testing_queries.csv')\n",
    "test_data.columns = ['query', 'intent', 'endpoint', 'parkcode']\n",
    "#Shuffling the Dataframe so that it will still be a random sample if it reaches OpenAI API or cost limits.\n",
    "test_data = test_data.sample(frac=1, random_state=42)\n",
    "test_data.head()"
   ]
  },
  {
   "cell_type": "code",
   "execution_count": 3,
   "metadata": {},
   "outputs": [
    {
     "data": {
      "text/plain": [
       "30144"
      ]
     },
     "execution_count": 3,
     "metadata": {},
     "output_type": "execute_result"
    }
   ],
   "source": [
    "len(test_data)"
   ]
  },
  {
   "cell_type": "markdown",
   "metadata": {},
   "source": [
    "Models"
   ]
  },
  {
   "cell_type": "code",
   "execution_count": 5,
   "metadata": {},
   "outputs": [],
   "source": [
    "spacy_model = spacy_model_functions #from spacy_model.py\n",
    "nltk_model = nltk_model #from nltk_model.py\n",
    "tfidf_model = tfidf_model #from nltk_model.py\n",
    "gpt_model = gpt_model_functions #from gpt_model_functions.py\n",
    "\n",
    "models = {'gpt': gpt_model,\n",
    "          'spacy': spacy_model, \n",
    "          'nltk' : nltk_model,\n",
    "          'tfidf': tfidf_model,\n",
    "          }"
   ]
  },
  {
   "cell_type": "markdown",
   "metadata": {},
   "source": [
    "Test Output"
   ]
  },
  {
   "cell_type": "code",
   "execution_count": 7,
   "metadata": {},
   "outputs": [],
   "source": [
    "def test_output(query, models):\n",
    "    for model in models:\n",
    "        start = time.time()\n",
    "        endpoint, park_code, intent = models[model].get_params(query)\n",
    "        stop = time.time()\n",
    "        duration = stop-start\n",
    "        print(model, ':', endpoint, park_code, intent, round(duration,3), 'sec')"
   ]
  },
  {
   "cell_type": "code",
   "execution_count": 8,
   "metadata": {},
   "outputs": [
    {
     "name": "stdout",
     "output_type": "stream",
     "text": [
      "gpt : parks grsp state 2.272 sec\n",
      "spacy : parks grsp state 0.026 sec\n",
      "nltk : parks grsp state 0.03 sec\n",
      "tfidf : parks grsp state 0.02 sec\n"
     ]
    }
   ],
   "source": [
    "query = 'What state is Green Springs in?'\n",
    "test_output(query, models)"
   ]
  },
  {
   "cell_type": "code",
   "execution_count": 16,
   "metadata": {},
   "outputs": [
    {
     "name": "stdout",
     "output_type": "stream",
     "text": [
      "gpt : amenities zion amenities 1.928 sec\n",
      "spacy : parks None other 0.014 sec\n",
      "nltk : parks None other 0.044 sec\n",
      "tfidf : amenities zion amenities 0.017 sec\n"
     ]
    }
   ],
   "source": [
    "query = 'List the amenities at Zion'\n",
    "test_output(query, models)"
   ]
  },
  {
   "cell_type": "code",
   "execution_count": 17,
   "metadata": {},
   "outputs": [
    {
     "name": "stdout",
     "output_type": "stream",
     "text": [
      "gpt : fees yose feespass 2.142 sec\n",
      "spacy : parks None other 0.015 sec\n",
      "nltk : parks None other 0.048 sec\n",
      "tfidf : feespasses yose feespass 0.016 sec\n"
     ]
    }
   ],
   "source": [
    "query = 'What is the fee for Yosemite?'\n",
    "test_output(query, models)"
   ]
  },
  {
   "cell_type": "code",
   "execution_count": 5,
   "metadata": {},
   "outputs": [
    {
     "name": "stdout",
     "output_type": "stream",
     "text": [
      "gpt : events cany events 1.757 sec\n",
      "spacy : parks None other 0.02 sec\n",
      "nltk : parks None other 0.044 sec\n",
      "tfidf : events cany events 0.017 sec\n"
     ]
    }
   ],
   "source": [
    "query = 'What activities are at canyonlands?'\n",
    "test_output(query, models)"
   ]
  },
  {
   "cell_type": "code",
   "execution_count": 6,
   "metadata": {},
   "outputs": [
    {
     "name": "stdout",
     "output_type": "stream",
     "text": [
      "gpt : amenities cany feespass 2.144 sec\n",
      "spacy : parks None other 0.015 sec\n",
      "nltk : parks None other 0.043 sec\n",
      "tfidf : alerts cany alerts 0.017 sec\n"
     ]
    }
   ],
   "source": [
    "query = 'What can you do at canyonlands?'\n",
    "test_output(query, models)"
   ]
  },
  {
   "cell_type": "code",
   "execution_count": 7,
   "metadata": {},
   "outputs": [
    {
     "name": "stdout",
     "output_type": "stream",
     "text": [
      "gpt : alerts brca alerts 1.577 sec\n",
      "spacy : parks None other 0.014 sec\n",
      "nltk : parks None other 0.043 sec\n",
      "tfidf : alerts brca alerts 0.021 sec\n"
     ]
    }
   ],
   "source": [
    "query = 'What alerts are at bryce?'\n",
    "test_output(query, models)"
   ]
  },
  {
   "cell_type": "markdown",
   "metadata": {},
   "source": [
    "Create Test Output Data Frame"
   ]
  },
  {
   "cell_type": "code",
   "execution_count": 9,
   "metadata": {},
   "outputs": [],
   "source": [
    "def create_test_data (query_df, models, n=0):\n",
    "    \"\"\" Input: query_df is test data in a data frame with query, intent, endpoing, and parkcode\n",
    "            models is a dictionary with model names as keys and models as values for models to be tested\n",
    "            n is an optional parameter, which allows testing to resume from partway through if necessary\n",
    "        Output:  test_df is the test data frame with predicted intent, endpoint and parkcode, for each model saved to test_data.pkl file as well\n",
    "            times is a ? of the times it took for each 1k iteration of queries for each model tested\n",
    "    \"\"\"\n",
    "        \n",
    "    while n < len(query_df):\n",
    "        segment_df = query_df[n:n+1000]\n",
    "        segment_time = []\n",
    "        for model in models:\n",
    "            start = time.time()\n",
    "            tempt_df = segment_df.apply(lambda x: models[model].get_params(x['query']), result_type='expand', axis=1)\n",
    "            stop = time.time()\n",
    "            \n",
    "            tempt_df.columns = [f'{model}_endpoint', f'{model}_parkcode', f'{model}_intent']\n",
    "            segment_df = pd.concat([segment_df, tempt_df], axis=1)\n",
    "            segment_df = segment_df.fillna('none')\n",
    "        \n",
    "            segment_time.append((stop-start)/len(segment_df))\n",
    "     \n",
    "        if n ==0:\n",
    "            test_df = segment_df\n",
    "            times = pd.DataFrame(columns=models.keys())\n",
    "        else:\n",
    "            test_df = pd.read_pickle('test_data.pkl')\n",
    "            test_df = pd.concat([test_df, segment_df], axis=0)\n",
    "            times = pd.read_pickle('times.pkl')\n",
    "            \n",
    "        times.loc[n] = segment_time\n",
    "        test_df.to_pickle('test_data.pkl')\n",
    "        times.to_pickle('times.pkl')\n",
    "        n=n+1000\n",
    "        print(n, 'completed')"
   ]
  },
  {
   "cell_type": "code",
   "execution_count": 1,
   "metadata": {},
   "outputs": [],
   "source": [
    "#Only run if test_data.pkl and times.pkl do not exits\n",
    "#Takes 15+ hours to run and costs ~$25 dollars through OpenAI calls\n",
    "\n",
    "#create_test_data(test_data, models)\n"
   ]
  },
  {
   "cell_type": "code",
   "execution_count": 8,
   "metadata": {},
   "outputs": [
    {
     "data": {
      "text/html": [
       "<div>\n",
       "<style scoped>\n",
       "    .dataframe tbody tr th:only-of-type {\n",
       "        vertical-align: middle;\n",
       "    }\n",
       "\n",
       "    .dataframe tbody tr th {\n",
       "        vertical-align: top;\n",
       "    }\n",
       "\n",
       "    .dataframe thead th {\n",
       "        text-align: right;\n",
       "    }\n",
       "</style>\n",
       "<table border=\"1\" class=\"dataframe\">\n",
       "  <thead>\n",
       "    <tr style=\"text-align: right;\">\n",
       "      <th></th>\n",
       "      <th>gpt</th>\n",
       "      <th>spacy</th>\n",
       "      <th>nltk</th>\n",
       "      <th>tfidf</th>\n",
       "    </tr>\n",
       "  </thead>\n",
       "  <tbody>\n",
       "    <tr>\n",
       "      <th>1000</th>\n",
       "      <td>1.901767</td>\n",
       "      <td>0.009635</td>\n",
       "      <td>0.026306</td>\n",
       "      <td>0.014053</td>\n",
       "    </tr>\n",
       "    <tr>\n",
       "      <th>2000</th>\n",
       "      <td>1.904685</td>\n",
       "      <td>0.011351</td>\n",
       "      <td>0.025409</td>\n",
       "      <td>0.014472</td>\n",
       "    </tr>\n",
       "  </tbody>\n",
       "</table>\n",
       "</div>"
      ],
      "text/plain": [
       "           gpt     spacy      nltk     tfidf\n",
       "1000  1.901767  0.009635  0.026306  0.014053\n",
       "2000  1.904685  0.011351  0.025409  0.014472"
      ]
     },
     "execution_count": 8,
     "metadata": {},
     "output_type": "execute_result"
    }
   ],
   "source": [
    "times = pd.read_pickle('times.pkl')\n",
    "times.head(2)"
   ]
  },
  {
   "cell_type": "code",
   "execution_count": 9,
   "metadata": {},
   "outputs": [
    {
     "name": "stdout",
     "output_type": "stream",
     "text": [
      "30144\n"
     ]
    },
    {
     "data": {
      "text/html": [
       "<div>\n",
       "<style scoped>\n",
       "    .dataframe tbody tr th:only-of-type {\n",
       "        vertical-align: middle;\n",
       "    }\n",
       "\n",
       "    .dataframe tbody tr th {\n",
       "        vertical-align: top;\n",
       "    }\n",
       "\n",
       "    .dataframe thead th {\n",
       "        text-align: right;\n",
       "    }\n",
       "</style>\n",
       "<table border=\"1\" class=\"dataframe\">\n",
       "  <thead>\n",
       "    <tr style=\"text-align: right;\">\n",
       "      <th></th>\n",
       "      <th>query</th>\n",
       "      <th>intent</th>\n",
       "      <th>endpoint</th>\n",
       "      <th>parkcode</th>\n",
       "      <th>gpt_endpoint</th>\n",
       "      <th>gpt_parkcode</th>\n",
       "      <th>gpt_intent</th>\n",
       "      <th>spacy_endpoint</th>\n",
       "      <th>spacy_parkcode</th>\n",
       "      <th>spacy_intent</th>\n",
       "      <th>nltk_endpoint</th>\n",
       "      <th>nltk_parkcode</th>\n",
       "      <th>nltk_intent</th>\n",
       "      <th>tfidf_endpoint</th>\n",
       "      <th>tfidf_parkcode</th>\n",
       "      <th>tfidf_intent</th>\n",
       "    </tr>\n",
       "  </thead>\n",
       "  <tbody>\n",
       "    <tr>\n",
       "      <th>27641</th>\n",
       "      <td>What are the fees for visiting Virgin Islands ...</td>\n",
       "      <td>feespass</td>\n",
       "      <td>feespasses</td>\n",
       "      <td>vicr</td>\n",
       "      <td>fees</td>\n",
       "      <td>vicr</td>\n",
       "      <td>feespass</td>\n",
       "      <td>parks</td>\n",
       "      <td>vicr</td>\n",
       "      <td>other</td>\n",
       "      <td>parks</td>\n",
       "      <td>vicr</td>\n",
       "      <td>other</td>\n",
       "      <td>feespasses</td>\n",
       "      <td>vicr</td>\n",
       "      <td>feespass</td>\n",
       "    </tr>\n",
       "    <tr>\n",
       "      <th>15777</th>\n",
       "      <td>What is available at Denali National Park &amp; Pr...</td>\n",
       "      <td>amenities</td>\n",
       "      <td>amenities</td>\n",
       "      <td>dena</td>\n",
       "      <td>amenities</td>\n",
       "      <td>dena</td>\n",
       "      <td>amenities</td>\n",
       "      <td>parks</td>\n",
       "      <td>dena</td>\n",
       "      <td>other</td>\n",
       "      <td>parks</td>\n",
       "      <td>dena</td>\n",
       "      <td>other</td>\n",
       "      <td>amenities</td>\n",
       "      <td>dena</td>\n",
       "      <td>amenities</td>\n",
       "    </tr>\n",
       "  </tbody>\n",
       "</table>\n",
       "</div>"
      ],
      "text/plain": [
       "                                                   query     intent  \\\n",
       "27641  What are the fees for visiting Virgin Islands ...   feespass   \n",
       "15777  What is available at Denali National Park & Pr...  amenities   \n",
       "\n",
       "         endpoint parkcode gpt_endpoint gpt_parkcode gpt_intent  \\\n",
       "27641  feespasses     vicr         fees         vicr   feespass   \n",
       "15777   amenities     dena    amenities         dena  amenities   \n",
       "\n",
       "      spacy_endpoint spacy_parkcode spacy_intent nltk_endpoint nltk_parkcode  \\\n",
       "27641          parks           vicr        other         parks          vicr   \n",
       "15777          parks           dena        other         parks          dena   \n",
       "\n",
       "      nltk_intent tfidf_endpoint tfidf_parkcode tfidf_intent  \n",
       "27641       other     feespasses           vicr     feespass  \n",
       "15777       other      amenities           dena    amenities  "
      ]
     },
     "execution_count": 9,
     "metadata": {},
     "output_type": "execute_result"
    }
   ],
   "source": [
    "test_data = pd.read_pickle('test_data.pkl')\n",
    "print(len(test_data))\n",
    "test_data.head(2)"
   ]
  },
  {
   "cell_type": "markdown",
   "metadata": {},
   "source": [
    "Model Accuracy"
   ]
  },
  {
   "cell_type": "code",
   "execution_count": 11,
   "metadata": {},
   "outputs": [],
   "source": [
    "metrics = ['intent', 'endpoint', 'parkcode']"
   ]
  },
  {
   "cell_type": "code",
   "execution_count": 12,
   "metadata": {},
   "outputs": [],
   "source": [
    "def plot_accuracy(df, metric): \n",
    "    plt.figure(figsize=(10, 6))\n",
    "    sns.barplot(data=df[metric], palette='YlGn')\n",
    "    plt.xlabel('API Model')\n",
    "    plt.ylabel('Accuracy')\n",
    "    plt.title(f'Model Accuracy on {metric.capitalize()}')\n",
    "    plt.show()"
   ]
  },
  {
   "cell_type": "code",
   "execution_count": 13,
   "metadata": {},
   "outputs": [
    {
     "name": "stderr",
     "output_type": "stream",
     "text": [
      "/var/folders/lq/0q3fzmb57s3c187k6gjyx3_00000gn/T/ipykernel_70290/3266048973.py:3: FutureWarning: \n",
      "\n",
      "Passing `palette` without assigning `hue` is deprecated and will be removed in v0.14.0. Assign the `x` variable to `hue` and set `legend=False` for the same effect.\n",
      "\n",
      "  sns.barplot(data=df[metric], palette='YlGn')\n"
     ]
    },
    {
     "data": {
      "image/png": "[encoded data removed]",
      "text/plain": [
       "<Figure size 1000x600 with 1 Axes>"
      ]
     },
     "metadata": {},
     "output_type": "display_data"
    },
    {
     "name": "stderr",
     "output_type": "stream",
     "text": [
      "/var/folders/lq/0q3fzmb57s3c187k6gjyx3_00000gn/T/ipykernel_70290/3266048973.py:3: FutureWarning: \n",
      "\n",
      "Passing `palette` without assigning `hue` is deprecated and will be removed in v0.14.0. Assign the `x` variable to `hue` and set `legend=False` for the same effect.\n",
      "\n",
      "  sns.barplot(data=df[metric], palette='YlGn')\n"
     ]
    },
    {
     "data": {
      "image/png": "[encoded data removed]",
      "text/plain": [
       "<Figure size 1000x600 with 1 Axes>"
      ]
     },
     "metadata": {},
     "output_type": "display_data"
    },
    {
     "name": "stderr",
     "output_type": "stream",
     "text": [
      "/var/folders/lq/0q3fzmb57s3c187k6gjyx3_00000gn/T/ipykernel_70290/3266048973.py:3: FutureWarning: \n",
      "\n",
      "Passing `palette` without assigning `hue` is deprecated and will be removed in v0.14.0. Assign the `x` variable to `hue` and set `legend=False` for the same effect.\n",
      "\n",
      "  sns.barplot(data=df[metric], palette='YlGn')\n"
     ]
    },
    {
     "data": {
      "image/png": "[encoded data removed]",
      "text/plain": [
       "<Figure size 1000x600 with 1 Axes>"
      ]
     },
     "metadata": {},
     "output_type": "display_data"
    }
   ],
   "source": [
    "def model_accuracy (df, metrics, models):\n",
    "    acc_df = pd.DataFrame(columns = metrics)\n",
    "    for metric in metrics:\n",
    "        for model in models:\n",
    "            acc_df.loc[model,metric] = len(df.query(f'{metric}=={model}_{metric}'))/len(df)\n",
    "        plot_accuracy(acc_df, metric)\n",
    "    return acc_df\n",
    "\n",
    "accuracy_df = model_accuracy(test_data, metrics, models)\n",
    "\n"
   ]
  },
  {
   "cell_type": "code",
   "execution_count": 14,
   "metadata": {},
   "outputs": [
    {
     "data": {
      "text/html": [
       "<div>\n",
       "<style scoped>\n",
       "    .dataframe tbody tr th:only-of-type {\n",
       "        vertical-align: middle;\n",
       "    }\n",
       "\n",
       "    .dataframe tbody tr th {\n",
       "        vertical-align: top;\n",
       "    }\n",
       "\n",
       "    .dataframe thead th {\n",
       "        text-align: right;\n",
       "    }\n",
       "</style>\n",
       "<table border=\"1\" class=\"dataframe\">\n",
       "  <thead>\n",
       "    <tr style=\"text-align: right;\">\n",
       "      <th></th>\n",
       "      <th>intent</th>\n",
       "      <th>endpoint</th>\n",
       "      <th>parkcode</th>\n",
       "    </tr>\n",
       "  </thead>\n",
       "  <tbody>\n",
       "    <tr>\n",
       "      <th>gpt</th>\n",
       "      <td>0.93541</td>\n",
       "      <td>0.843451</td>\n",
       "      <td>0.955381</td>\n",
       "    </tr>\n",
       "    <tr>\n",
       "      <th>spacy</th>\n",
       "      <td>0.0625</td>\n",
       "      <td>0.34375</td>\n",
       "      <td>0.528331</td>\n",
       "    </tr>\n",
       "    <tr>\n",
       "      <th>nltk</th>\n",
       "      <td>0.0625</td>\n",
       "      <td>0.34375</td>\n",
       "      <td>0.498938</td>\n",
       "    </tr>\n",
       "    <tr>\n",
       "      <th>tfidf</th>\n",
       "      <td>0.905719</td>\n",
       "      <td>0.999768</td>\n",
       "      <td>0.991076</td>\n",
       "    </tr>\n",
       "  </tbody>\n",
       "</table>\n",
       "</div>"
      ],
      "text/plain": [
       "         intent  endpoint  parkcode\n",
       "gpt     0.93541  0.843451  0.955381\n",
       "spacy    0.0625   0.34375  0.528331\n",
       "nltk     0.0625   0.34375  0.498938\n",
       "tfidf  0.905719  0.999768  0.991076"
      ]
     },
     "execution_count": 14,
     "metadata": {},
     "output_type": "execute_result"
    }
   ],
   "source": [
    "accuracy_df"
   ]
  },
  {
   "cell_type": "markdown",
   "metadata": {},
   "source": [
    "Model Run Times"
   ]
  },
  {
   "cell_type": "code",
   "execution_count": 45,
   "metadata": {},
   "outputs": [
    {
     "name": "stdout",
     "output_type": "stream",
     "text": [
      "gpt : 1.907 seconds\n",
      "spacy : 0.009 seconds\n",
      "nltk : 0.024 seconds\n",
      "tfidf : 0.013 seconds\n"
     ]
    }
   ],
   "source": [
    "#As time itself is not quite a true timing of call as it includes time for the lambda apply dataframe function, model\n",
    "# run times average is taken from simple average of the average time each iteration took, with equal weight to 100k and the last 144 size run\n",
    "for idx,time in enumerate(times.mean()):\n",
    "    print (times.columns[idx], ':', round(time,3), 'seconds')\n"
   ]
  },
  {
   "cell_type": "markdown",
   "metadata": {},
   "source": [
    "Model Costs"
   ]
  },
  {
   "cell_type": "code",
   "execution_count": 49,
   "metadata": {},
   "outputs": [
    {
     "name": "stdout",
     "output_type": "stream",
     "text": [
      "Cost per call: 0.0008035959374142191\n",
      "Cost per 1000: 0.8035959374142191\n"
     ]
    }
   ],
   "source": [
    "#Calculation for call average on for 1000 to 30144, as first call ran into an error after unknown number of calls\n",
    "OpenAI_costs = 25.32 - 1.90\n",
    "calls = 30144 - 1000\n",
    "cost_per_call = OpenAI_costs  / calls\n",
    "cost_per_1000 = cost_per_call * 1000\n",
    "print('Cost per call:', cost_per_call)\n",
    "print('Cost per 1000:', cost_per_1000)\n"
   ]
  },
  {
   "cell_type": "markdown",
   "metadata": {},
   "source": [
    "Model Errors"
   ]
  },
  {
   "cell_type": "code",
   "execution_count": 15,
   "metadata": {},
   "outputs": [
    {
     "data": {
      "text/html": [
       "<div>\n",
       "<style scoped>\n",
       "    .dataframe tbody tr th:only-of-type {\n",
       "        vertical-align: middle;\n",
       "    }\n",
       "\n",
       "    .dataframe tbody tr th {\n",
       "        vertical-align: top;\n",
       "    }\n",
       "\n",
       "    .dataframe thead th {\n",
       "        text-align: right;\n",
       "    }\n",
       "</style>\n",
       "<table border=\"1\" class=\"dataframe\">\n",
       "  <thead>\n",
       "    <tr style=\"text-align: right;\">\n",
       "      <th></th>\n",
       "      <th>intent</th>\n",
       "      <th>endpoint</th>\n",
       "      <th>parkcode</th>\n",
       "    </tr>\n",
       "  </thead>\n",
       "  <tbody>\n",
       "    <tr>\n",
       "      <th>all_right</th>\n",
       "      <td>942</td>\n",
       "      <td>10351</td>\n",
       "      <td>15234</td>\n",
       "    </tr>\n",
       "    <tr>\n",
       "      <th>all_wrong</th>\n",
       "      <td>957</td>\n",
       "      <td>0</td>\n",
       "      <td>4</td>\n",
       "    </tr>\n",
       "    <tr>\n",
       "      <th>only_gpt</th>\n",
       "      <td>943</td>\n",
       "      <td>2</td>\n",
       "      <td>231</td>\n",
       "    </tr>\n",
       "    <tr>\n",
       "      <th>spacy_and_tfidf</th>\n",
       "      <td>658</td>\n",
       "      <td>658</td>\n",
       "      <td>658</td>\n",
       "    </tr>\n",
       "    <tr>\n",
       "      <th>only_spacy</th>\n",
       "      <td>0</td>\n",
       "      <td>0</td>\n",
       "      <td>0</td>\n",
       "    </tr>\n",
       "    <tr>\n",
       "      <th>gpt_and_tfidf</th>\n",
       "      <td>13300</td>\n",
       "      <td>13300</td>\n",
       "      <td>13300</td>\n",
       "    </tr>\n",
       "    <tr>\n",
       "      <th>only_tfidf</th>\n",
       "      <td>990</td>\n",
       "      <td>4713</td>\n",
       "      <td>683</td>\n",
       "    </tr>\n",
       "    <tr>\n",
       "      <th>gpt_and_spacy</th>\n",
       "      <td>34</td>\n",
       "      <td>34</td>\n",
       "      <td>34</td>\n",
       "    </tr>\n",
       "  </tbody>\n",
       "</table>\n",
       "</div>"
      ],
      "text/plain": [
       "                intent endpoint parkcode\n",
       "all_right          942    10351    15234\n",
       "all_wrong          957        0        4\n",
       "only_gpt           943        2      231\n",
       "spacy_and_tfidf    658      658      658\n",
       "only_spacy           0        0        0\n",
       "gpt_and_tfidf    13300    13300    13300\n",
       "only_tfidf         990     4713      683\n",
       "gpt_and_spacy       34       34       34"
      ]
     },
     "execution_count": 15,
     "metadata": {},
     "output_type": "execute_result"
    }
   ],
   "source": [
    "def top_errors (df, metrics, models):\n",
    "    errors_df = pd.DataFrame(columns = metrics)\n",
    "    for metric in metrics:\n",
    "        right = '&'.join([f'{metric}=={model}_{metric}' for model in models])\n",
    "        wrong = '&'.join([f'{metric}!={model}_{metric}' for model in models])\n",
    "        #errors_df.loc['total', metric] = len(df)\n",
    "        errors_df.loc['all_right', metric] = len(df.query(right))\n",
    "        errors_df.loc['all_wrong', metric] = len(df.query(wrong))\n",
    "        for indx, model in enumerate(models):\n",
    "            other_models = models[:indx]+models[indx+1:]\n",
    "            right_model = '&'.join([f'{metric}=={model}_{metric}']+[f'{metric}!={mod}_{metric}' for mod in other_models])\n",
    "            wrong_model = '&'.join([f'{metric}!={model}_{metric}']+[f'{metric}=={mod}_{metric}' for mod in other_models])\n",
    "            errors_df.loc[f'only_{model}', metric] = len(df.query(right_model))\n",
    "            errors_df.loc['_and_'.join([mod for mod in other_models])] = len(df.query(wrong_model))\n",
    "    return errors_df\n",
    "\n",
    "errors = top_errors(test_data, ['intent', 'endpoint', 'parkcode'], ['gpt', 'spacy', 'tfidf'])\n",
    "errors"
   ]
  },
  {
   "cell_type": "code",
   "execution_count": 16,
   "metadata": {},
   "outputs": [],
   "source": [
    "def plot_errors(error_df):\n",
    "    for metric in error_df.columns:\n",
    "        colors = sns.color_palette('YlGn')[1:8]\n",
    "        plt.figure(figsize=(10, 7))\n",
    "        temp_df = error_df.query(f'{metric}>0')\n",
    "        plt.pie(temp_df[metric], labels=temp_df.index, colors=colors, autopct='%1.1f%%')\n",
    "        plt.title(f'Accurate Outcomes for {metric.capitalize()}')\n",
    "        plt.show()"
   ]
  },
  {
   "cell_type": "code",
   "execution_count": 17,
   "metadata": {},
   "outputs": [
    {
     "data": {
      "image/png": "[encoded data removed]",
      "text/plain": [
       "<Figure size 1000x700 with 1 Axes>"
      ]
     },
     "metadata": {},
     "output_type": "display_data"
    },
    {
     "data": {
      "image/png": "[encoded data removed]",
      "text/plain": [
       "<Figure size 1000x700 with 1 Axes>"
      ]
     },
     "metadata": {},
     "output_type": "display_data"
    },
    {
     "data": {
      "image/png": "[encoded data removed]",
      "text/plain": [
       "<Figure size 1000x700 with 1 Axes>"
      ]
     },
     "metadata": {},
     "output_type": "display_data"
    }
   ],
   "source": [
    "plot_errors(errors)"
   ]
  },
  {
   "cell_type": "code",
   "execution_count": 18,
   "metadata": {},
   "outputs": [],
   "source": [
    "def find_wrong(df, metric, model):\n",
    "    wrong = df.query(f'{metric}!={model}_{metric}')\n",
    "    wrong = wrong[[metric, f'{model}_{metric}']].value_counts()\n",
    "\n",
    "    return wrong"
   ]
  },
  {
   "cell_type": "code",
   "execution_count": 19,
   "metadata": {},
   "outputs": [
    {
     "data": {
      "text/plain": [
       "intent       gpt_intent \n",
       "fullname     alerts         933\n",
       "description  state          749\n",
       "             alerts         138\n",
       "address      state           80\n",
       "description  address         19\n",
       "fullname     address          5\n",
       "amenities    itiesities       4\n",
       "description  error            4\n",
       "amenities    error            3\n",
       "description  information      3\n",
       "amenities    alerts           2\n",
       "fullname     description      2\n",
       "             state            2\n",
       "amenities    amen             1\n",
       "description  fe               1\n",
       "             ities            1\n",
       "Name: count, dtype: int64"
      ]
     },
     "execution_count": 19,
     "metadata": {},
     "output_type": "execute_result"
    }
   ],
   "source": [
    "find_wrong(test_data, 'intent', 'gpt')"
   ]
  },
  {
   "cell_type": "code",
   "execution_count": 20,
   "metadata": {},
   "outputs": [
    {
     "data": {
      "text/plain": [
       "endpoint    gpt_endpoint   \n",
       "feespasses  fees               4708\n",
       "alerts      warnings              2\n",
       "parks       amenities             2\n",
       "events      :endpoint:            1\n",
       "feespasses  :passespasses         1\n",
       "            passesendpoint:       1\n",
       "parks       affiliates            1\n",
       "            alerts                1\n",
       "            fees                  1\n",
       "            grants                1\n",
       "Name: count, dtype: int64"
      ]
     },
     "execution_count": 20,
     "metadata": {},
     "output_type": "execute_result"
    }
   ],
   "source": [
    "find_wrong(test_data, 'endpoint', 'gpt')"
   ]
  },
  {
   "cell_type": "code",
   "execution_count": 21,
   "metadata": {},
   "outputs": [
    {
     "data": {
      "text/plain": [
       "parkcode  gpt_parkcode\n",
       "brcr      brc             64\n",
       "cakr      cak             64\n",
       "wicr      wic             64\n",
       "tuzi      tuz             64\n",
       "pefo      pef             64\n",
       "olym      oly             64\n",
       "ocmu      ocm             64\n",
       "npsa      nps             64\n",
       "kefj      kef             64\n",
       "kaww      kaw             64\n",
       "jomu      jom             64\n",
       "jofl      jof             64\n",
       "hofu      hof             64\n",
       "hofr      hof             64\n",
       "fopu      fop             64\n",
       "fomr      fom             64\n",
       "fomc      fom             64\n",
       "fofr      fof             64\n",
       "fobu      fob             64\n",
       "cawo      caw             64\n",
       "yuho      yu              64\n",
       "mima      cama             1\n",
       "Name: count, dtype: int64"
      ]
     },
     "execution_count": 21,
     "metadata": {},
     "output_type": "execute_result"
    }
   ],
   "source": [
    "find_wrong(test_data, 'parkcode', 'gpt')"
   ]
  },
  {
   "cell_type": "code",
   "execution_count": 22,
   "metadata": {},
   "outputs": [
    {
     "data": {
      "text/plain": [
       "intent       spacy_intent\n",
       "amenities    other           5634\n",
       "alerts       other           4695\n",
       "events       other           4695\n",
       "feespass     other           4695\n",
       "description  other           3756\n",
       "fullname     other           2817\n",
       "address      other           1878\n",
       "amenities    state             18\n",
       "alerts       state             15\n",
       "events       state             15\n",
       "feespass     state             15\n",
       "description  state             12\n",
       "fullname     state              9\n",
       "address      state              6\n",
       "Name: count, dtype: int64"
      ]
     },
     "execution_count": 22,
     "metadata": {},
     "output_type": "execute_result"
    }
   ],
   "source": [
    "find_wrong(test_data, 'intent', 'spacy')"
   ]
  },
  {
   "cell_type": "code",
   "execution_count": 23,
   "metadata": {},
   "outputs": [
    {
     "data": {
      "text/plain": [
       "endpoint    spacy_endpoint\n",
       "amenities   parks             5652\n",
       "alerts      parks             4710\n",
       "events      parks             4710\n",
       "feespasses  parks             4710\n",
       "Name: count, dtype: int64"
      ]
     },
     "execution_count": 23,
     "metadata": {},
     "output_type": "execute_result"
    }
   ],
   "source": [
    "find_wrong(test_data, 'endpoint', 'spacy')\n"
   ]
  },
  {
   "cell_type": "code",
   "execution_count": 24,
   "metadata": {},
   "outputs": [
    {
     "data": {
      "text/plain": [
       "parkcode  spacy_parkcode\n",
       "adam      none              64\n",
       "camo      none              63\n",
       "glac      none              63\n",
       "lode      none              63\n",
       "voya      none              61\n",
       "                            ..\n",
       "fomc      none              32\n",
       "foma      none              32\n",
       "zion      none              32\n",
       "grfa      none              20\n",
       "kowa      none              20\n",
       "Name: count, Length: 433, dtype: int64"
      ]
     },
     "execution_count": 24,
     "metadata": {},
     "output_type": "execute_result"
    }
   ],
   "source": [
    "find_wrong(test_data, 'parkcode', 'spacy')\n"
   ]
  },
  {
   "cell_type": "code",
   "execution_count": 25,
   "metadata": {},
   "outputs": [
    {
     "data": {
      "text/plain": [
       "intent       nltk_intent\n",
       "amenities    other          5634\n",
       "alerts       other          4695\n",
       "events       other          4695\n",
       "feespass     other          4695\n",
       "description  other          3756\n",
       "fullname     other          2817\n",
       "address      other          1878\n",
       "amenities    state            18\n",
       "alerts       state            15\n",
       "events       state            15\n",
       "feespass     state            15\n",
       "description  state            12\n",
       "fullname     state             9\n",
       "address      state             6\n",
       "Name: count, dtype: int64"
      ]
     },
     "execution_count": 25,
     "metadata": {},
     "output_type": "execute_result"
    }
   ],
   "source": [
    "find_wrong(test_data, 'intent', 'nltk')"
   ]
  },
  {
   "cell_type": "code",
   "execution_count": 26,
   "metadata": {},
   "outputs": [
    {
     "data": {
      "text/plain": [
       "endpoint    nltk_endpoint\n",
       "amenities   parks            5652\n",
       "alerts      parks            4710\n",
       "events      parks            4710\n",
       "feespasses  parks            4710\n",
       "Name: count, dtype: int64"
      ]
     },
     "execution_count": 26,
     "metadata": {},
     "output_type": "execute_result"
    }
   ],
   "source": [
    "find_wrong(test_data, 'endpoint', 'nltk')"
   ]
  },
  {
   "cell_type": "code",
   "execution_count": 27,
   "metadata": {},
   "outputs": [
    {
     "data": {
      "text/plain": [
       "parkcode  nltk_parkcode\n",
       "gwmp      bawa             64\n",
       "natr      bawa             64\n",
       "abli      none             32\n",
       "olsp      none             32\n",
       "okci      none             32\n",
       "                           ..\n",
       "fosc      none             32\n",
       "fora      none             32\n",
       "fopu      none             32\n",
       "fopo      none             32\n",
       "zion      none             32\n",
       "Name: count, Length: 470, dtype: int64"
      ]
     },
     "execution_count": 27,
     "metadata": {},
     "output_type": "execute_result"
    }
   ],
   "source": [
    "find_wrong(test_data, 'parkcode', 'nltk')"
   ]
  },
  {
   "cell_type": "code",
   "execution_count": 28,
   "metadata": {},
   "outputs": [
    {
     "data": {
      "text/plain": [
       "intent       tfidf_intent\n",
       "state        description     942\n",
       "description  fullname        939\n",
       "fullname     description     932\n",
       "description  state            13\n",
       "fullname     state             9\n",
       "description  alerts            3\n",
       "alerts       feespass          2\n",
       "description  feespass          1\n",
       "fullname     alerts            1\n",
       "Name: count, dtype: int64"
      ]
     },
     "execution_count": 28,
     "metadata": {},
     "output_type": "execute_result"
    }
   ],
   "source": [
    "find_wrong(test_data, 'intent', 'tfidf')"
   ]
  },
  {
   "cell_type": "code",
   "execution_count": 29,
   "metadata": {},
   "outputs": [
    {
     "data": {
      "text/plain": [
       "parkcode  tfidf_parkcode\n",
       "cham      lyba              4\n",
       "anac      lyba              4\n",
       "fowa      lyba              4\n",
       "natc      lyba              4\n",
       "bost      lyba              4\n",
       "                           ..\n",
       "colm      lyba              2\n",
       "zion      lyba              2\n",
       "natc      elte              1\n",
       "bost      elca              1\n",
       "colo      elca              1\n",
       "Name: count, Length: 124, dtype: int64"
      ]
     },
     "execution_count": 29,
     "metadata": {},
     "output_type": "execute_result"
    }
   ],
   "source": [
    "find_wrong(test_data, 'parkcode', 'tfidf')"
   ]
  },
  {
   "cell_type": "code",
   "execution_count": 30,
   "metadata": {},
   "outputs": [
    {
     "data": {
      "text/plain": [
       "endpoint  tfidf_endpoint\n",
       "parks     alerts            4\n",
       "alerts    feespasses        2\n",
       "parks     feespasses        1\n",
       "Name: count, dtype: int64"
      ]
     },
     "execution_count": 30,
     "metadata": {},
     "output_type": "execute_result"
    }
   ],
   "source": [
    "find_wrong(test_data, 'endpoint', 'tfidf')"
   ]
  }
 ],
 "metadata": {
  "kernelspec": {
   "display_name": "python38",
   "language": "python",
   "name": "python3"
  },
  "language_info": {
   "codemirror_mode": {
    "name": "ipython",
    "version": 3
   },
   "file_extension": ".py",
   "mimetype": "text/x-python",
   "name": "python",
   "nbconvert_exporter": "python",
   "pygments_lexer": "ipython3",
   "version": "3.11.8"
  }
 },
 "nbformat": 4,
 "nbformat_minor": 2
}
