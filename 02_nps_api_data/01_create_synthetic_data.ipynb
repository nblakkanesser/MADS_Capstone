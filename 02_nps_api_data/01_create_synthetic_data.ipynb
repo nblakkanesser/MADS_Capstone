{
 "cells": [
  {
   "cell_type": "markdown",
   "metadata": {},
   "source": [
    "#### Define Imports"
   ]
  },
  {
   "cell_type": "code",
   "execution_count": 2,
   "metadata": {},
   "outputs": [],
   "source": [
    "import requests\n",
    "import pandas as pd \n",
    "import sys\n",
    "\n",
    "from helper_functions import *\n",
    "park_model, park_vectorizer = park_code_model.trained_model()\n",
    "\n",
    "sys.path.insert(0,'../')\n",
    "from environment import env"
   ]
  },
  {
   "cell_type": "markdown",
   "metadata": {},
   "source": [
    "#### Define Variables"
   ]
  },
  {
   "cell_type": "code",
   "execution_count": 3,
   "metadata": {},
   "outputs": [],
   "source": [
    "config = env.env()\n",
    "nps_api_key = config['nps_api_key']\n",
    "api_base_url = 'https://developer.nps.gov/api/v1/'\n",
    "\n",
    "# Outputs\n",
    "syn_queries = 'synthetic_queries.csv'\n",
    "test_queries = 'testing_queries.csv'\n",
    "parkcode_mapping = 'park_to_parkcode.csv'\n",
    "parkroot_mapping = 'park_to_root.csv'\n",
    "park_mapping = 'parkcode_to_park.csv'"
   ]
  },
  {
   "cell_type": "markdown",
   "metadata": {},
   "source": [
    "#### Define Functions"
   ]
  },
  {
   "cell_type": "code",
   "execution_count": 4,
   "metadata": {},
   "outputs": [],
   "source": [
    "def get_parks(params):\n",
    "    \"\"\"\n",
    "    Use to find a list of all park names, codes, states, addresses and descriptions from the NPS parks endpoint.\n",
    "    Can also be used to find specific park information.\n",
    "    *Chat GPT was used to create the pagination process for the API\n",
    "\n",
    "    params: The param dict to pass through the API call\n",
    "    \"\"\"\n",
    "    parks = []\n",
    "    limit = 50  # Number of results per page, maximum allowed by NPS API\n",
    "    start = 0   # Initial starting point for pagination\n",
    "    \n",
    "    while True:\n",
    "        params['limit'] = limit\n",
    "        params['start'] =  start\n",
    "        \n",
    "        response = requests.get(f\"{api_base_url}parks\", params=params)\n",
    "        data = response.json()\n",
    "        \n",
    "        parks.extend([\n",
    "            {\n",
    "                'fullName': park['fullName'],\n",
    "                'parkCode': park['parkCode'],\n",
    "                'state': park['states'],\n",
    "                'addresses': park.get('addresses', []),\n",
    "                'description': park['description']\n",
    "            } for park in data['data']\n",
    "        ])\n",
    "        \n",
    "        # Move to the next page\n",
    "        start += limit\n",
    "        \n",
    "        # Break the loop if all parks have been retrieved\n",
    "        if int(start) >= int(data['total']):\n",
    "            break\n",
    "    \n",
    "    return parks"
   ]
  },
  {
   "cell_type": "code",
   "execution_count": 5,
   "metadata": {},
   "outputs": [],
   "source": [
    "def create_synthetic_queries(api_key, entities, endpoint, intent, queries):\n",
    "    \"\"\"\n",
    "    Creates synthetic data in the necessary format for a specified API call.\n",
    "\n",
    "    api_key: Personal API key to use in request.\n",
    "    entities: List of items to loop through such as State, Parks, Amentities.\n",
    "    endpoint: the NPS API endpoint to call such as /activities or /parks.\n",
    "    intent: General label for queries in a particular group. \n",
    "            For example, the questions \"Tell me about {park}\" and \"I want to know more about {park}\" could both be categorized with the label \"GetParkInfo\".\n",
    "    queries: A list of queries you would like to associate with a given set of API calls.\n",
    "    * Normalize JSON idea came from: https://stackoverflow.com/questions/46091362/how-to-normalize-json-correctly-by-python-pandas\n",
    "    \"\"\"\n",
    "    dataset = []\n",
    "\n",
    "    for entity in entities:\n",
    "        for query in queries:\n",
    "            # Create API parameters \n",
    "            params = {'api_key': nps_api_key,\n",
    "                    \"parkCode\": park_code_model.map_park_code(query.format(entity=entity), park_model, park_vectorizer)\n",
    "            }\n",
    "            \n",
    "            dataset.append({\n",
    "                \"query\": query.format(entity=entity),\n",
    "                \"intent\": intent,\n",
    "                \"api_call\": {\n",
    "                    \"endpoint\": endpoint,\n",
    "                    \"parkCode\": params[\"parkCode\"]\n",
    "                }\n",
    "            })\n",
    "\n",
    "    synthetic_queries = pd.json_normalize(dataset)\n",
    "    return synthetic_queries\n"
   ]
  },
  {
   "cell_type": "markdown",
   "metadata": {},
   "source": [
    "#### Create Synthetic Data"
   ]
  },
  {
   "cell_type": "code",
   "execution_count": 6,
   "metadata": {},
   "outputs": [],
   "source": [
    "# list of parks\n",
    "parks_df = pd.DataFrame(get_parks({'api_key': nps_api_key}))\n",
    "parks = parks_df['fullName'].tolist()\n",
    "park_codes = parks_df['parkCode'].tolist()\n",
    "park_roots = nps_parks_root.nps_parks_root()\n",
    "\n",
    "park_lookup = dict(zip(parks, park_codes))\n",
    "root_dict = dict(zip(parks, park_roots))\n",
    "\n",
    "# Parks combined is the combination of two lists: The full park names and estimated park name abbreviations that users might use (i.e. Acadia National Park vs Acadia)\n",
    "parks_combined = parks+park_roots"
   ]
  },
  {
   "cell_type": "markdown",
   "metadata": {},
   "source": [
    "#### Training & Validation Data\n",
    "Synthetic data for training and validating API models"
   ]
  },
  {
   "cell_type": "code",
   "execution_count": 7,
   "metadata": {},
   "outputs": [],
   "source": [
    "\n",
    "queries = [\"Tell me about {entity}\",\"Give me a description of {entity}\",\"Describe {entity} to me\",\"What is the description of {entity}?\"]\n",
    "ParkDesc = create_synthetic_queries(nps_api_key, entities = parks_combined, endpoint = \"parks\", intent = \"description\", queries = queries)\n",
    "\n",
    "queries = [\"What is the address of {entity}?\",\"Where is {entity} located?\",\"What is the location of {entity}?\",\"Tell me the address of {entity}\",\"Where can I find {entity}?\",\"Tell me the address of {entity}\"]\n",
    "ParkAddress = create_synthetic_queries(nps_api_key, entities = parks_combined, endpoint = \"parks\", intent = \"address\", queries = queries)\n",
    "\n",
    "queries = [\"Which state is {entity} located in?\",\"In which state can I find {entity}?\",\"What state is {entity} in?\"]\n",
    "ParkState = create_synthetic_queries(nps_api_key, entities = parks_combined, endpoint = \"parks\", intent = \"state\", queries = queries)\n",
    "\n",
    "queries = [\"What is the full name of {entity}?\",\"Can you provide the full name of {entity}?\",\"What is the name of {entity}?\",\"Tell me the name of {entity}\",\"Give me the full name of {entity}\"]\n",
    "ParkName = create_synthetic_queries(nps_api_key, entities = parks_combined, endpoint = \"parks\", intent = \"fullname\", queries = queries)\n",
    "\n",
    "queries = [\n",
    "    \"What alerts are active at {entity} currently?\",\"Are there any current alerts at {entity}?\",\"Tell me the active alerts at {entity}\",\"What are the current alerts for {entity}?\",\n",
    "    \"Which alerts are active in {entity} right now?\",\"List the active alerts at {entity}\",\"Are there any alerts at {entity}?\",\"What are the present alerts for {entity}?\",\n",
    "    \"Can you provide the active alerts for {entity}?\",\"What are the ongoing alerts at {entity}?\"\n",
    "]\n",
    "ParkAlerts = create_synthetic_queries(nps_api_key, entities = parks_combined, endpoint = \"alerts\", intent = \"alerts\", queries = queries)\n",
    "\n",
    "queries = [\n",
    "    \"What amenities exist at {entity}?\",\"Tell me about the amenities at {entity}\",\"What facilities are available at {entity}?\",\"List the amenities at {entity}\",\n",
    "    \"What kind of amenities can I find at {entity}?\",\"What services and facilities does {entity} offer?\",\"What amenities should I expect at {entity}?\",\n",
    "    \"What conveniences are available at {entity}?\",\"What amenities does {entity} have?\",\"What facilities are provided at {entity}?\"\n",
    "]\n",
    "ParkAmenities = create_synthetic_queries(nps_api_key, entities = parks_combined, endpoint = \"amenities\", intent = \"amenities\", queries = queries)\n",
    "\n",
    "queries = [\"What events are happening at {entity}?\",\"Tell me about the events at {entity}\",\"What upcoming events are scheduled at {entity}?\",\n",
    "    \"Are there any events at {entity}?\",\"What kind of events are held at {entity}?\",\"What events can I attend at {entity}?\",\n",
    "    \"Are there any special events at {entity}?\",\"What events are planned at {entity}?\",\"What events are currently happening at {entity}?\",\"What activities and events are there at {entity}?\"\n",
    "]\n",
    "ParkEvents = create_synthetic_queries(nps_api_key, entities = parks_combined, endpoint = \"events\", intent = \"events\", queries = queries)\n",
    "\n",
    "queries = [\n",
    "    \"How much does it cost to get into {entity}?\",\"What is the entry fee for {entity}?\", \"Tell me about the entrance fees for {entity}\",\n",
    "    \"What are the admission fees for {entity}?\",\"Are there any fees to visit {entity}?\",\"What is the cost of admission to {entity}?\",\n",
    "    \"How expensive is it to visit {entity}?\",\"What are the ticket prices for {entity}?\",\"Do I need to pay to enter {entity}?\",\"Are there any charges to access {entity}?\"\n",
    "]\n",
    "ParkFees = create_synthetic_queries(nps_api_key, entities = parks_combined, endpoint = \"feespasses\", intent = \"feespass\", queries = queries)"
   ]
  },
  {
   "cell_type": "code",
   "execution_count": 8,
   "metadata": {},
   "outputs": [],
   "source": [
    "synthetic_queries_df = pd.concat([ParkDesc, ParkAddress, ParkState, ParkName, ParkAlerts, ParkAmenities, ParkEvents, ParkFees], axis=0, ignore_index=True)"
   ]
  },
  {
   "cell_type": "markdown",
   "metadata": {},
   "source": [
    "#### Testing Data\n",
    "Synthetic data for evaluating API model performances"
   ]
  },
  {
   "cell_type": "code",
   "execution_count": 9,
   "metadata": {},
   "outputs": [],
   "source": [
    "\n",
    "queries = [\"Give me information on {entity}\"]#\"What is {entity} like\",\"Can you describe {entity}\", \"Give me information on {entity}\"]\n",
    "ParkDesc = create_synthetic_queries(nps_api_key, entities = parks_combined, endpoint = \"parks\", intent = \"description\", queries = queries)\n",
    "\n",
    "queries = [\"Where is {entity}?\",]#\"What is the address of {entity}\",\"Where is {entity} located?\"]\n",
    "ParkAddress = create_synthetic_queries(nps_api_key, entities = parks_combined, endpoint = \"parks\", intent = \"address\", queries = queries)\n",
    "\n",
    "queries = [\"Tell me the state {entity} is in\"]\n",
    "ParkState = create_synthetic_queries(nps_api_key, entities = parks_combined, endpoint = \"parks\", intent = \"state\", queries = queries)\n",
    "\n",
    "queries = [\"Please provide the full name of {entity}?\"]#,\"What's the real name of {entity}?\",\" {entity}?\"]\n",
    "ParkName = create_synthetic_queries(nps_api_key, entities = parks_combined, endpoint = \"parks\", intent = \"fullname\", queries = queries)\n",
    "\n",
    "queries = [\n",
    "    \"What alerts are active at {entity} right now?\"#,\"Are there alerts at {entity} at this time?\",\n",
    "    #\"Give me any active alerts for {entity}\",\"List any alerts for {entity}?\",\n",
    "    #\"What advisories are there for {entity}?\"\n",
    "]\n",
    "ParkAlerts = create_synthetic_queries(nps_api_key, entities = parks_combined, endpoint = \"alerts\", intent = \"alerts\", queries = queries)\n",
    "\n",
    "queries = [\n",
    "    \"What services are there at {entity}?\"#\"Tell me about the facilities at {entity}?\",\"What amenities are at {entity}\",\"What is available at {entity}?\",\n",
    "    #\"What type of amenities can I find at {entity}?\",\"What services are there at {entity}?\"\n",
    "]\n",
    "ParkAmenities = create_synthetic_queries(nps_api_key, entities = parks_combined, endpoint = \"amenities\", intent = \"amenities\", queries = queries)\n",
    "\n",
    "queries = [\"What events are scheduled at {entity}?\",#\"Tell me about any upcoming events at {entity}\",\n",
    "    #\"Are there any scheduled activities at {entity}?\",\"What kind of events happen at {entity}?\",\n",
    "    #\"Are there any upcoming events {entity}?\",\n",
    "]\n",
    "ParkEvents = create_synthetic_queries(nps_api_key, entities = parks_combined, endpoint = \"events\", intent = \"events\", queries = queries)\n",
    "\n",
    "queries = [\n",
    "    \"Does it cost money to visit {entity}?\",#\"How much is a ticket for {entity}?\", \"What are the fees for visiting {entity}\",\n",
    "    #\"What is the admission to visit {entity}?\",\"How much is entrance to {entity}?\",\n",
    "]\n",
    "ParkFees = create_synthetic_queries(nps_api_key, entities = parks_combined, endpoint = \"feespasses\", intent = \"feespass\", queries = queries)"
   ]
  },
  {
   "cell_type": "code",
   "execution_count": 10,
   "metadata": {},
   "outputs": [],
   "source": [
    "testing_queries_df = pd.concat([ParkDesc, ParkAddress, ParkState, ParkName, ParkAlerts, ParkAmenities, ParkEvents, ParkFees], axis=0, ignore_index=True)"
   ]
  },
  {
   "cell_type": "markdown",
   "metadata": {},
   "source": [
    "#### Write Outputs"
   ]
  },
  {
   "cell_type": "code",
   "execution_count": 11,
   "metadata": {},
   "outputs": [],
   "source": [
    "# Training and Validation Queries CSV\n",
    "synthetic_queries_df.to_csv(syn_queries, index=False)\n",
    "\n",
    "# Testing Queries CSV\n",
    "testing_queries_df.to_csv(test_queries, index=False)\n",
    "\n",
    "# Parkcode mapping CSVs\n",
    "parks_df[['fullName','parkCode']].to_csv(parkcode_mapping, index=False)\n",
    "parks_df[['parkCode','fullName']].to_csv(park_mapping, index=False)\n",
    "\n",
    "# Parkroot mapping CSV\n",
    "pd.DataFrame(list(root_dict.items()), columns=['fullName', 'parkRoot']).to_csv(parkroot_mapping, index=False)"
   ]
  }
 ],
 "metadata": {
  "kernelspec": {
   "display_name": "Python 3",
   "language": "python",
   "name": "python3"
  },
  "language_info": {
   "codemirror_mode": {
    "name": "ipython",
    "version": 3
   },
   "file_extension": ".py",
   "mimetype": "text/x-python",
   "name": "python",
   "nbconvert_exporter": "python",
   "pygments_lexer": "ipython3",
   "version": "3.8.19"
  }
 },
 "nbformat": 4,
 "nbformat_minor": 2
}
