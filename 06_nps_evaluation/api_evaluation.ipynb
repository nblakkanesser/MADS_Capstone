{
 "cells": [
  {
   "cell_type": "markdown",
   "metadata": {},
   "source": [
    "Imports"
   ]
  },
  {
   "cell_type": "code",
   "execution_count": 39,
   "metadata": {},
   "outputs": [],
   "source": [
    "import sys\n",
    "import pandas as pd\n",
    "import matplotlib.pyplot as plt\n",
    "import seaborn as sns\n",
    "import pickle\n",
    "import time\n",
    "\n",
    "sys.path.insert(0,'../')\n",
    "from model_functions import *\n",
    "from environment import env\n",
    "config = env.env()\n",
    "\n",
    "#Import Models\n",
    "import model_functions.tfidf_model\n",
    "import model_functions.spacy_model\n",
    "import model_functions.nltk_model\n",
    "import model_functions.get_context"
   ]
  },
  {
   "cell_type": "code",
   "execution_count": 79,
   "metadata": {},
   "outputs": [],
   "source": [
    "import model_functions.tfidf_model"
   ]
  },
  {
   "cell_type": "code",
   "execution_count": 78,
   "metadata": {},
   "outputs": [
    {
     "data": {
      "text/plain": [
       "4.52175"
      ]
     },
     "execution_count": 78,
     "metadata": {},
     "output_type": "execute_result"
    }
   ],
   "source": [
    ".03*30145/200"
   ]
  },
  {
   "cell_type": "markdown",
   "metadata": {},
   "source": [
    "Test Data"
   ]
  },
  {
   "cell_type": "code",
   "execution_count": 40,
   "metadata": {},
   "outputs": [
    {
     "data": {
      "text/html": [
       "<div>\n",
       "<style scoped>\n",
       "    .dataframe tbody tr th:only-of-type {\n",
       "        vertical-align: middle;\n",
       "    }\n",
       "\n",
       "    .dataframe tbody tr th {\n",
       "        vertical-align: top;\n",
       "    }\n",
       "\n",
       "    .dataframe thead th {\n",
       "        text-align: right;\n",
       "    }\n",
       "</style>\n",
       "<table border=\"1\" class=\"dataframe\">\n",
       "  <thead>\n",
       "    <tr style=\"text-align: right;\">\n",
       "      <th></th>\n",
       "      <th>query</th>\n",
       "      <th>intent</th>\n",
       "      <th>endpoint</th>\n",
       "      <th>parkcode</th>\n",
       "    </tr>\n",
       "  </thead>\n",
       "  <tbody>\n",
       "    <tr>\n",
       "      <th>0</th>\n",
       "      <td>Give me information on Abraham Lincoln Birthpl...</td>\n",
       "      <td>description</td>\n",
       "      <td>parks</td>\n",
       "      <td>abli</td>\n",
       "    </tr>\n",
       "    <tr>\n",
       "      <th>1</th>\n",
       "      <td>What is Abraham Lincoln Birthplace National Hi...</td>\n",
       "      <td>description</td>\n",
       "      <td>parks</td>\n",
       "      <td>abli</td>\n",
       "    </tr>\n",
       "    <tr>\n",
       "      <th>2</th>\n",
       "      <td>Can you describe Abraham Lincoln Birthplace Na...</td>\n",
       "      <td>description</td>\n",
       "      <td>parks</td>\n",
       "      <td>abli</td>\n",
       "    </tr>\n",
       "    <tr>\n",
       "      <th>3</th>\n",
       "      <td>Give me information on Abraham Lincoln Birthpl...</td>\n",
       "      <td>description</td>\n",
       "      <td>parks</td>\n",
       "      <td>abli</td>\n",
       "    </tr>\n",
       "    <tr>\n",
       "      <th>4</th>\n",
       "      <td>Give me information on Acadia National Park</td>\n",
       "      <td>description</td>\n",
       "      <td>parks</td>\n",
       "      <td>acad</td>\n",
       "    </tr>\n",
       "  </tbody>\n",
       "</table>\n",
       "</div>"
      ],
      "text/plain": [
       "                                               query       intent endpoint  \\\n",
       "0  Give me information on Abraham Lincoln Birthpl...  description    parks   \n",
       "1  What is Abraham Lincoln Birthplace National Hi...  description    parks   \n",
       "2  Can you describe Abraham Lincoln Birthplace Na...  description    parks   \n",
       "3  Give me information on Abraham Lincoln Birthpl...  description    parks   \n",
       "4        Give me information on Acadia National Park  description    parks   \n",
       "\n",
       "  parkcode  \n",
       "0     abli  \n",
       "1     abli  \n",
       "2     abli  \n",
       "3     abli  \n",
       "4     acad  "
      ]
     },
     "execution_count": 40,
     "metadata": {},
     "output_type": "execute_result"
    }
   ],
   "source": [
    "test_data = pd.read_csv('../02_nps_api_data/testing_queries.csv')\n",
    "test_data.columns = ['query', 'intent', 'endpoint', 'parkcode']\n",
    "test_data.head()"
   ]
  },
  {
   "cell_type": "code",
   "execution_count": 41,
   "metadata": {},
   "outputs": [
    {
     "data": {
      "text/plain": [
       "30144"
      ]
     },
     "execution_count": 41,
     "metadata": {},
     "output_type": "execute_result"
    }
   ],
   "source": [
    "len(test_data)"
   ]
  },
  {
   "cell_type": "code",
   "execution_count": 42,
   "metadata": {},
   "outputs": [
    {
     "data": {
      "text/plain": [
       "100"
      ]
     },
     "execution_count": 42,
     "metadata": {},
     "output_type": "execute_result"
    }
   ],
   "source": [
    "test_data = test_data.sample(100, random_state=10)\n",
    "len(test_data)"
   ]
  },
  {
   "cell_type": "markdown",
   "metadata": {},
   "source": [
    "Models"
   ]
  },
  {
   "cell_type": "code",
   "execution_count": 47,
   "metadata": {},
   "outputs": [],
   "source": [
    "spacy_model = spacy_model_functions #from spacy_model.py\n",
    "nltk_model = nltk_model_functions #from nltk_model.py\n",
    "tfidf_model = tfidf_model #from nltk_model.py\n",
    "gpt_model = nps_model_functions #from nps_model_functions.py\n",
    "\n",
    "models = {'gpt': gpt_model,\n",
    "          'spacy': spacy_model, \n",
    "          'nltk' : nltk_model,\n",
    "          'tfidf': tfidf_model,\n",
    "          }"
   ]
  },
  {
   "cell_type": "markdown",
   "metadata": {},
   "source": [
    "Test Output"
   ]
  },
  {
   "cell_type": "code",
   "execution_count": 44,
   "metadata": {},
   "outputs": [],
   "source": [
    "def test_output(query, models):\n",
    "    for model in models:\n",
    "        start = time.time()\n",
    "        endpoint, park_code, intent = models[model].get_params(query)\n",
    "        stop = time.time()\n",
    "        duration = stop-start\n",
    "        print(model, ':', endpoint, park_code, intent, round(duration,3), 'sec')"
   ]
  },
  {
   "cell_type": "code",
   "execution_count": 45,
   "metadata": {},
   "outputs": [
    {
     "name": "stdout",
     "output_type": "stream",
     "text": [
      "gpt : parks grsp state 5.594 sec\n",
      "spacy : parks grsp state 0.076 sec\n",
      "nltk : parks grsp state 0.035 sec\n",
      "tfidf : parks grsp state 0.034 sec\n"
     ]
    }
   ],
   "source": [
    "query = 'What state is Green Springs in?'\n",
    "test_output(query, models)"
   ]
  },
  {
   "cell_type": "code",
   "execution_count": 16,
   "metadata": {},
   "outputs": [
    {
     "name": "stdout",
     "output_type": "stream",
     "text": [
      "gpt : amenities zion amenities 1.928 sec\n",
      "spacy : parks None other 0.014 sec\n",
      "nltk : parks None other 0.044 sec\n",
      "tfidf : amenities zion amenities 0.017 sec\n"
     ]
    }
   ],
   "source": [
    "query = 'List the amenities at Zion'\n",
    "test_output(query, models)"
   ]
  },
  {
   "cell_type": "code",
   "execution_count": 17,
   "metadata": {},
   "outputs": [
    {
     "name": "stdout",
     "output_type": "stream",
     "text": [
      "gpt : fees yose feespass 2.142 sec\n",
      "spacy : parks None other 0.015 sec\n",
      "nltk : parks None other 0.048 sec\n",
      "tfidf : feespasses yose feespass 0.016 sec\n"
     ]
    }
   ],
   "source": [
    "query = 'What is the fee for Yosemite?'\n",
    "test_output(query, models)"
   ]
  },
  {
   "cell_type": "code",
   "execution_count": 5,
   "metadata": {},
   "outputs": [
    {
     "name": "stdout",
     "output_type": "stream",
     "text": [
      "gpt : events cany events 1.757 sec\n",
      "spacy : parks None other 0.02 sec\n",
      "nltk : parks None other 0.044 sec\n",
      "tfidf : events cany events 0.017 sec\n"
     ]
    }
   ],
   "source": [
    "query = 'What activities are at canyonlands?'\n",
    "test_output(query, models)"
   ]
  },
  {
   "cell_type": "code",
   "execution_count": 6,
   "metadata": {},
   "outputs": [
    {
     "name": "stdout",
     "output_type": "stream",
     "text": [
      "gpt : amenities cany feespass 2.144 sec\n",
      "spacy : parks None other 0.015 sec\n",
      "nltk : parks None other 0.043 sec\n",
      "tfidf : alerts cany alerts 0.017 sec\n"
     ]
    }
   ],
   "source": [
    "query = 'What can you do at canyonlands?'\n",
    "test_output(query, models)"
   ]
  },
  {
   "cell_type": "code",
   "execution_count": 7,
   "metadata": {},
   "outputs": [
    {
     "name": "stdout",
     "output_type": "stream",
     "text": [
      "gpt : alerts brca alerts 1.577 sec\n",
      "spacy : parks None other 0.014 sec\n",
      "nltk : parks None other 0.043 sec\n",
      "tfidf : alerts brca alerts 0.021 sec\n"
     ]
    }
   ],
   "source": [
    "query = 'What alerts are at bryce?'\n",
    "test_output(query, models)"
   ]
  },
  {
   "cell_type": "markdown",
   "metadata": {},
   "source": [
    "Create Test Output Data Frame"
   ]
  },
  {
   "cell_type": "code",
   "execution_count": 46,
   "metadata": {},
   "outputs": [],
   "source": [
    "def create_test_data (query_df, models):\n",
    "    \"\"\" Input is test data in a data frame with query, intent, endpoing, and parkcode\n",
    "        Output is the test data frame with predicted intent, endpoint and parkcode\n",
    "        for each model\n",
    "    \"\"\"\n",
    "    for model in models:\n",
    "        start = time.time()\n",
    "        tempt_df = query_df.apply(lambda x: models[model].get_params(x['query']), result_type='expand', axis=1)\n",
    "        tempt_df.columns = [f'{model}_endpoint', f'{model}_parkcode', f'{model}_intent']\n",
    "        query_df = pd.concat([query_df, tempt_df], axis=1)\n",
    "        query_df = query_df.fillna('none')\n",
    "        stop = time.time()\n",
    "        duration = stop-start\n",
    "        print(model, ':', round(duration,3), 'secs')\n",
    "    return query_df"
   ]
  },
  {
   "cell_type": "code",
   "execution_count": 48,
   "metadata": {},
   "outputs": [
    {
     "name": "stdout",
     "output_type": "stream",
     "text": [
      "gpt : 184.938 secs\n",
      "spacy : 1.186 secs\n",
      "nltk : 2.969 secs\n",
      "tfidf : 1.706 secs\n"
     ]
    }
   ],
   "source": [
    "test_data = create_test_data(test_data, models)\n",
    "test_data.to_pickle('test_data.pkl')\n",
    "#For 100:\n",
    "#gpt : 162.155 secs - 184.938 secs\n",
    "#spacy : 1.153 secs - 1.186 secs\n",
    "#nltk : 3.227 secs - 2.969 secs\n",
    "#tfidf : 1.712 secs - 1.706 secs"
   ]
  },
  {
   "cell_type": "code",
   "execution_count": 50,
   "metadata": {},
   "outputs": [
    {
     "data": {
      "text/html": [
       "<div>\n",
       "<style scoped>\n",
       "    .dataframe tbody tr th:only-of-type {\n",
       "        vertical-align: middle;\n",
       "    }\n",
       "\n",
       "    .dataframe tbody tr th {\n",
       "        vertical-align: top;\n",
       "    }\n",
       "\n",
       "    .dataframe thead th {\n",
       "        text-align: right;\n",
       "    }\n",
       "</style>\n",
       "<table border=\"1\" class=\"dataframe\">\n",
       "  <thead>\n",
       "    <tr style=\"text-align: right;\">\n",
       "      <th></th>\n",
       "      <th>query</th>\n",
       "      <th>intent</th>\n",
       "      <th>endpoint</th>\n",
       "      <th>parkcode</th>\n",
       "      <th>gpt_endpoint</th>\n",
       "      <th>gpt_parkcode</th>\n",
       "      <th>gpt_intent</th>\n",
       "      <th>spacy_endpoint</th>\n",
       "      <th>spacy_parkcode</th>\n",
       "      <th>spacy_intent</th>\n",
       "      <th>nltk_endpoint</th>\n",
       "      <th>nltk_parkcode</th>\n",
       "      <th>nltk_intent</th>\n",
       "      <th>tfidf_endpoint</th>\n",
       "      <th>tfidf_parkcode</th>\n",
       "      <th>tfidf_intent</th>\n",
       "    </tr>\n",
       "  </thead>\n",
       "  <tbody>\n",
       "    <tr>\n",
       "      <th>30027</th>\n",
       "      <td>What is the admission to visit Washington Monu...</td>\n",
       "      <td>feespass</td>\n",
       "      <td>feespasses</td>\n",
       "      <td>wamo</td>\n",
       "      <td>fees</td>\n",
       "      <td>wamo</td>\n",
       "      <td>feespass</td>\n",
       "      <td>parks</td>\n",
       "      <td>wamo</td>\n",
       "      <td>other</td>\n",
       "      <td>parks</td>\n",
       "      <td>wamo</td>\n",
       "      <td>other</td>\n",
       "      <td>feespasses</td>\n",
       "      <td>wamo</td>\n",
       "      <td>feespass</td>\n",
       "    </tr>\n",
       "    <tr>\n",
       "      <th>27346</th>\n",
       "      <td>What are the fees for visiting Saint Paul's Ch...</td>\n",
       "      <td>feespass</td>\n",
       "      <td>feespasses</td>\n",
       "      <td>sapa</td>\n",
       "      <td>fees</td>\n",
       "      <td>sapa</td>\n",
       "      <td>feespass</td>\n",
       "      <td>parks</td>\n",
       "      <td>sapa</td>\n",
       "      <td>other</td>\n",
       "      <td>parks</td>\n",
       "      <td>sapa</td>\n",
       "      <td>other</td>\n",
       "      <td>feespasses</td>\n",
       "      <td>sapa</td>\n",
       "      <td>feespass</td>\n",
       "    </tr>\n",
       "    <tr>\n",
       "      <th>8373</th>\n",
       "      <td>Please provide the full name of Maine Acadian ...</td>\n",
       "      <td>fullname</td>\n",
       "      <td>parks</td>\n",
       "      <td>maac</td>\n",
       "      <td>parks</td>\n",
       "      <td>maac</td>\n",
       "      <td>fullname</td>\n",
       "      <td>parks</td>\n",
       "      <td>maac</td>\n",
       "      <td>other</td>\n",
       "      <td>parks</td>\n",
       "      <td>maac</td>\n",
       "      <td>other</td>\n",
       "      <td>parks</td>\n",
       "      <td>maac</td>\n",
       "      <td>fullname</td>\n",
       "    </tr>\n",
       "    <tr>\n",
       "      <th>3312</th>\n",
       "      <td>Give me information on Port Chicago Naval Maga...</td>\n",
       "      <td>description</td>\n",
       "      <td>parks</td>\n",
       "      <td>poch</td>\n",
       "      <td>parks</td>\n",
       "      <td>poch</td>\n",
       "      <td>description</td>\n",
       "      <td>parks</td>\n",
       "      <td>none</td>\n",
       "      <td>other</td>\n",
       "      <td>parks</td>\n",
       "      <td>none</td>\n",
       "      <td>other</td>\n",
       "      <td>parks</td>\n",
       "      <td>poch</td>\n",
       "      <td>description</td>\n",
       "    </tr>\n",
       "    <tr>\n",
       "      <th>14924</th>\n",
       "      <td>Give me any active alerts for Virgin Islands C...</td>\n",
       "      <td>alerts</td>\n",
       "      <td>alerts</td>\n",
       "      <td>vicr</td>\n",
       "      <td>alerts</td>\n",
       "      <td>vicr</td>\n",
       "      <td>alerts</td>\n",
       "      <td>parks</td>\n",
       "      <td>none</td>\n",
       "      <td>other</td>\n",
       "      <td>parks</td>\n",
       "      <td>none</td>\n",
       "      <td>other</td>\n",
       "      <td>alerts</td>\n",
       "      <td>vicr</td>\n",
       "      <td>alerts</td>\n",
       "    </tr>\n",
       "  </tbody>\n",
       "</table>\n",
       "</div>"
      ],
      "text/plain": [
       "                                                   query       intent  \\\n",
       "30027  What is the admission to visit Washington Monu...     feespass   \n",
       "27346  What are the fees for visiting Saint Paul's Ch...     feespass   \n",
       "8373   Please provide the full name of Maine Acadian ...     fullname   \n",
       "3312   Give me information on Port Chicago Naval Maga...  description   \n",
       "14924  Give me any active alerts for Virgin Islands C...       alerts   \n",
       "\n",
       "         endpoint parkcode gpt_endpoint gpt_parkcode   gpt_intent  \\\n",
       "30027  feespasses     wamo         fees         wamo     feespass   \n",
       "27346  feespasses     sapa         fees         sapa     feespass   \n",
       "8373        parks     maac        parks         maac     fullname   \n",
       "3312        parks     poch        parks         poch  description   \n",
       "14924      alerts     vicr       alerts         vicr       alerts   \n",
       "\n",
       "      spacy_endpoint spacy_parkcode spacy_intent nltk_endpoint nltk_parkcode  \\\n",
       "30027          parks           wamo        other         parks          wamo   \n",
       "27346          parks           sapa        other         parks          sapa   \n",
       "8373           parks           maac        other         parks          maac   \n",
       "3312           parks           none        other         parks          none   \n",
       "14924          parks           none        other         parks          none   \n",
       "\n",
       "      nltk_intent tfidf_endpoint tfidf_parkcode tfidf_intent  \n",
       "30027       other     feespasses           wamo     feespass  \n",
       "27346       other     feespasses           sapa     feespass  \n",
       "8373        other          parks           maac     fullname  \n",
       "3312        other          parks           poch  description  \n",
       "14924       other         alerts           vicr       alerts  "
      ]
     },
     "execution_count": 50,
     "metadata": {},
     "output_type": "execute_result"
    }
   ],
   "source": [
    "test_data = pd.read_pickle('test_data.pkl')\n",
    "test_data.head()"
   ]
  },
  {
   "cell_type": "markdown",
   "metadata": {},
   "source": [
    "Model Accuracy"
   ]
  },
  {
   "cell_type": "code",
   "execution_count": 51,
   "metadata": {},
   "outputs": [],
   "source": [
    "metrics = ['intent', 'endpoint', 'parkcode']"
   ]
  },
  {
   "cell_type": "code",
   "execution_count": 52,
   "metadata": {},
   "outputs": [],
   "source": [
    "def plot_accuracy(df, metric): \n",
    "    plt.figure(figsize=(10, 6))\n",
    "    sns.barplot(data=df[metric], palette='YlGn')\n",
    "    #sns.barplot(x='RecreationVisits', y='Full_ParkName', data=df, palette='YlGn')\n",
    "    plt.xlabel('API Model')\n",
    "    plt.ylabel('Accuracy')\n",
    "    plt.title(f'Model Accuracy on {metric.capitalize()}')\n",
    "    plt.show()"
   ]
  },
  {
   "cell_type": "code",
   "execution_count": 53,
   "metadata": {},
   "outputs": [
    {
     "name": "stderr",
     "output_type": "stream",
     "text": [
      "/var/folders/lq/0q3fzmb57s3c187k6gjyx3_00000gn/T/ipykernel_32220/3266048973.py:3: FutureWarning: \n",
      "\n",
      "Passing `palette` without assigning `hue` is deprecated and will be removed in v0.14.0. Assign the `x` variable to `hue` and set `legend=False` for the same effect.\n",
      "\n",
      "  sns.barplot(data=df[metric], palette='YlGn')\n"
     ]
    },
    {
     "data": {
      "image/png": "[encoded data removed]",
      "text/plain": [
       "<Figure size 1000x600 with 1 Axes>"
      ]
     },
     "metadata": {},
     "output_type": "display_data"
    },
    {
     "name": "stderr",
     "output_type": "stream",
     "text": [
      "/var/folders/lq/0q3fzmb57s3c187k6gjyx3_00000gn/T/ipykernel_32220/3266048973.py:3: FutureWarning: \n",
      "\n",
      "Passing `palette` without assigning `hue` is deprecated and will be removed in v0.14.0. Assign the `x` variable to `hue` and set `legend=False` for the same effect.\n",
      "\n",
      "  sns.barplot(data=df[metric], palette='YlGn')\n"
     ]
    },
    {
     "data": {
      "image/png": "[encoded data removed]",
      "text/plain": [
       "<Figure size 1000x600 with 1 Axes>"
      ]
     },
     "metadata": {},
     "output_type": "display_data"
    },
    {
     "name": "stderr",
     "output_type": "stream",
     "text": [
      "/var/folders/lq/0q3fzmb57s3c187k6gjyx3_00000gn/T/ipykernel_32220/3266048973.py:3: FutureWarning: \n",
      "\n",
      "Passing `palette` without assigning `hue` is deprecated and will be removed in v0.14.0. Assign the `x` variable to `hue` and set `legend=False` for the same effect.\n",
      "\n",
      "  sns.barplot(data=df[metric], palette='YlGn')\n"
     ]
    },
    {
     "data": {
      "image/png": "[encoded data removed]",
      "text/plain": [
       "<Figure size 1000x600 with 1 Axes>"
      ]
     },
     "metadata": {},
     "output_type": "display_data"
    }
   ],
   "source": [
    "def model_accuracy (df, metrics, models):\n",
    "    acc_df = pd.DataFrame(columns = metrics)\n",
    "    for metric in metrics:\n",
    "        for model in models:\n",
    "            acc_df.loc[model,metric] = len(df.query(f'{metric}=={model}_{metric}'))/len(df)\n",
    "        plot_accuracy(acc_df, metric)\n",
    "    return acc_df\n",
    "\n",
    "accuracy_df = model_accuracy(test_data, metrics, models)\n",
    "\n"
   ]
  },
  {
   "cell_type": "code",
   "execution_count": 54,
   "metadata": {},
   "outputs": [
    {
     "data": {
      "text/html": [
       "<div>\n",
       "<style scoped>\n",
       "    .dataframe tbody tr th:only-of-type {\n",
       "        vertical-align: middle;\n",
       "    }\n",
       "\n",
       "    .dataframe tbody tr th {\n",
       "        vertical-align: top;\n",
       "    }\n",
       "\n",
       "    .dataframe thead th {\n",
       "        text-align: right;\n",
       "    }\n",
       "</style>\n",
       "<table border=\"1\" class=\"dataframe\">\n",
       "  <thead>\n",
       "    <tr style=\"text-align: right;\">\n",
       "      <th></th>\n",
       "      <th>intent</th>\n",
       "      <th>endpoint</th>\n",
       "      <th>parkcode</th>\n",
       "    </tr>\n",
       "  </thead>\n",
       "  <tbody>\n",
       "    <tr>\n",
       "      <th>gpt</th>\n",
       "      <td>0.95</td>\n",
       "      <td>0.79</td>\n",
       "      <td>0.95</td>\n",
       "    </tr>\n",
       "    <tr>\n",
       "      <th>spacy</th>\n",
       "      <td>0.07</td>\n",
       "      <td>0.33</td>\n",
       "      <td>0.56</td>\n",
       "    </tr>\n",
       "    <tr>\n",
       "      <th>nltk</th>\n",
       "      <td>0.07</td>\n",
       "      <td>0.33</td>\n",
       "      <td>0.53</td>\n",
       "    </tr>\n",
       "    <tr>\n",
       "      <th>tfidf</th>\n",
       "      <td>0.92</td>\n",
       "      <td>1.0</td>\n",
       "      <td>0.99</td>\n",
       "    </tr>\n",
       "  </tbody>\n",
       "</table>\n",
       "</div>"
      ],
      "text/plain": [
       "      intent endpoint parkcode\n",
       "gpt     0.95     0.79     0.95\n",
       "spacy   0.07     0.33     0.56\n",
       "nltk    0.07     0.33     0.53\n",
       "tfidf   0.92      1.0     0.99"
      ]
     },
     "execution_count": 54,
     "metadata": {},
     "output_type": "execute_result"
    }
   ],
   "source": [
    "accuracy_df"
   ]
  },
  {
   "cell_type": "markdown",
   "metadata": {},
   "source": [
    "Errors"
   ]
  },
  {
   "cell_type": "code",
   "execution_count": 70,
   "metadata": {},
   "outputs": [
    {
     "data": {
      "text/html": [
       "<div>\n",
       "<style scoped>\n",
       "    .dataframe tbody tr th:only-of-type {\n",
       "        vertical-align: middle;\n",
       "    }\n",
       "\n",
       "    .dataframe tbody tr th {\n",
       "        vertical-align: top;\n",
       "    }\n",
       "\n",
       "    .dataframe thead th {\n",
       "        text-align: right;\n",
       "    }\n",
       "</style>\n",
       "<table border=\"1\" class=\"dataframe\">\n",
       "  <thead>\n",
       "    <tr style=\"text-align: right;\">\n",
       "      <th></th>\n",
       "      <th>intent</th>\n",
       "      <th>endpoint</th>\n",
       "      <th>parkcode</th>\n",
       "    </tr>\n",
       "  </thead>\n",
       "  <tbody>\n",
       "    <tr>\n",
       "      <th>all_right</th>\n",
       "      <td>3</td>\n",
       "      <td>33</td>\n",
       "      <td>52</td>\n",
       "    </tr>\n",
       "    <tr>\n",
       "      <th>all_wrong</th>\n",
       "      <td>2</td>\n",
       "      <td>0</td>\n",
       "      <td>0</td>\n",
       "    </tr>\n",
       "    <tr>\n",
       "      <th>only_gpt</th>\n",
       "      <td>2</td>\n",
       "      <td>0</td>\n",
       "      <td>1</td>\n",
       "    </tr>\n",
       "    <tr>\n",
       "      <th>spacy_and_tfidf</th>\n",
       "      <td>4</td>\n",
       "      <td>4</td>\n",
       "      <td>4</td>\n",
       "    </tr>\n",
       "    <tr>\n",
       "      <th>only_spacy</th>\n",
       "      <td>0</td>\n",
       "      <td>0</td>\n",
       "      <td>0</td>\n",
       "    </tr>\n",
       "    <tr>\n",
       "      <th>gpt_and_tfidf</th>\n",
       "      <td>42</td>\n",
       "      <td>42</td>\n",
       "      <td>42</td>\n",
       "    </tr>\n",
       "    <tr>\n",
       "      <th>only_tfidf</th>\n",
       "      <td>3</td>\n",
       "      <td>21</td>\n",
       "      <td>1</td>\n",
       "    </tr>\n",
       "    <tr>\n",
       "      <th>gpt_and_spacy</th>\n",
       "      <td>0</td>\n",
       "      <td>0</td>\n",
       "      <td>0</td>\n",
       "    </tr>\n",
       "  </tbody>\n",
       "</table>\n",
       "</div>"
      ],
      "text/plain": [
       "                intent endpoint parkcode\n",
       "all_right            3       33       52\n",
       "all_wrong            2        0        0\n",
       "only_gpt             2        0        1\n",
       "spacy_and_tfidf      4        4        4\n",
       "only_spacy           0        0        0\n",
       "gpt_and_tfidf       42       42       42\n",
       "only_tfidf           3       21        1\n",
       "gpt_and_spacy        0        0        0"
      ]
     },
     "execution_count": 70,
     "metadata": {},
     "output_type": "execute_result"
    }
   ],
   "source": [
    "def top_errors (df, metrics, models):\n",
    "    errors_df = pd.DataFrame(columns = metrics)\n",
    "    for metric in metrics:\n",
    "        right = '&'.join([f'{metric}=={model}_{metric}' for model in models])\n",
    "        wrong = '&'.join([f'{metric}!={model}_{metric}' for model in models])\n",
    "        #errors_df.loc['total', metric] = len(df)\n",
    "        errors_df.loc['all_right', metric] = len(df.query(right))\n",
    "        errors_df.loc['all_wrong', metric] = len(df.query(wrong))\n",
    "        for indx, model in enumerate(models):\n",
    "            other_models = models[:indx]+models[indx+1:]\n",
    "            right_model = '&'.join([f'{metric}=={model}_{metric}']+[f'{metric}!={mod}_{metric}' for mod in other_models])\n",
    "            wrong_model = '&'.join([f'{metric}!={model}_{metric}']+[f'{metric}=={mod}_{metric}' for mod in other_models])\n",
    "            errors_df.loc[f'only_{model}', metric] = len(df.query(right_model))\n",
    "            errors_df.loc['_and_'.join([mod for mod in other_models])] = len(df.query(wrong_model))\n",
    "    return errors_df\n",
    "\n",
    "errors = top_errors(test_data, ['intent', 'endpoint', 'parkcode'], ['gpt', 'spacy', 'tfidf'])\n",
    "errors"
   ]
  },
  {
   "cell_type": "code",
   "execution_count": 71,
   "metadata": {},
   "outputs": [],
   "source": [
    "def plot_errors(error_df):\n",
    "    for metric in error_df.columns:\n",
    "        colors = sns.color_palette('YlGn')[1:8]\n",
    "        plt.figure(figsize=(10, 7))\n",
    "        temp_df = error_df.query(f'{metric}>0')\n",
    "        plt.pie(temp_df[metric], labels=temp_df.index, colors=colors, autopct='%1.1f%%')\n",
    "        plt.title(f'Accurate Outcomes for {metric.capitalize()}')\n",
    "        plt.show()"
   ]
  },
  {
   "cell_type": "code",
   "execution_count": 72,
   "metadata": {},
   "outputs": [
    {
     "data": {
      "image/png": "[encoded data removed]",
      "text/plain": [
       "<Figure size 1000x700 with 1 Axes>"
      ]
     },
     "metadata": {},
     "output_type": "display_data"
    },
    {
     "data": {
      "image/png": "[encoded data removed]",
      "text/plain": [
       "<Figure size 1000x700 with 1 Axes>"
      ]
     },
     "metadata": {},
     "output_type": "display_data"
    },
    {
     "data": {
      "image/png": "[encoded data removed]",
      "text/plain": [
       "<Figure size 1000x700 with 1 Axes>"
      ]
     },
     "metadata": {},
     "output_type": "display_data"
    }
   ],
   "source": [
    "plot_errors(errors)"
   ]
  },
  {
   "cell_type": "code",
   "execution_count": 57,
   "metadata": {},
   "outputs": [],
   "source": [
    "def find_wrong(df, metric, model):\n",
    "    wrong = df.query(f'{metric}!={model}_{metric}')\n",
    "    wrong = wrong[[metric, f'{model}_{metric}']].value_counts()\n",
    "\n",
    "    return wrong"
   ]
  },
  {
   "cell_type": "code",
   "execution_count": 74,
   "metadata": {},
   "outputs": [
    {
     "data": {
      "text/plain": [
       "intent       gpt_intent\n",
       "description  state         3\n",
       "fullname     alerts        2\n",
       "Name: count, dtype: int64"
      ]
     },
     "execution_count": 74,
     "metadata": {},
     "output_type": "execute_result"
    }
   ],
   "source": [
    "find_wrong(test_data, 'intent', 'gpt')"
   ]
  },
  {
   "cell_type": "code",
   "execution_count": 75,
   "metadata": {},
   "outputs": [
    {
     "data": {
      "text/plain": [
       "endpoint    gpt_endpoint\n",
       "feespasses  fees            21\n",
       "Name: count, dtype: int64"
      ]
     },
     "execution_count": 75,
     "metadata": {},
     "output_type": "execute_result"
    }
   ],
   "source": [
    "find_wrong(test_data, 'endpoint', 'gpt')"
   ]
  },
  {
   "cell_type": "code",
   "execution_count": 76,
   "metadata": {},
   "outputs": [
    {
     "data": {
      "text/plain": [
       "parkcode  gpt_parkcode\n",
       "fomc      fom             2\n",
       "brcr      brc             1\n",
       "cakr      cak             1\n",
       "cawo      caw             1\n",
       "Name: count, dtype: int64"
      ]
     },
     "execution_count": 76,
     "metadata": {},
     "output_type": "execute_result"
    }
   ],
   "source": [
    "find_wrong(test_data, 'parkcode', 'gpt')"
   ]
  },
  {
   "cell_type": "code",
   "execution_count": 61,
   "metadata": {},
   "outputs": [
    {
     "data": {
      "text/plain": [
       "intent       spacy_intent\n",
       "feespass     other           21\n",
       "amenities    other           18\n",
       "events       other           16\n",
       "alerts       other           12\n",
       "description  other           11\n",
       "fullname     other           10\n",
       "address      other            5\n",
       "Name: count, dtype: int64"
      ]
     },
     "execution_count": 61,
     "metadata": {},
     "output_type": "execute_result"
    }
   ],
   "source": [
    "find_wrong(test_data, 'intent', 'spacy')"
   ]
  },
  {
   "cell_type": "code",
   "execution_count": 62,
   "metadata": {},
   "outputs": [
    {
     "data": {
      "text/plain": [
       "endpoint    spacy_endpoint\n",
       "feespasses  parks             21\n",
       "amenities   parks             18\n",
       "events      parks             16\n",
       "alerts      parks             12\n",
       "Name: count, dtype: int64"
      ]
     },
     "execution_count": 62,
     "metadata": {},
     "output_type": "execute_result"
    }
   ],
   "source": [
    "find_wrong(test_data, 'endpoint', 'spacy')\n"
   ]
  },
  {
   "cell_type": "code",
   "execution_count": 63,
   "metadata": {},
   "outputs": [
    {
     "data": {
      "text/plain": [
       "parkcode  spacy_parkcode\n",
       "ania      none              2\n",
       "blri      none              2\n",
       "noat      none              2\n",
       "alpo      none              1\n",
       "pull      none              1\n",
       "lecl      none              1\n",
       "ozar      none              1\n",
       "peco      none              1\n",
       "pinn      none              1\n",
       "poch      none              1\n",
       "pore      none              1\n",
       "ston      none              1\n",
       "sagu      none              1\n",
       "klgo      none              1\n",
       "ulsg      none              1\n",
       "vicr      none              1\n",
       "waba      none              1\n",
       "waro      none              1\n",
       "wica      none              1\n",
       "wotr      none              1\n",
       "kova      none              1\n",
       "jeca      none              1\n",
       "jotr      none              1\n",
       "drto      none              1\n",
       "boha      none              1\n",
       "buis      none              1\n",
       "caha      none              1\n",
       "came      none              1\n",
       "cowp      none              1\n",
       "crmo      none              1\n",
       "deto      none              1\n",
       "ebla      none              1\n",
       "amch      none              1\n",
       "edis      none              1\n",
       "flni      none              1\n",
       "fomc      none              1\n",
       "fopo      none              1\n",
       "glba      none              1\n",
       "glca      none              1\n",
       "hamp      none              1\n",
       "york      none              1\n",
       "Name: count, dtype: int64"
      ]
     },
     "execution_count": 63,
     "metadata": {},
     "output_type": "execute_result"
    }
   ],
   "source": [
    "find_wrong(test_data, 'parkcode', 'spacy')\n"
   ]
  },
  {
   "cell_type": "code",
   "execution_count": 64,
   "metadata": {},
   "outputs": [
    {
     "data": {
      "text/plain": [
       "intent       nltk_intent\n",
       "feespass     other          21\n",
       "amenities    other          18\n",
       "events       other          16\n",
       "alerts       other          12\n",
       "description  other          11\n",
       "fullname     other          10\n",
       "address      other           5\n",
       "Name: count, dtype: int64"
      ]
     },
     "execution_count": 64,
     "metadata": {},
     "output_type": "execute_result"
    }
   ],
   "source": [
    "find_wrong(test_data, 'intent', 'nltk')"
   ]
  },
  {
   "cell_type": "code",
   "execution_count": 65,
   "metadata": {},
   "outputs": [
    {
     "data": {
      "text/plain": [
       "endpoint    nltk_endpoint\n",
       "feespasses  parks            21\n",
       "amenities   parks            18\n",
       "events      parks            16\n",
       "alerts      parks            12\n",
       "Name: count, dtype: int64"
      ]
     },
     "execution_count": 65,
     "metadata": {},
     "output_type": "execute_result"
    }
   ],
   "source": [
    "find_wrong(test_data, 'endpoint', 'nltk')"
   ]
  },
  {
   "cell_type": "code",
   "execution_count": 66,
   "metadata": {},
   "outputs": [
    {
     "data": {
      "text/plain": [
       "parkcode  nltk_parkcode\n",
       "ania      none             2\n",
       "blri      none             2\n",
       "noat      none             2\n",
       "alpo      none             1\n",
       "sagu      none             1\n",
       "ozar      none             1\n",
       "peco      none             1\n",
       "pinn      none             1\n",
       "poch      none             1\n",
       "pore      none             1\n",
       "pull      none             1\n",
       "saan      saga             1\n",
       "sitk      saga             1\n",
       "sajh      saga             1\n",
       "kova      none             1\n",
       "ston      none             1\n",
       "tuma      saga             1\n",
       "vicr      none             1\n",
       "waba      none             1\n",
       "waro      none             1\n",
       "wica      none             1\n",
       "wotr      none             1\n",
       "lecl      none             1\n",
       "klgo      none             1\n",
       "amch      none             1\n",
       "jotr      none             1\n",
       "boha      none             1\n",
       "buis      none             1\n",
       "caha      none             1\n",
       "came      none             1\n",
       "cowp      none             1\n",
       "crmo      none             1\n",
       "deto      none             1\n",
       "drto      none             1\n",
       "ebla      none             1\n",
       "edis      none             1\n",
       "flni      none             1\n",
       "fomc      none             1\n",
       "fopo      none             1\n",
       "glca      none             1\n",
       "hamp      none             1\n",
       "jazz      saga             1\n",
       "jeca      none             1\n",
       "york      none             1\n",
       "Name: count, dtype: int64"
      ]
     },
     "execution_count": 66,
     "metadata": {},
     "output_type": "execute_result"
    }
   ],
   "source": [
    "find_wrong(test_data, 'parkcode', 'nltk')"
   ]
  },
  {
   "cell_type": "code",
   "execution_count": 67,
   "metadata": {},
   "outputs": [
    {
     "data": {
      "text/plain": [
       "intent       tfidf_intent\n",
       "state        description     4\n",
       "description  fullname        2\n",
       "fullname     description     2\n",
       "Name: count, dtype: int64"
      ]
     },
     "execution_count": 67,
     "metadata": {},
     "output_type": "execute_result"
    }
   ],
   "source": [
    "find_wrong(test_data, 'intent', 'tfidf')"
   ]
  },
  {
   "cell_type": "code",
   "execution_count": 68,
   "metadata": {},
   "outputs": [
    {
     "data": {
      "text/plain": [
       "parkcode  tfidf_parkcode\n",
       "pinn      lyba              1\n",
       "Name: count, dtype: int64"
      ]
     },
     "execution_count": 68,
     "metadata": {},
     "output_type": "execute_result"
    }
   ],
   "source": [
    "find_wrong(test_data, 'parkcode', 'tfidf')"
   ]
  },
  {
   "cell_type": "code",
   "execution_count": 69,
   "metadata": {},
   "outputs": [
    {
     "data": {
      "text/plain": [
       "Series([], Name: count, dtype: int64)"
      ]
     },
     "execution_count": 69,
     "metadata": {},
     "output_type": "execute_result"
    }
   ],
   "source": [
    "find_wrong(test_data, 'endpoint', 'tfidf')"
   ]
  }
 ],
 "metadata": {
  "kernelspec": {
   "display_name": "python38",
   "language": "python",
   "name": "python3"
  },
  "language_info": {
   "codemirror_mode": {
    "name": "ipython",
    "version": 3
   },
   "file_extension": ".py",
   "mimetype": "text/x-python",
   "name": "python",
   "nbconvert_exporter": "python",
   "pygments_lexer": "ipython3",
   "version": "3.11.8"
  }
 },
 "nbformat": 4,
 "nbformat_minor": 2
}
