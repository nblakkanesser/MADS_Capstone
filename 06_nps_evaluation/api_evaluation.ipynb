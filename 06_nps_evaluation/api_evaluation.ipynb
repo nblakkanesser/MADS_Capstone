{
 "cells": [
  {
   "cell_type": "code",
   "execution_count": 94,
   "metadata": {},
   "outputs": [],
   "source": [
    "import sys\n",
    "import pandas as pd\n",
    "import matplotlib.pyplot as plt\n",
    "import seaborn as sns\n",
    "import pickle\n",
    "import time\n",
    "import random\n",
    "\n",
    "sys.path.insert(0,'../')\n",
    "from nps_model_functions import *\n",
    "from environment import env\n",
    "config = env.env()\n",
    "#sys.path.insert(0,'../03_nps_models')\n"
   ]
  },
  {
   "cell_type": "code",
   "execution_count": 96,
   "metadata": {},
   "outputs": [],
   "source": [
    "#As files start with digits, running files to access functions\n",
    "%cd ../03_nps_models\n",
    "%run '05_nltk_model.ipynb'\n",
    "%run '06_spacy_model.ipynb'\n",
    "%cd ../06_nps_evaluation/"
   ]
  },
  {
   "cell_type": "code",
   "execution_count": 3,
   "metadata": {},
   "outputs": [
    {
     "data": {
      "text/html": [
       "<div>\n",
       "<style scoped>\n",
       "    .dataframe tbody tr th:only-of-type {\n",
       "        vertical-align: middle;\n",
       "    }\n",
       "\n",
       "    .dataframe tbody tr th {\n",
       "        vertical-align: top;\n",
       "    }\n",
       "\n",
       "    .dataframe thead th {\n",
       "        text-align: right;\n",
       "    }\n",
       "</style>\n",
       "<table border=\"1\" class=\"dataframe\">\n",
       "  <thead>\n",
       "    <tr style=\"text-align: right;\">\n",
       "      <th></th>\n",
       "      <th>query</th>\n",
       "      <th>intent</th>\n",
       "      <th>endpoint</th>\n",
       "      <th>parkcode</th>\n",
       "    </tr>\n",
       "  </thead>\n",
       "  <tbody>\n",
       "    <tr>\n",
       "      <th>0</th>\n",
       "      <td>Give me information on De Soto</td>\n",
       "      <td>description</td>\n",
       "      <td>parks</td>\n",
       "      <td>deso</td>\n",
       "    </tr>\n",
       "    <tr>\n",
       "      <th>1</th>\n",
       "      <td>Give me information on Bent's Old Fort Nationa...</td>\n",
       "      <td>description</td>\n",
       "      <td>parks</td>\n",
       "      <td>beol</td>\n",
       "    </tr>\n",
       "    <tr>\n",
       "      <th>2</th>\n",
       "      <td>Give me information on Vicksburg National Mili...</td>\n",
       "      <td>description</td>\n",
       "      <td>parks</td>\n",
       "      <td>vick</td>\n",
       "    </tr>\n",
       "    <tr>\n",
       "      <th>3</th>\n",
       "      <td>Give me information on Appomattox</td>\n",
       "      <td>description</td>\n",
       "      <td>parks</td>\n",
       "      <td>apco</td>\n",
       "    </tr>\n",
       "    <tr>\n",
       "      <th>4</th>\n",
       "      <td>Give me information on Dinosaur</td>\n",
       "      <td>description</td>\n",
       "      <td>parks</td>\n",
       "      <td>dino</td>\n",
       "    </tr>\n",
       "  </tbody>\n",
       "</table>\n",
       "</div>"
      ],
      "text/plain": [
       "                                               query       intent endpoint  \\\n",
       "0                     Give me information on De Soto  description    parks   \n",
       "1  Give me information on Bent's Old Fort Nationa...  description    parks   \n",
       "2  Give me information on Vicksburg National Mili...  description    parks   \n",
       "3                  Give me information on Appomattox  description    parks   \n",
       "4                    Give me information on Dinosaur  description    parks   \n",
       "\n",
       "  parkcode  \n",
       "0     deso  \n",
       "1     beol  \n",
       "2     vick  \n",
       "3     apco  \n",
       "4     dino  "
      ]
     },
     "execution_count": 3,
     "metadata": {},
     "output_type": "execute_result"
    }
   ],
   "source": [
    "test_data = pd.read_csv('../02_nps_api_data/testing_queries.csv')\n",
    "test_data.columns = ['query', 'intent', 'endpoint', 'parkcode']\n",
    "test_data.head()"
   ]
  },
  {
   "cell_type": "code",
   "execution_count": 4,
   "metadata": {},
   "outputs": [
    {
     "data": {
      "text/plain": [
       "888"
      ]
     },
     "execution_count": 4,
     "metadata": {},
     "output_type": "execute_result"
    }
   ],
   "source": [
    "len(test_data)"
   ]
  },
  {
   "cell_type": "code",
   "execution_count": 5,
   "metadata": {},
   "outputs": [],
   "source": [
    "#smaller test size for now\n",
    "test_data = test_data.sample(100, random_state=10)"
   ]
  },
  {
   "cell_type": "markdown",
   "metadata": {},
   "source": [
    "GPT"
   ]
  },
  {
   "cell_type": "code",
   "execution_count": 3,
   "metadata": {},
   "outputs": [
    {
     "name": "stdout",
     "output_type": "stream",
     "text": [
      "amenities zion amenities\n"
     ]
    }
   ],
   "source": [
    "# Amenities\n",
    "query = 'List the amenities at Zion'\n",
    "endpoint, parkcode, intent = nps_model_functions.get_params(query)\n",
    "print(endpoint, parkcode, intent)\n"
   ]
  },
  {
   "cell_type": "code",
   "execution_count": 7,
   "metadata": {},
   "outputs": [],
   "source": [
    "def add_gpt(query_df):\n",
    "    gpt_df = query_df.apply(lambda x: nps_model_functions.get_params(x['query']), result_type='expand', axis=1)\n",
    "    gpt_df.columns = ['gpt_endpoint', 'gpt_parkcode', 'gpt_intent']\n",
    "    query_df = pd.concat([query_df, gpt_df], axis=1)\n",
    "    #query_df['gpt_endpoint'], query_df['gpt_park_code'],query_df['gpt_intent'] = [nps_model_functions.get_params(x) for x in query_df['query']]\n",
    "    return query_df"
   ]
  },
  {
   "cell_type": "code",
   "execution_count": 10,
   "metadata": {},
   "outputs": [],
   "source": [
    "test_data = add_gpt(test_data)\n",
    "#2m 42s for 100 samples"
   ]
  },
  {
   "cell_type": "code",
   "execution_count": null,
   "metadata": {},
   "outputs": [],
   "source": [
    "#Pause for 61 minutes to rest API - for when full 1k sample size called\n",
    "time.sleep(3660)"
   ]
  },
  {
   "cell_type": "markdown",
   "metadata": {},
   "source": [
    "NLTK"
   ]
  },
  {
   "cell_type": "code",
   "execution_count": 97,
   "metadata": {},
   "outputs": [],
   "source": [
    "# From '06_nltk_model.ipynb'\n",
    "nltk_model_functions = NLTKModelFunctions(config, park_csv_path)"
   ]
  },
  {
   "cell_type": "code",
   "execution_count": 98,
   "metadata": {},
   "outputs": [
    {
     "name": "stdout",
     "output_type": "stream",
     "text": [
      "parks grsp state\n"
     ]
    }
   ],
   "source": [
    "query = 'What state is Green Springs in?'\n",
    "endpoint, park_code, intent, output = nltk_model_functions.api_call(query)\n",
    "print(endpoint, park_code, intent)"
   ]
  },
  {
   "cell_type": "code",
   "execution_count": 134,
   "metadata": {},
   "outputs": [],
   "source": [
    "def add_nltk(query_df):\n",
    "    nltk_model_functions = NLTKModelFunctions(config, park_csv_path)\n",
    "\n",
    "    nltk_df = query_df.apply(lambda x: nltk_model_functions.api_call(x['query']), result_type='expand', axis=1)\n",
    "    nltk_df = nltk_df.iloc[:,:-1]\n",
    "    nltk_df.columns = ['nltk_endpoint', 'nltk_parkcode', 'nltk_intent']\n",
    "    query_df = pd.concat([query_df, nltk_df], axis=1)\n",
    "    query_df = query_df.fillna('none')\n",
    "    \n",
    "    return query_df"
   ]
  },
  {
   "cell_type": "code",
   "execution_count": 135,
   "metadata": {},
   "outputs": [],
   "source": [
    "test_data = add_nltk(test_data)\n",
    "# 26.2s for 100 samples"
   ]
  },
  {
   "cell_type": "code",
   "execution_count": null,
   "metadata": {},
   "outputs": [],
   "source": [
    "#Pause for 61 minutes to rest API - for when full 1k sample size called\n",
    "time.sleep(3660)"
   ]
  },
  {
   "cell_type": "markdown",
   "metadata": {},
   "source": [
    "Spacy"
   ]
  },
  {
   "cell_type": "code",
   "execution_count": 15,
   "metadata": {},
   "outputs": [],
   "source": [
    "# From '06_spacy_model.ipynb'\n",
    "spacy_model_functions = SpaCyModelFunctions(config, park_csv_path)"
   ]
  },
  {
   "cell_type": "code",
   "execution_count": 16,
   "metadata": {},
   "outputs": [],
   "source": [
    "def add_spacy(query_df):\n",
    "    spacy_model_functions = SpaCyModelFunctions(config, park_csv_path)\n",
    "\n",
    "    spacy_df = query_df.apply(lambda x: spacy_model_functions.api_call(x['query']), result_type='expand', axis=1)\n",
    "    spacy_df = spacy_df.iloc[:,:-1]\n",
    "    spacy_df.columns = ['spacy_endpoint', 'spacy_parkcode', 'spacy_intent']\n",
    "    query_df = pd.concat([query_df, spacy_df], axis=1)\n",
    "    query_df = query_df.fillna('none')\n",
    "    \n",
    "    return query_df"
   ]
  },
  {
   "cell_type": "code",
   "execution_count": null,
   "metadata": {},
   "outputs": [],
   "source": [
    "query = 'What state is Green Springs in?'\n",
    "endpoint, park_code, intent, output = spacy_model_functions.api_call(query)\n",
    "print(endpoint, park_code, intent, output)"
   ]
  },
  {
   "cell_type": "code",
   "execution_count": 17,
   "metadata": {},
   "outputs": [],
   "source": [
    "test_data = add_spacy(test_data)\n",
    "#28.6s for 100 samples"
   ]
  },
  {
   "cell_type": "code",
   "execution_count": 137,
   "metadata": {},
   "outputs": [],
   "source": [
    "test_data.to_pickle(\"new_test.pkl\")"
   ]
  },
  {
   "cell_type": "code",
   "execution_count": 138,
   "metadata": {},
   "outputs": [
    {
     "data": {
      "text/html": [
       "<div>\n",
       "<style scoped>\n",
       "    .dataframe tbody tr th:only-of-type {\n",
       "        vertical-align: middle;\n",
       "    }\n",
       "\n",
       "    .dataframe tbody tr th {\n",
       "        vertical-align: top;\n",
       "    }\n",
       "\n",
       "    .dataframe thead th {\n",
       "        text-align: right;\n",
       "    }\n",
       "</style>\n",
       "<table border=\"1\" class=\"dataframe\">\n",
       "  <thead>\n",
       "    <tr style=\"text-align: right;\">\n",
       "      <th></th>\n",
       "      <th>query</th>\n",
       "      <th>intent</th>\n",
       "      <th>endpoint</th>\n",
       "      <th>parkcode</th>\n",
       "      <th>gpt_endpoint</th>\n",
       "      <th>gpt_parkcode</th>\n",
       "      <th>gpt_intent</th>\n",
       "      <th>spacy_endpoint</th>\n",
       "      <th>spacy_parkcode</th>\n",
       "      <th>spacy_intent</th>\n",
       "      <th>nltk_endpoint</th>\n",
       "      <th>nltk_parkcode</th>\n",
       "      <th>nltk_intent</th>\n",
       "    </tr>\n",
       "  </thead>\n",
       "  <tbody>\n",
       "    <tr>\n",
       "      <th>431</th>\n",
       "      <td>Please provide the full name of Fredericksburg...</td>\n",
       "      <td>fullname</td>\n",
       "      <td>parks</td>\n",
       "      <td>frsp</td>\n",
       "      <td>parks</td>\n",
       "      <td>frsp</td>\n",
       "      <td>fullname</td>\n",
       "      <td>parks</td>\n",
       "      <td>frsp</td>\n",
       "      <td>other</td>\n",
       "      <td>parks</td>\n",
       "      <td>frsp</td>\n",
       "      <td>other</td>\n",
       "    </tr>\n",
       "    <tr>\n",
       "      <th>349</th>\n",
       "      <td>Please provide the full name of Cane River?</td>\n",
       "      <td>fullname</td>\n",
       "      <td>parks</td>\n",
       "      <td>cari</td>\n",
       "      <td>parks</td>\n",
       "      <td>cari</td>\n",
       "      <td>fullname</td>\n",
       "      <td>Park not found in the query. Please provide a ...</td>\n",
       "      <td>none</td>\n",
       "      <td>none</td>\n",
       "      <td>Park not found in the query. Please provide a ...</td>\n",
       "      <td>none</td>\n",
       "      <td>none</td>\n",
       "    </tr>\n",
       "    <tr>\n",
       "      <th>605</th>\n",
       "      <td>What services are there at Effigy Mounds?</td>\n",
       "      <td>amenities</td>\n",
       "      <td>amenities</td>\n",
       "      <td>efmo</td>\n",
       "      <td>amenities</td>\n",
       "      <td>efmo</td>\n",
       "      <td>amenities</td>\n",
       "      <td>Park not found in the query. Please provide a ...</td>\n",
       "      <td>none</td>\n",
       "      <td>none</td>\n",
       "      <td>Park not found in the query. Please provide a ...</td>\n",
       "      <td>none</td>\n",
       "      <td>none</td>\n",
       "    </tr>\n",
       "    <tr>\n",
       "      <th>192</th>\n",
       "      <td>Where is Rainbow Bridge?</td>\n",
       "      <td>address</td>\n",
       "      <td>parks</td>\n",
       "      <td>rabr</td>\n",
       "      <td>parks</td>\n",
       "      <td>rabr</td>\n",
       "      <td>address</td>\n",
       "      <td>Park not found in the query. Please provide a ...</td>\n",
       "      <td>none</td>\n",
       "      <td>none</td>\n",
       "      <td>Park not found in the query. Please provide a ...</td>\n",
       "      <td>none</td>\n",
       "      <td>none</td>\n",
       "    </tr>\n",
       "    <tr>\n",
       "      <th>849</th>\n",
       "      <td>Does it cost money to visit Fort Stanwix Natio...</td>\n",
       "      <td>feespass</td>\n",
       "      <td>feespasses</td>\n",
       "      <td>fost</td>\n",
       "      <td>fees</td>\n",
       "      <td>fost</td>\n",
       "      <td>feespass</td>\n",
       "      <td>parks</td>\n",
       "      <td>fost</td>\n",
       "      <td>other</td>\n",
       "      <td>parks</td>\n",
       "      <td>fost</td>\n",
       "      <td>other</td>\n",
       "    </tr>\n",
       "  </tbody>\n",
       "</table>\n",
       "</div>"
      ],
      "text/plain": [
       "                                                 query     intent    endpoint  \\\n",
       "431  Please provide the full name of Fredericksburg...   fullname       parks   \n",
       "349        Please provide the full name of Cane River?   fullname       parks   \n",
       "605          What services are there at Effigy Mounds?  amenities   amenities   \n",
       "192                           Where is Rainbow Bridge?    address       parks   \n",
       "849  Does it cost money to visit Fort Stanwix Natio...   feespass  feespasses   \n",
       "\n",
       "    parkcode gpt_endpoint gpt_parkcode gpt_intent  \\\n",
       "431     frsp        parks         frsp   fullname   \n",
       "349     cari        parks         cari   fullname   \n",
       "605     efmo    amenities         efmo  amenities   \n",
       "192     rabr        parks         rabr    address   \n",
       "849     fost         fees         fost   feespass   \n",
       "\n",
       "                                        spacy_endpoint spacy_parkcode  \\\n",
       "431                                              parks           frsp   \n",
       "349  Park not found in the query. Please provide a ...           none   \n",
       "605  Park not found in the query. Please provide a ...           none   \n",
       "192  Park not found in the query. Please provide a ...           none   \n",
       "849                                              parks           fost   \n",
       "\n",
       "    spacy_intent                                      nltk_endpoint  \\\n",
       "431        other                                              parks   \n",
       "349         none  Park not found in the query. Please provide a ...   \n",
       "605         none  Park not found in the query. Please provide a ...   \n",
       "192         none  Park not found in the query. Please provide a ...   \n",
       "849        other                                              parks   \n",
       "\n",
       "    nltk_parkcode nltk_intent  \n",
       "431          frsp       other  \n",
       "349          none        none  \n",
       "605          none        none  \n",
       "192          none        none  \n",
       "849          fost       other  "
      ]
     },
     "execution_count": 138,
     "metadata": {},
     "output_type": "execute_result"
    }
   ],
   "source": [
    "test_data.head()"
   ]
  },
  {
   "cell_type": "markdown",
   "metadata": {},
   "source": [
    "Model Accuracy"
   ]
  },
  {
   "cell_type": "code",
   "execution_count": 139,
   "metadata": {},
   "outputs": [],
   "source": [
    "def plot_accuracy(df, metric): \n",
    "    plt.figure(figsize=(10, 6))\n",
    "    sns.barplot(data=df[metric], palette='YlGn')\n",
    "    #sns.barplot(x='RecreationVisits', y='Full_ParkName', data=df, palette='YlGn')\n",
    "    plt.xlabel('API Model')\n",
    "    plt.ylabel('Accuracy')\n",
    "    plt.title(f'Model Accuracy on {metric}')\n",
    "    plt.show()"
   ]
  },
  {
   "cell_type": "code",
   "execution_count": 140,
   "metadata": {},
   "outputs": [
    {
     "name": "stderr",
     "output_type": "stream",
     "text": [
      "/var/folders/lq/0q3fzmb57s3c187k6gjyx3_00000gn/T/ipykernel_2625/1373879499.py:3: FutureWarning: \n",
      "\n",
      "Passing `palette` without assigning `hue` is deprecated and will be removed in v0.14.0. Assign the `x` variable to `hue` and set `legend=False` for the same effect.\n",
      "\n",
      "  sns.barplot(data=df[metric], palette='YlGn')\n"
     ]
    },
    {
     "data": {
      "image/png": "[encoded data removed]",
      "text/plain": [
       "<Figure size 1000x600 with 1 Axes>"
      ]
     },
     "metadata": {},
     "output_type": "display_data"
    },
    {
     "name": "stderr",
     "output_type": "stream",
     "text": [
      "/var/folders/lq/0q3fzmb57s3c187k6gjyx3_00000gn/T/ipykernel_2625/1373879499.py:3: FutureWarning: \n",
      "\n",
      "Passing `palette` without assigning `hue` is deprecated and will be removed in v0.14.0. Assign the `x` variable to `hue` and set `legend=False` for the same effect.\n",
      "\n",
      "  sns.barplot(data=df[metric], palette='YlGn')\n"
     ]
    },
    {
     "data": {
      "image/png": "[encoded data removed]",
      "text/plain": [
       "<Figure size 1000x600 with 1 Axes>"
      ]
     },
     "metadata": {},
     "output_type": "display_data"
    },
    {
     "name": "stderr",
     "output_type": "stream",
     "text": [
      "/var/folders/lq/0q3fzmb57s3c187k6gjyx3_00000gn/T/ipykernel_2625/1373879499.py:3: FutureWarning: \n",
      "\n",
      "Passing `palette` without assigning `hue` is deprecated and will be removed in v0.14.0. Assign the `x` variable to `hue` and set `legend=False` for the same effect.\n",
      "\n",
      "  sns.barplot(data=df[metric], palette='YlGn')\n"
     ]
    },
    {
     "data": {
      "image/png": "[encoded data removed]",
      "text/plain": [
       "<Figure size 1000x600 with 1 Axes>"
      ]
     },
     "metadata": {},
     "output_type": "display_data"
    }
   ],
   "source": [
    "def model_accuracy (df, metrics, models):\n",
    "    acc_df = pd.DataFrame(columns = metrics)\n",
    "    for metric in metrics:\n",
    "        for model in models:\n",
    "            acc_df.loc[model,metric] = len(df.query(f'{metric}=={model}_{metric}'))/len(df)\n",
    "        plot_accuracy(acc_df, metric)\n",
    "    return acc_df\n",
    "\n",
    "accuracy_df = model_accuracy(test_data, ['intent', 'endpoint', 'parkcode'], ['gpt', 'spacy', 'nltk'])\n",
    "\n"
   ]
  },
  {
   "cell_type": "code",
   "execution_count": 141,
   "metadata": {},
   "outputs": [
    {
     "data": {
      "text/html": [
       "<div>\n",
       "<style scoped>\n",
       "    .dataframe tbody tr th:only-of-type {\n",
       "        vertical-align: middle;\n",
       "    }\n",
       "\n",
       "    .dataframe tbody tr th {\n",
       "        vertical-align: top;\n",
       "    }\n",
       "\n",
       "    .dataframe thead th {\n",
       "        text-align: right;\n",
       "    }\n",
       "</style>\n",
       "<table border=\"1\" class=\"dataframe\">\n",
       "  <thead>\n",
       "    <tr style=\"text-align: right;\">\n",
       "      <th></th>\n",
       "      <th>intent</th>\n",
       "      <th>endpoint</th>\n",
       "      <th>parkcode</th>\n",
       "    </tr>\n",
       "  </thead>\n",
       "  <tbody>\n",
       "    <tr>\n",
       "      <th>gpt</th>\n",
       "      <td>1.0</td>\n",
       "      <td>0.91</td>\n",
       "      <td>0.98</td>\n",
       "    </tr>\n",
       "    <tr>\n",
       "      <th>spacy</th>\n",
       "      <td>0.02</td>\n",
       "      <td>0.27</td>\n",
       "      <td>0.57</td>\n",
       "    </tr>\n",
       "    <tr>\n",
       "      <th>nltk</th>\n",
       "      <td>0.02</td>\n",
       "      <td>0.27</td>\n",
       "      <td>0.46</td>\n",
       "    </tr>\n",
       "  </tbody>\n",
       "</table>\n",
       "</div>"
      ],
      "text/plain": [
       "      intent endpoint parkcode\n",
       "gpt      1.0     0.91     0.98\n",
       "spacy   0.02     0.27     0.57\n",
       "nltk    0.02     0.27     0.46"
      ]
     },
     "execution_count": 141,
     "metadata": {},
     "output_type": "execute_result"
    }
   ],
   "source": [
    "accuracy_df"
   ]
  },
  {
   "cell_type": "code",
   "execution_count": 22,
   "metadata": {},
   "outputs": [
    {
     "data": {
      "text/html": [
       "<div>\n",
       "<style scoped>\n",
       "    .dataframe tbody tr th:only-of-type {\n",
       "        vertical-align: middle;\n",
       "    }\n",
       "\n",
       "    .dataframe tbody tr th {\n",
       "        vertical-align: top;\n",
       "    }\n",
       "\n",
       "    .dataframe thead th {\n",
       "        text-align: right;\n",
       "    }\n",
       "</style>\n",
       "<table border=\"1\" class=\"dataframe\">\n",
       "  <thead>\n",
       "    <tr style=\"text-align: right;\">\n",
       "      <th></th>\n",
       "      <th>intent</th>\n",
       "      <th>endpoint</th>\n",
       "      <th>parkcode</th>\n",
       "    </tr>\n",
       "  </thead>\n",
       "  <tbody>\n",
       "    <tr>\n",
       "      <th>gpt</th>\n",
       "      <td>1.0</td>\n",
       "      <td>0.91</td>\n",
       "      <td>0.98</td>\n",
       "    </tr>\n",
       "    <tr>\n",
       "      <th>spacy</th>\n",
       "      <td>0.02</td>\n",
       "      <td>0.27</td>\n",
       "      <td>0.57</td>\n",
       "    </tr>\n",
       "  </tbody>\n",
       "</table>\n",
       "</div>"
      ],
      "text/plain": [
       "      intent endpoint parkcode\n",
       "gpt      1.0     0.91     0.98\n",
       "spacy   0.02     0.27     0.57"
      ]
     },
     "execution_count": 22,
     "metadata": {},
     "output_type": "execute_result"
    }
   ],
   "source": [
    "accuracy_df"
   ]
  },
  {
   "cell_type": "markdown",
   "metadata": {},
   "source": [
    "Errors"
   ]
  },
  {
   "cell_type": "code",
   "execution_count": 50,
   "metadata": {},
   "outputs": [],
   "source": []
  },
  {
   "cell_type": "code",
   "execution_count": 142,
   "metadata": {},
   "outputs": [
    {
     "data": {
      "text/html": [
       "<div>\n",
       "<style scoped>\n",
       "    .dataframe tbody tr th:only-of-type {\n",
       "        vertical-align: middle;\n",
       "    }\n",
       "\n",
       "    .dataframe tbody tr th {\n",
       "        vertical-align: top;\n",
       "    }\n",
       "\n",
       "    .dataframe thead th {\n",
       "        text-align: right;\n",
       "    }\n",
       "</style>\n",
       "<table border=\"1\" class=\"dataframe\">\n",
       "  <thead>\n",
       "    <tr style=\"text-align: right;\">\n",
       "      <th></th>\n",
       "      <th>intent</th>\n",
       "      <th>endpoint</th>\n",
       "      <th>parkcode</th>\n",
       "    </tr>\n",
       "  </thead>\n",
       "  <tbody>\n",
       "    <tr>\n",
       "      <th>total</th>\n",
       "      <td>100</td>\n",
       "      <td>100</td>\n",
       "      <td>100</td>\n",
       "    </tr>\n",
       "    <tr>\n",
       "      <th>all_right</th>\n",
       "      <td>2</td>\n",
       "      <td>27</td>\n",
       "      <td>44</td>\n",
       "    </tr>\n",
       "    <tr>\n",
       "      <th>all_wrong</th>\n",
       "      <td>0</td>\n",
       "      <td>9</td>\n",
       "      <td>0</td>\n",
       "    </tr>\n",
       "    <tr>\n",
       "      <th>only_gpt</th>\n",
       "      <td>98</td>\n",
       "      <td>64</td>\n",
       "      <td>43</td>\n",
       "    </tr>\n",
       "    <tr>\n",
       "      <th>spacy_and_nltk</th>\n",
       "      <td>2</td>\n",
       "      <td>2</td>\n",
       "      <td>2</td>\n",
       "    </tr>\n",
       "    <tr>\n",
       "      <th>only_spacy</th>\n",
       "      <td>0</td>\n",
       "      <td>0</td>\n",
       "      <td>0</td>\n",
       "    </tr>\n",
       "    <tr>\n",
       "      <th>gpt_and_nltk</th>\n",
       "      <td>0</td>\n",
       "      <td>0</td>\n",
       "      <td>0</td>\n",
       "    </tr>\n",
       "    <tr>\n",
       "      <th>only_nltk</th>\n",
       "      <td>0</td>\n",
       "      <td>0</td>\n",
       "      <td>0</td>\n",
       "    </tr>\n",
       "    <tr>\n",
       "      <th>gpt_and_spacy</th>\n",
       "      <td>11</td>\n",
       "      <td>11</td>\n",
       "      <td>11</td>\n",
       "    </tr>\n",
       "  </tbody>\n",
       "</table>\n",
       "</div>"
      ],
      "text/plain": [
       "               intent endpoint parkcode\n",
       "total             100      100      100\n",
       "all_right           2       27       44\n",
       "all_wrong           0        9        0\n",
       "only_gpt           98       64       43\n",
       "spacy_and_nltk      2        2        2\n",
       "only_spacy          0        0        0\n",
       "gpt_and_nltk        0        0        0\n",
       "only_nltk           0        0        0\n",
       "gpt_and_spacy      11       11       11"
      ]
     },
     "execution_count": 142,
     "metadata": {},
     "output_type": "execute_result"
    }
   ],
   "source": [
    "def top_errors (df, metrics, models):\n",
    "    errors_df = pd.DataFrame(columns = metrics)\n",
    "    for metric in metrics:\n",
    "        right = '&'.join([f'{metric}=={model}_{metric}' for model in models])\n",
    "        wrong = '&'.join([f'{metric}!={model}_{metric}' for model in models])\n",
    "        errors_df.loc['total', metric] = len(df)\n",
    "        errors_df.loc['all_right', metric] = len(df.query(right))\n",
    "        errors_df.loc['all_wrong', metric] = len(df.query(wrong))\n",
    "        for indx, model in enumerate(models):\n",
    "            other_models = models[:indx]+models[indx+1:]\n",
    "            right_model = '&'.join([f'{metric}=={model}_{metric}']+[f'{metric}!={mod}_{metric}' for mod in other_models])\n",
    "            wrong_model = '&'.join([f'{metric}!={model}_{metric}']+[f'{metric}=={mod}_{metric}' for mod in other_models])\n",
    "            errors_df.loc[f'only_{model}', metric] = len(df.query(right_model))\n",
    "            errors_df.loc['_and_'.join([mod for mod in other_models])] = len(df.query(wrong_model))\n",
    "    return errors_df\n",
    "\n",
    "errors = top_errors(test_data, ['intent', 'endpoint', 'parkcode'], ['gpt', 'spacy', 'nltk'])\n",
    "errors"
   ]
  },
  {
   "cell_type": "code",
   "execution_count": 220,
   "metadata": {},
   "outputs": [
    {
     "data": {
      "text/html": [
       "<div>\n",
       "<style scoped>\n",
       "    .dataframe tbody tr th:only-of-type {\n",
       "        vertical-align: middle;\n",
       "    }\n",
       "\n",
       "    .dataframe tbody tr th {\n",
       "        vertical-align: top;\n",
       "    }\n",
       "\n",
       "    .dataframe thead th {\n",
       "        text-align: right;\n",
       "    }\n",
       "</style>\n",
       "<table border=\"1\" class=\"dataframe\">\n",
       "  <thead>\n",
       "    <tr style=\"text-align: right;\">\n",
       "      <th></th>\n",
       "      <th>intent</th>\n",
       "      <th>endpoint</th>\n",
       "      <th>parkcode</th>\n",
       "    </tr>\n",
       "  </thead>\n",
       "  <tbody>\n",
       "    <tr>\n",
       "      <th>total</th>\n",
       "      <td>100</td>\n",
       "      <td>100</td>\n",
       "      <td>100</td>\n",
       "    </tr>\n",
       "    <tr>\n",
       "      <th>right</th>\n",
       "      <td>2</td>\n",
       "      <td>27</td>\n",
       "      <td>47</td>\n",
       "    </tr>\n",
       "    <tr>\n",
       "      <th>wrong</th>\n",
       "      <td>0</td>\n",
       "      <td>9</td>\n",
       "      <td>13</td>\n",
       "    </tr>\n",
       "  </tbody>\n",
       "</table>\n",
       "</div>"
      ],
      "text/plain": [
       "      intent endpoint parkcode\n",
       "total    100      100      100\n",
       "right      2       27       47\n",
       "wrong      0        9       13"
      ]
     },
     "execution_count": 220,
     "metadata": {},
     "output_type": "execute_result"
    }
   ],
   "source": [
    "errors"
   ]
  },
  {
   "cell_type": "code",
   "execution_count": 24,
   "metadata": {},
   "outputs": [
    {
     "data": {
      "text/html": [
       "<div>\n",
       "<style scoped>\n",
       "    .dataframe tbody tr th:only-of-type {\n",
       "        vertical-align: middle;\n",
       "    }\n",
       "\n",
       "    .dataframe tbody tr th {\n",
       "        vertical-align: top;\n",
       "    }\n",
       "\n",
       "    .dataframe thead th {\n",
       "        text-align: right;\n",
       "    }\n",
       "</style>\n",
       "<table border=\"1\" class=\"dataframe\">\n",
       "  <thead>\n",
       "    <tr style=\"text-align: right;\">\n",
       "      <th></th>\n",
       "      <th>intent</th>\n",
       "      <th>endpoint</th>\n",
       "      <th>parkcode</th>\n",
       "    </tr>\n",
       "  </thead>\n",
       "  <tbody>\n",
       "    <tr>\n",
       "      <th>total</th>\n",
       "      <td>100</td>\n",
       "      <td>100</td>\n",
       "      <td>100</td>\n",
       "    </tr>\n",
       "    <tr>\n",
       "      <th>right</th>\n",
       "      <td>2</td>\n",
       "      <td>27</td>\n",
       "      <td>55</td>\n",
       "    </tr>\n",
       "    <tr>\n",
       "      <th>wrong</th>\n",
       "      <td>0</td>\n",
       "      <td>9</td>\n",
       "      <td>0</td>\n",
       "    </tr>\n",
       "  </tbody>\n",
       "</table>\n",
       "</div>"
      ],
      "text/plain": [
       "      intent endpoint parkcode\n",
       "total    100      100      100\n",
       "right      2       27       55\n",
       "wrong      0        9        0"
      ]
     },
     "execution_count": 24,
     "metadata": {},
     "output_type": "execute_result"
    }
   ],
   "source": [
    "errors"
   ]
  },
  {
   "cell_type": "code",
   "execution_count": 143,
   "metadata": {},
   "outputs": [],
   "source": [
    "def find_wrong(df, metric, model):\n",
    "    wrong = df.query(f'{metric}!={model}_{metric}')\n",
    "    wrong = wrong[[metric, f'{model}_{metric}']].value_counts()\n",
    "\n",
    "    return wrong"
   ]
  },
  {
   "cell_type": "code",
   "execution_count": 56,
   "metadata": {},
   "outputs": [
    {
     "data": {
      "text/plain": [
       "Series([], Name: count, dtype: int64)"
      ]
     },
     "execution_count": 56,
     "metadata": {},
     "output_type": "execute_result"
    }
   ],
   "source": [
    "find_wrong(test_data, 'intent', 'gpt')"
   ]
  },
  {
   "cell_type": "code",
   "execution_count": 57,
   "metadata": {},
   "outputs": [
    {
     "data": {
      "text/plain": [
       "endpoint    gpt_endpoint\n",
       "feespasses  fees            9\n",
       "Name: count, dtype: int64"
      ]
     },
     "execution_count": 57,
     "metadata": {},
     "output_type": "execute_result"
    }
   ],
   "source": [
    "find_wrong(test_data, 'endpoint', 'gpt')"
   ]
  },
  {
   "cell_type": "code",
   "execution_count": 58,
   "metadata": {},
   "outputs": [
    {
     "data": {
      "text/plain": [
       "parkcode  gpt_parkcode\n",
       "fomr      fom             1\n",
       "jofl      jof             1\n",
       "Name: count, dtype: int64"
      ]
     },
     "execution_count": 58,
     "metadata": {},
     "output_type": "execute_result"
    }
   ],
   "source": [
    "find_wrong(test_data, 'parkcode', 'gpt')"
   ]
  },
  {
   "cell_type": "code",
   "execution_count": 59,
   "metadata": {},
   "outputs": [
    {
     "data": {
      "text/plain": [
       "intent       spacy_intent\n",
       "amenities    none            11\n",
       "events       other           10\n",
       "description  other            9\n",
       "fullname     other            9\n",
       "alerts       other            8\n",
       "address      none             7\n",
       "             other            7\n",
       "amenities    other            6\n",
       "feespass     other            6\n",
       "fullname     none             6\n",
       "state        none             5\n",
       "description  none             4\n",
       "events       none             4\n",
       "alerts       none             3\n",
       "feespass     none             3\n",
       "Name: count, dtype: int64"
      ]
     },
     "execution_count": 59,
     "metadata": {},
     "output_type": "execute_result"
    }
   ],
   "source": [
    "find_wrong(test_data, 'intent', 'spacy')"
   ]
  },
  {
   "cell_type": "code",
   "execution_count": 60,
   "metadata": {},
   "outputs": [
    {
     "data": {
      "text/plain": [
       "endpoint    spacy_endpoint                                                \n",
       "parks       Park not found in the query. Please provide a valid park name.    22\n",
       "amenities   Park not found in the query. Please provide a valid park name.    11\n",
       "events      parks                                                             10\n",
       "alerts      parks                                                              8\n",
       "amenities   parks                                                              6\n",
       "feespasses  parks                                                              6\n",
       "events      Park not found in the query. Please provide a valid park name.     4\n",
       "alerts      Park not found in the query. Please provide a valid park name.     3\n",
       "feespasses  Park not found in the query. Please provide a valid park name.     3\n",
       "Name: count, dtype: int64"
      ]
     },
     "execution_count": 60,
     "metadata": {},
     "output_type": "execute_result"
    }
   ],
   "source": [
    "find_wrong(test_data, 'endpoint', 'spacy')\n"
   ]
  },
  {
   "cell_type": "code",
   "execution_count": 61,
   "metadata": {},
   "outputs": [
    {
     "data": {
      "text/plain": [
       "parkcode  spacy_parkcode\n",
       "nebe      none              3\n",
       "casa      none              3\n",
       "samo      none              2\n",
       "elca      none              2\n",
       "upde      none              2\n",
       "tuin      none              2\n",
       "hove      none              2\n",
       "sand      none              2\n",
       "cari      none              2\n",
       "aleu      none              2\n",
       "saga      none              2\n",
       "foda      none              2\n",
       "adam      none              1\n",
       "roca      none              1\n",
       "popo      none              1\n",
       "ston      none              1\n",
       "tosy      none              1\n",
       "rabr      none              1\n",
       "fols      none              1\n",
       "neri      none              1\n",
       "efmo      none              1\n",
       "deso      none              1\n",
       "cave      none              1\n",
       "cach      none              1\n",
       "bisc      none              1\n",
       "biho      none              1\n",
       "bepa      none              1\n",
       "apco      none              1\n",
       "waca      none              1\n",
       "Name: count, dtype: int64"
      ]
     },
     "execution_count": 61,
     "metadata": {},
     "output_type": "execute_result"
    }
   ],
   "source": [
    "find_wrong(test_data, 'parkcode', 'spacy')\n"
   ]
  },
  {
   "cell_type": "code",
   "execution_count": 144,
   "metadata": {},
   "outputs": [
    {
     "data": {
      "text/plain": [
       "intent       nltk_intent\n",
       "amenities    none           11\n",
       "events       other          10\n",
       "description  other           9\n",
       "fullname     other           9\n",
       "alerts       other           8\n",
       "address      none            7\n",
       "             other           7\n",
       "amenities    other           6\n",
       "feespass     other           6\n",
       "fullname     none            6\n",
       "state        none            5\n",
       "description  none            4\n",
       "events       none            4\n",
       "alerts       none            3\n",
       "feespass     none            3\n",
       "Name: count, dtype: int64"
      ]
     },
     "execution_count": 144,
     "metadata": {},
     "output_type": "execute_result"
    }
   ],
   "source": [
    "find_wrong(test_data, 'intent', 'nltk')"
   ]
  },
  {
   "cell_type": "code",
   "execution_count": 145,
   "metadata": {},
   "outputs": [
    {
     "data": {
      "text/plain": [
       "endpoint    nltk_endpoint                                                 \n",
       "parks       Park not found in the query. Please provide a valid park name.    22\n",
       "amenities   Park not found in the query. Please provide a valid park name.    11\n",
       "events      parks                                                             10\n",
       "alerts      parks                                                              8\n",
       "amenities   parks                                                              6\n",
       "feespasses  parks                                                              6\n",
       "events      Park not found in the query. Please provide a valid park name.     4\n",
       "alerts      Park not found in the query. Please provide a valid park name.     3\n",
       "feespasses  Park not found in the query. Please provide a valid park name.     3\n",
       "Name: count, dtype: int64"
      ]
     },
     "execution_count": 145,
     "metadata": {},
     "output_type": "execute_result"
    }
   ],
   "source": [
    "find_wrong(test_data, 'endpoint', 'nltk')"
   ]
  },
  {
   "cell_type": "code",
   "execution_count": 146,
   "metadata": {},
   "outputs": [
    {
     "data": {
      "text/plain": [
       "parkcode  nltk_parkcode\n",
       "kaho      saga             4\n",
       "nebe      none             3\n",
       "casa      none             3\n",
       "samo      none             2\n",
       "wapa      saga             2\n",
       "nepe      saga             2\n",
       "upde      none             2\n",
       "tuin      none             2\n",
       "cari      none             2\n",
       "sand      none             2\n",
       "aleu      none             2\n",
       "elca      none             2\n",
       "foda      none             2\n",
       "saga      none             2\n",
       "hove      none             2\n",
       "roca      none             1\n",
       "adam      none             1\n",
       "popo      none             1\n",
       "ston      none             1\n",
       "tosy      none             1\n",
       "waca      none             1\n",
       "rabr      none             1\n",
       "kewe      saga             1\n",
       "neri      none             1\n",
       "natr      bawa             1\n",
       "fols      none             1\n",
       "efmo      none             1\n",
       "deso      none             1\n",
       "cave      none             1\n",
       "cach      none             1\n",
       "bisc      none             1\n",
       "biho      none             1\n",
       "bepa      none             1\n",
       "apco      none             1\n",
       "wefa      saga             1\n",
       "Name: count, dtype: int64"
      ]
     },
     "execution_count": 146,
     "metadata": {},
     "output_type": "execute_result"
    }
   ],
   "source": [
    "find_wrong(test_data, 'parkcode', 'nltk')"
   ]
  }
 ],
 "metadata": {
  "kernelspec": {
   "display_name": "python38",
   "language": "python",
   "name": "python3"
  },
  "language_info": {
   "codemirror_mode": {
    "name": "ipython",
    "version": 3
   },
   "file_extension": ".py",
   "mimetype": "text/x-python",
   "name": "python",
   "nbconvert_exporter": "python",
   "pygments_lexer": "ipython3",
   "version": "3.11.8"
  }
 },
 "nbformat": 4,
 "nbformat_minor": 2
}
