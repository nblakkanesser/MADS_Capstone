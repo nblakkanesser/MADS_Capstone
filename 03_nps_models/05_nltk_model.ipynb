{
 "cells": [
  {
   "cell_type": "code",
   "execution_count": 11,
   "metadata": {},
   "outputs": [],
   "source": [
    "\n",
    "import pandas as pd\n",
    "import requests\n",
    "import nltk\n",
    "from nltk.tokenize import word_tokenize\n",
    "from nltk.corpus import stopwords\n",
    "from nltk.stem import WordNetLemmatizer\n",
    "import pickle\n",
    "\n",
    "import sys\n",
    "\n",
    "sys.path.insert(0,'../')\n",
    "from environment import env"
   ]
  },
  {
   "cell_type": "code",
   "execution_count": 2,
   "metadata": {},
   "outputs": [],
   "source": [
    "config = env.env()"
   ]
  },
  {
   "cell_type": "code",
   "execution_count": 8,
   "metadata": {},
   "outputs": [
    {
     "name": "stderr",
     "output_type": "stream",
     "text": [
      "[nltk_data] Downloading package punkt to\n",
      "[nltk_data]     /Users/lauralyns/Documents/MADS/SIADS 699 -\n",
      "[nltk_data]     Capstone/Capstone\n",
      "[nltk_data]     VS/MADS_Capstone/.venv/lib/nltk_data...\n",
      "[nltk_data]   Package punkt is already up-to-date!\n",
      "[nltk_data] Downloading package stopwords to\n",
      "[nltk_data]     /Users/lauralyns/Documents/MADS/SIADS 699 -\n",
      "[nltk_data]     Capstone/Capstone\n",
      "[nltk_data]     VS/MADS_Capstone/.venv/lib/nltk_data...\n",
      "[nltk_data]   Package stopwords is already up-to-date!\n",
      "[nltk_data] Downloading package wordnet to\n",
      "[nltk_data]     /Users/lauralyns/Documents/MADS/SIADS 699 -\n",
      "[nltk_data]     Capstone/Capstone\n",
      "[nltk_data]     VS/MADS_Capstone/.venv/lib/nltk_data...\n",
      "[nltk_data]   Package wordnet is already up-to-date!\n"
     ]
    }
   ],
   "source": [
    "nltk.download('punkt')\n",
    "nltk.download('stopwords')\n",
    "nltk.download('wordnet')\n",
    "\n",
    "api_base_url = 'https://developer.nps.gov/api/v1/'\n",
    "park_csv_path = '../02_nps_api_data/park_to_parkcode.csv'\n",
    "model_output = 'nltk_model.pkl'"
   ]
  },
  {
   "cell_type": "code",
   "execution_count": 4,
   "metadata": {},
   "outputs": [],
   "source": [
    "class NLTKModelFunctions:\n",
    "    def __init__(self, config, park_csv_path):\n",
    "        self.config = config\n",
    "        self.park_codes = self.load_park_codes(park_csv_path)\n",
    "\n",
    "    def load_park_codes(self, park_csv_path):\n",
    "        \"\"\"\n",
    "        Loads park codes from a CSV file into a dictionary.\n",
    "        \n",
    "        park_csv_path (str): Path to the CSV file containing park names and their codes.\n",
    "        \"\"\"\n",
    "        park_df = pd.read_csv(park_csv_path)\n",
    "        park_codes = {}\n",
    "        lemmatizer = WordNetLemmatizer()\n",
    "        stop_words = set(stopwords.words('english'))\n",
    "        \n",
    "        for index, row in park_df.iterrows():\n",
    "            tokens = word_tokenize(row['fullName'].lower())\n",
    "            tokens = [lemmatizer.lemmatize(token) for token in tokens if token.isalpha() and token not in stop_words]\n",
    "            normalized_park_name = ' '.join(tokens)\n",
    "            park_codes[normalized_park_name] = row['parkCode']\n",
    "        \n",
    "        return park_codes\n",
    "\n",
    "    def preprocess_text(self, text):\n",
    "        tokens = word_tokenize(text.lower())\n",
    "        stop_words = set(stopwords.words('english'))\n",
    "        tokens = [token for token in tokens if token.isalpha() and token not in stop_words]\n",
    "        lemmatizer = WordNetLemmatizer()\n",
    "        tokens = [lemmatizer.lemmatize(token) for token in tokens]\n",
    "        return ' '.join(tokens)\n",
    "\n",
    "    def predict_intent(self, query):\n",
    "        preprocessed_query = self.preprocess_text(query)\n",
    "        if 'description' in preprocessed_query:\n",
    "            return 'description'\n",
    "        elif 'address' in preprocessed_query:\n",
    "            return 'address'\n",
    "        elif 'state' in preprocessed_query:\n",
    "            return 'state'\n",
    "        elif 'alerts' in preprocessed_query:\n",
    "            return 'alerts'\n",
    "        elif 'amenities' in preprocessed_query:\n",
    "            return 'amenities'\n",
    "        elif 'events' in preprocessed_query:\n",
    "            return 'events'\n",
    "        elif 'fees' in preprocessed_query or 'passes' in preprocessed_query:\n",
    "            return 'feespass'\n",
    "        else:\n",
    "            return 'other'\n",
    "\n",
    "    def get_park_code(self, query):\n",
    "        preprocessed_query = self.preprocess_text(query)\n",
    "        lemmatizer = WordNetLemmatizer()\n",
    "        stop_words = set(stopwords.words('english'))\n",
    "        for park_name, park_code in self.park_codes.items():\n",
    "            tokens = word_tokenize(park_name)\n",
    "            tokens = [lemmatizer.lemmatize(token) for token in tokens if token.isalpha() and token not in stop_words]\n",
    "            normalized_park_name = ' '.join(tokens)\n",
    "            if normalized_park_name in preprocessed_query:\n",
    "                return park_code\n",
    "        return None\n",
    "\n",
    "    def get_params(self, query):\n",
    "        intent = self.predict_intent(query)\n",
    "        park_code = self.get_park_code(query)\n",
    "\n",
    "        if park_code is None:\n",
    "            raise ValueError(\"Park not found in the query. Please provide a valid park name.\")\n",
    "\n",
    "        endpoint_mapping = {\n",
    "            'description': 'parks',\n",
    "            'address': 'parks',\n",
    "            'state': 'parks',\n",
    "            'alerts': 'alerts',\n",
    "            'amenities': 'amenities',\n",
    "            'events': 'events',\n",
    "            'feespass': 'feespasses'\n",
    "        }\n",
    "\n",
    "        endpoint = endpoint_mapping.get(intent, 'parks')\n",
    "\n",
    "        return endpoint, park_code, intent"
   ]
  },
  {
   "cell_type": "code",
   "execution_count": 5,
   "metadata": {},
   "outputs": [],
   "source": [
    "nltk_model_functions = NLTKModelFunctions(config, park_csv_path)"
   ]
  },
  {
   "cell_type": "code",
   "execution_count": 7,
   "metadata": {},
   "outputs": [
    {
     "name": "stdout",
     "output_type": "stream",
     "text": [
      "parks grsp state\n"
     ]
    }
   ],
   "source": [
    "query = 'What state is Green Springs in?'\n",
    "endpoint, park_code, intent = nltk_model_functions.get_params(query)\n",
    "print(endpoint, park_code, intent)"
   ]
  },
  {
   "cell_type": "code",
   "execution_count": 12,
   "metadata": {},
   "outputs": [],
   "source": [
    "pickle.dump(nltk_model_functions, open(model_output, 'wb'))"
   ]
  }
 ],
 "metadata": {
  "kernelspec": {
   "display_name": "Python 3",
   "language": "python",
   "name": "python3"
  },
  "language_info": {
   "codemirror_mode": {
    "name": "ipython",
    "version": 3
   },
   "file_extension": ".py",
   "mimetype": "text/x-python",
   "name": "python",
   "nbconvert_exporter": "python",
   "pygments_lexer": "ipython3",
   "version": "3.11.8"
  }
 },
 "nbformat": 4,
 "nbformat_minor": 2
}
