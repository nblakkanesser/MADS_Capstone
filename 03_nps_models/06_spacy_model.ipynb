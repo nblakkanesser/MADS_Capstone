{
 "cells": [
  {
   "cell_type": "code",
   "execution_count": 1,
   "metadata": {},
   "outputs": [],
   "source": [
    "import pandas as pd\n",
    "import spacy\n",
    "import sys\n",
    "import pickle\n",
    "\n",
    "sys.path.insert(0,'../')\n",
    "from environment import env"
   ]
  },
  {
   "cell_type": "code",
   "execution_count": 2,
   "metadata": {},
   "outputs": [],
   "source": [
    "config = env.env()\n",
    "nlp = spacy.load(\"en_core_web_sm\")\n",
    "api_base_url = 'https://developer.nps.gov/api/v1/'\n",
    "park_csv_path = '../02_nps_api_data/park_to_parkcode.csv'\n"
   ]
  },
  {
   "cell_type": "code",
   "execution_count": 3,
   "metadata": {},
   "outputs": [],
   "source": [
    "class SpaCyModelFunctions:\n",
    "    def __init__(self, config, park_csv_path):\n",
    "        self.config = config\n",
    "        self.park_codes = self.load_park_codes(park_csv_path)\n",
    "\n",
    "    def load_park_codes(self, park_csv_path):\n",
    "        \"\"\"\n",
    "        Loads park codes from a CSV file into a dictionary.\n",
    "        \n",
    "        park_csv_path (str): Path to the CSV file containing park names and their codes.\n",
    "        \"\"\"\n",
    "        park_df = pd.read_csv(park_csv_path)\n",
    "        park_codes = {}\n",
    "        \n",
    "        for index, row in park_df.iterrows():\n",
    "            tokens = self.preprocess_text(row['fullName'].lower())\n",
    "            normalized_park_name = ' '.join(tokens)\n",
    "            park_codes[normalized_park_name] = row['parkCode']\n",
    "        \n",
    "        return park_codes\n",
    "\n",
    "    def preprocess_text(self, text):\n",
    "        doc = nlp(text)\n",
    "        return [token.lemma_ for token in doc if token.is_alpha and not token.is_stop]\n",
    "\n",
    "    def predict_intent(self, query):\n",
    "        tokens = self.preprocess_text(query.lower())\n",
    "        preprocessed_query = ' '.join(tokens)\n",
    "        \n",
    "        if 'description' in preprocessed_query:\n",
    "            return 'description'\n",
    "        elif 'address' in preprocessed_query:\n",
    "            return 'address'\n",
    "        elif 'state' in preprocessed_query:\n",
    "            return 'state'\n",
    "        elif 'alerts' in preprocessed_query:\n",
    "            return 'alerts'\n",
    "        elif 'amenities' in preprocessed_query:\n",
    "            return 'amenities'\n",
    "        elif 'events' in preprocessed_query:\n",
    "            return 'events'\n",
    "        elif 'fees' in preprocessed_query or 'passes' in preprocessed_query:\n",
    "            return 'feespass'\n",
    "        else:\n",
    "            return 'other'\n",
    "\n",
    "    def get_park_code(self, query):\n",
    "        tokens = self.preprocess_text(query.lower())\n",
    "        preprocessed_query = ' '.join(tokens)\n",
    "        \n",
    "        for park_name, park_code in self.park_codes.items():\n",
    "            if park_name in preprocessed_query:\n",
    "                return park_code\n",
    "        return None\n",
    "\n",
    "    def get_params(self, query):\n",
    "        intent = self.predict_intent(query)\n",
    "        park_code = self.get_park_code(query)\n",
    "\n",
    "      #  if park_code is None:\n",
    "       #     raise ValueError(\"Park not found in the query. Please provide a valid park name.\")\n",
    "\n",
    "        endpoint_mapping = {\n",
    "            'description': 'parks',\n",
    "            'address': 'parks',\n",
    "            'state': 'parks',\n",
    "            'alerts': 'alerts',\n",
    "            'amenities': 'amenities',\n",
    "            'events': 'events',\n",
    "            'feespass': 'feespasses'\n",
    "        }\n",
    "\n",
    "        endpoint = endpoint_mapping.get(intent, 'parks')\n",
    "\n",
    "        return endpoint, park_code, intent\n"
   ]
  },
  {
   "cell_type": "code",
   "execution_count": 4,
   "metadata": {},
   "outputs": [],
   "source": [
    "spacy_model_functions = SpaCyModelFunctions(config, park_csv_path)"
   ]
  },
  {
   "cell_type": "code",
   "execution_count": 6,
   "metadata": {},
   "outputs": [
    {
     "name": "stdout",
     "output_type": "stream",
     "text": [
      "parks grsp state         fullName parkCode state  \\\n",
      "0  Green Springs     grsp    VA   \n",
      "\n",
      "                                         description postalCode  \\\n",
      "0  Green Springs National Historic Landmark Distr...      23093   \n",
      "\n",
      "                                  city stateCode countryCode  \\\n",
      "0  Multiple Privately Owned Properties        VA          US   \n",
      "\n",
      "  provinceTerritoryCode                  line1      type line3 line2  \n",
      "0                        Western Louisa County  Physical              \n"
     ]
    }
   ],
   "source": [
    "query = 'What state is Green Springs in?'\n",
    "endpoint, park_code, intent, output = spacy_model_functions.api_call(query)\n",
    "print(endpoint, park_code, intent)"
   ]
  },
  {
   "cell_type": "code",
   "execution_count": 12,
   "metadata": {},
   "outputs": [
    {
     "name": "stdout",
     "output_type": "stream",
     "text": [
      "parks None state\n"
     ]
    }
   ],
   "source": [
    "query = 'What state is Yosemite in?'\n",
    "endpoint, park_code, intent = spacy_model_functions.get_params(query)\n",
    "print(endpoint, park_code, intent)"
   ]
  },
  {
   "cell_type": "code",
   "execution_count": 13,
   "metadata": {},
   "outputs": [
    {
     "name": "stdout",
     "output_type": "stream",
     "text": [
      "parks yose state\n"
     ]
    }
   ],
   "source": [
    "query = 'What state is Yosemite national park in?'\n",
    "endpoint, park_code, intent = spacy_model_functions.get_params(query)\n",
    "print(endpoint, park_code, intent)"
   ]
  },
  {
   "cell_type": "markdown",
   "metadata": {},
   "source": [
    "More information on SpaCy:\n",
    "https://spacy.io/models"
   ]
  },
  {
   "cell_type": "code",
   "execution_count": 5,
   "metadata": {},
   "outputs": [],
   "source": [
    "spacy_model_functions = SpaCyModelFunctions(config, park_csv_path)\n",
    "pickle.dump(spacy_model_functions, open(f'spacy_model.pkl', 'wb'))"
   ]
  }
 ],
 "metadata": {
  "kernelspec": {
   "display_name": ".venv",
   "language": "python",
   "name": "python3"
  },
  "language_info": {
   "codemirror_mode": {
    "name": "ipython",
    "version": 3
   },
   "file_extension": ".py",
   "mimetype": "text/x-python",
   "name": "python",
   "nbconvert_exporter": "python",
   "pygments_lexer": "ipython3",
   "version": "3.11.8"
  }
 },
 "nbformat": 4,
 "nbformat_minor": 2
}
