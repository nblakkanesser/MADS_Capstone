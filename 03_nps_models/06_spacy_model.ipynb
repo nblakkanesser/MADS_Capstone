{
 "cells": [
  {
   "cell_type": "code",
   "execution_count": 18,
   "metadata": {},
   "outputs": [],
   "source": [
    "#! pip install spacy\n",
    "#! pip install $(spacy info en_core_web_sm --url)\n",
    "\n",
    "import pandas as pd\n",
    "import requests\n",
    "import spacy\n",
    "nlp = spacy.load(\"en_core_web_sm\")\n",
    "\n",
    "\n",
    "import sys\n",
    "\n",
    "sys.path.insert(0,'../')\n",
    "from environment import env"
   ]
  },
  {
   "cell_type": "code",
   "execution_count": 19,
   "metadata": {},
   "outputs": [],
   "source": [
    "config = env.env()"
   ]
  },
  {
   "cell_type": "code",
   "execution_count": 20,
   "metadata": {},
   "outputs": [],
   "source": [
    "api_base_url = 'https://developer.nps.gov/api/v1/'\n",
    "\n",
    "park_csv_path = '../02_nps_api_data/park_to_parkcode.csv'"
   ]
  },
  {
   "cell_type": "code",
   "execution_count": 21,
   "metadata": {},
   "outputs": [],
   "source": [
    "class SpaCyModelFunctions:\n",
    "    def __init__(self, config, park_csv_path):\n",
    "        self.config = config\n",
    "        self.park_codes = self.load_park_codes(park_csv_path)\n",
    "\n",
    "    def load_park_codes(self, park_csv_path):\n",
    "        \"\"\"\n",
    "        Loads park codes from a CSV file into a dictionary.\n",
    "        \n",
    "        park_csv_path (str): Path to the CSV file containing park names and their codes.\n",
    "        \"\"\"\n",
    "        park_df = pd.read_csv(park_csv_path)\n",
    "        park_codes = {}\n",
    "        \n",
    "        for index, row in park_df.iterrows():\n",
    "            tokens = self.preprocess_text(row['fullName'].lower())\n",
    "            normalized_park_name = ' '.join(tokens)\n",
    "            park_codes[normalized_park_name] = row['parkCode']\n",
    "        \n",
    "        return park_codes\n",
    "\n",
    "    def preprocess_text(self, text):\n",
    "        doc = nlp(text)\n",
    "        return [token.lemma_ for token in doc if token.is_alpha and not token.is_stop]\n",
    "\n",
    "    def predict_intent(self, query):\n",
    "        tokens = self.preprocess_text(query.lower())\n",
    "        preprocessed_query = ' '.join(tokens)\n",
    "        \n",
    "        if 'description' in preprocessed_query:\n",
    "            return 'description'\n",
    "        elif 'address' in preprocessed_query:\n",
    "            return 'address'\n",
    "        elif 'state' in preprocessed_query:\n",
    "            return 'state'\n",
    "        elif 'alerts' in preprocessed_query:\n",
    "            return 'alerts'\n",
    "        elif 'amenities' in preprocessed_query:\n",
    "            return 'amenities'\n",
    "        elif 'events' in preprocessed_query:\n",
    "            return 'events'\n",
    "        elif 'fees' in preprocessed_query or 'passes' in preprocessed_query:\n",
    "            return 'feespass'\n",
    "        else:\n",
    "            return 'other'\n",
    "\n",
    "    def get_park_code(self, query):\n",
    "        tokens = self.preprocess_text(query.lower())\n",
    "        preprocessed_query = ' '.join(tokens)\n",
    "        \n",
    "        for park_name, park_code in self.park_codes.items():\n",
    "            if park_name in preprocessed_query:\n",
    "                return park_code\n",
    "        return None\n",
    "\n",
    "    def get_params(self, query):\n",
    "        intent = self.predict_intent(query)\n",
    "        park_code = self.get_park_code(query)\n",
    "\n",
    "        if park_code is None:\n",
    "            raise ValueError(\"Park not found in the query. Please provide a valid park name.\")\n",
    "\n",
    "        endpoint_mapping = {\n",
    "            'description': 'parks',\n",
    "            'address': 'addresses',\n",
    "            'state': 'parks',\n",
    "            'alerts': 'alerts',\n",
    "            'amenities': 'amenities',\n",
    "            'events': 'events',\n",
    "            'feespass': 'feespasses'\n",
    "        }\n",
    "\n",
    "        endpoint = endpoint_mapping.get(intent, 'parks')\n",
    "\n",
    "        return endpoint, park_code, intent\n",
    "\n",
    "    def api_call(self, query):\n",
    "        try:\n",
    "            endpoint, park_code, intent = self.get_params(query)\n",
    "        except ValueError as e:\n",
    "            return str(e), None, None, None\n",
    "\n",
    "        responses = []\n",
    "        limit = 1\n",
    "        start = 0\n",
    "        \n",
    "        while True:\n",
    "            params = {\n",
    "                'api_key': self.config['nps_api_key'],\n",
    "                'parkCode': park_code,\n",
    "                'limit': limit,\n",
    "                'start': start,\n",
    "            }\n",
    "            \n",
    "            request = requests.get(f\"{api_base_url}{endpoint}\", params=params)\n",
    "            request_data = request.json()\n",
    "\n",
    "            if 'data' not in request_data:\n",
    "                break\n",
    "\n",
    "            if endpoint == 'parks':\n",
    "                responses.extend([\n",
    "                    {\n",
    "                        'fullName': park['fullName'],\n",
    "                        'parkCode': park['parkCode'],\n",
    "                        'state': park['states'],\n",
    "                        'addresses': park.get('addresses', []),\n",
    "                        'description': park['description']\n",
    "                    } for park in request_data['data']\n",
    "                ])\n",
    "            else:\n",
    "                responses.extend(request_data['data'])\n",
    "\n",
    "            start += limit\n",
    "\n",
    "            if int(start) >= int(request_data['total']):\n",
    "                break\n",
    "\n",
    "        if endpoint == 'parks':\n",
    "            temp_df = pd.DataFrame(responses)\n",
    "            addresses_df = pd.json_normalize(temp_df['addresses'].apply(lambda x: x[0] if x else {}))\n",
    "            output = pd.concat([temp_df.drop(columns=['addresses']), addresses_df], axis=1)\n",
    "        else:\n",
    "            output = pd.DataFrame(responses)\n",
    "\n",
    "        return endpoint, park_code, intent, output\n"
   ]
  },
  {
   "cell_type": "code",
   "execution_count": 22,
   "metadata": {},
   "outputs": [],
   "source": [
    "spacy_model_functions = SpaCyModelFunctions(config, park_csv_path)"
   ]
  },
  {
   "cell_type": "code",
   "execution_count": 23,
   "metadata": {},
   "outputs": [
    {
     "ename": "KeyError",
     "evalue": "'addresses'",
     "output_type": "error",
     "traceback": [
      "\u001b[0;31m---------------------------------------------------------------------------\u001b[0m",
      "\u001b[0;31mKeyError\u001b[0m                                  Traceback (most recent call last)",
      "Cell \u001b[0;32mIn[23], line 2\u001b[0m\n\u001b[1;32m      1\u001b[0m query \u001b[38;5;241m=\u001b[39m \u001b[38;5;124m'\u001b[39m\u001b[38;5;124mWhat state is Green Springs in?\u001b[39m\u001b[38;5;124m'\u001b[39m\n\u001b[0;32m----> 2\u001b[0m endpoint, park_code, intent, output \u001b[38;5;241m=\u001b[39m \u001b[43mspacy_model_functions\u001b[49m\u001b[38;5;241;43m.\u001b[39;49m\u001b[43mapi_call\u001b[49m\u001b[43m(\u001b[49m\u001b[43mquery\u001b[49m\u001b[43m)\u001b[49m\n\u001b[1;32m      3\u001b[0m \u001b[38;5;28mprint\u001b[39m(endpoint, park_code, intent, output)\n",
      "Cell \u001b[0;32mIn[21], line 121\u001b[0m, in \u001b[0;36mSpaCyModelFunctions.api_call\u001b[0;34m(self, query)\u001b[0m\n\u001b[1;32m    119\u001b[0m \u001b[38;5;28;01mif\u001b[39;00m endpoint \u001b[38;5;241m==\u001b[39m \u001b[38;5;124m'\u001b[39m\u001b[38;5;124mparks\u001b[39m\u001b[38;5;124m'\u001b[39m:\n\u001b[1;32m    120\u001b[0m     temp_df \u001b[38;5;241m=\u001b[39m pd\u001b[38;5;241m.\u001b[39mDataFrame(responses)\n\u001b[0;32m--> 121\u001b[0m     addresses_df \u001b[38;5;241m=\u001b[39m pd\u001b[38;5;241m.\u001b[39mjson_normalize(\u001b[43mtemp_df\u001b[49m\u001b[43m[\u001b[49m\u001b[38;5;124;43m'\u001b[39;49m\u001b[38;5;124;43maddresses\u001b[39;49m\u001b[38;5;124;43m'\u001b[39;49m\u001b[43m]\u001b[49m\u001b[38;5;241m.\u001b[39mapply(\u001b[38;5;28;01mlambda\u001b[39;00m x: x[\u001b[38;5;241m0\u001b[39m] \u001b[38;5;28;01mif\u001b[39;00m x \u001b[38;5;28;01melse\u001b[39;00m {}))\n\u001b[1;32m    122\u001b[0m     output \u001b[38;5;241m=\u001b[39m pd\u001b[38;5;241m.\u001b[39mconcat([temp_df\u001b[38;5;241m.\u001b[39mdrop(columns\u001b[38;5;241m=\u001b[39m[\u001b[38;5;124m'\u001b[39m\u001b[38;5;124maddresses\u001b[39m\u001b[38;5;124m'\u001b[39m]), addresses_df], axis\u001b[38;5;241m=\u001b[39m\u001b[38;5;241m1\u001b[39m)\n\u001b[1;32m    123\u001b[0m \u001b[38;5;28;01melse\u001b[39;00m:\n",
      "File \u001b[0;32m~/Documents/MADS/SIADS 699 - Capstone/Capstone VS/MADS_Capstone/.venv/lib/python3.11/site-packages/pandas/core/frame.py:4102\u001b[0m, in \u001b[0;36mDataFrame.__getitem__\u001b[0;34m(self, key)\u001b[0m\n\u001b[1;32m   4100\u001b[0m \u001b[38;5;28;01mif\u001b[39;00m \u001b[38;5;28mself\u001b[39m\u001b[38;5;241m.\u001b[39mcolumns\u001b[38;5;241m.\u001b[39mnlevels \u001b[38;5;241m>\u001b[39m \u001b[38;5;241m1\u001b[39m:\n\u001b[1;32m   4101\u001b[0m     \u001b[38;5;28;01mreturn\u001b[39;00m \u001b[38;5;28mself\u001b[39m\u001b[38;5;241m.\u001b[39m_getitem_multilevel(key)\n\u001b[0;32m-> 4102\u001b[0m indexer \u001b[38;5;241m=\u001b[39m \u001b[38;5;28;43mself\u001b[39;49m\u001b[38;5;241;43m.\u001b[39;49m\u001b[43mcolumns\u001b[49m\u001b[38;5;241;43m.\u001b[39;49m\u001b[43mget_loc\u001b[49m\u001b[43m(\u001b[49m\u001b[43mkey\u001b[49m\u001b[43m)\u001b[49m\n\u001b[1;32m   4103\u001b[0m \u001b[38;5;28;01mif\u001b[39;00m is_integer(indexer):\n\u001b[1;32m   4104\u001b[0m     indexer \u001b[38;5;241m=\u001b[39m [indexer]\n",
      "File \u001b[0;32m~/Documents/MADS/SIADS 699 - Capstone/Capstone VS/MADS_Capstone/.venv/lib/python3.11/site-packages/pandas/core/indexes/range.py:417\u001b[0m, in \u001b[0;36mRangeIndex.get_loc\u001b[0;34m(self, key)\u001b[0m\n\u001b[1;32m    415\u001b[0m         \u001b[38;5;28;01mraise\u001b[39;00m \u001b[38;5;167;01mKeyError\u001b[39;00m(key) \u001b[38;5;28;01mfrom\u001b[39;00m \u001b[38;5;21;01merr\u001b[39;00m\n\u001b[1;32m    416\u001b[0m \u001b[38;5;28;01mif\u001b[39;00m \u001b[38;5;28misinstance\u001b[39m(key, Hashable):\n\u001b[0;32m--> 417\u001b[0m     \u001b[38;5;28;01mraise\u001b[39;00m \u001b[38;5;167;01mKeyError\u001b[39;00m(key)\n\u001b[1;32m    418\u001b[0m \u001b[38;5;28mself\u001b[39m\u001b[38;5;241m.\u001b[39m_check_indexing_error(key)\n\u001b[1;32m    419\u001b[0m \u001b[38;5;28;01mraise\u001b[39;00m \u001b[38;5;167;01mKeyError\u001b[39;00m(key)\n",
      "\u001b[0;31mKeyError\u001b[0m: 'addresses'"
     ]
    }
   ],
   "source": [
    "query = 'What state is Green Springs in?'\n",
    "endpoint, park_code, intent, output = spacy_model_functions.api_call(query)\n",
    "print(endpoint, park_code, intent, output)"
   ]
  },
  {
   "cell_type": "code",
   "execution_count": 17,
   "metadata": {},
   "outputs": [
    {
     "name": "stdout",
     "output_type": "stream",
     "text": [
      "addresses grsp address Empty DataFrame\n",
      "Columns: []\n",
      "Index: []\n"
     ]
    }
   ],
   "source": [
    "query = 'What is address of Green Springs?'\n",
    "endpoint, park_code, intent, output = spacy_model_functions.api_call(query)\n",
    "print(endpoint, park_code, intent, output)"
   ]
  },
  {
   "cell_type": "code",
   "execution_count": 10,
   "metadata": {},
   "outputs": [
    {
     "name": "stdout",
     "output_type": "stream",
     "text": [
      "Park not found in the query. Please provide a valid park name. None None None\n"
     ]
    }
   ],
   "source": [
    "query = 'What state is Yosemite in?'\n",
    "endpoint, park_code, intent, output = spacy_model_functions.api_call(query)\n",
    "print(endpoint, park_code, intent, output)"
   ]
  },
  {
   "cell_type": "code",
   "execution_count": 12,
   "metadata": {},
   "outputs": [
    {
     "ename": "KeyError",
     "evalue": "'addresses'",
     "output_type": "error",
     "traceback": [
      "\u001b[0;31m---------------------------------------------------------------------------\u001b[0m",
      "\u001b[0;31mKeyError\u001b[0m                                  Traceback (most recent call last)",
      "Cell \u001b[0;32mIn[12], line 2\u001b[0m\n\u001b[1;32m      1\u001b[0m query \u001b[38;5;241m=\u001b[39m \u001b[38;5;124m'\u001b[39m\u001b[38;5;124mWhat state is Yosemite national park in?\u001b[39m\u001b[38;5;124m'\u001b[39m\n\u001b[0;32m----> 2\u001b[0m endpoint, park_code, intent, output \u001b[38;5;241m=\u001b[39m \u001b[43mspacy_model_functions\u001b[49m\u001b[38;5;241;43m.\u001b[39;49m\u001b[43mapi_call\u001b[49m\u001b[43m(\u001b[49m\u001b[43mquery\u001b[49m\u001b[43m)\u001b[49m\n\u001b[1;32m      3\u001b[0m \u001b[38;5;28mprint\u001b[39m(endpoint, park_code, intent, output)\n",
      "Cell \u001b[0;32mIn[4], line 121\u001b[0m, in \u001b[0;36mSpaCyModelFunctions.api_call\u001b[0;34m(self, query)\u001b[0m\n\u001b[1;32m    119\u001b[0m \u001b[38;5;28;01mif\u001b[39;00m endpoint \u001b[38;5;241m==\u001b[39m \u001b[38;5;124m'\u001b[39m\u001b[38;5;124mparks\u001b[39m\u001b[38;5;124m'\u001b[39m:\n\u001b[1;32m    120\u001b[0m     temp_df \u001b[38;5;241m=\u001b[39m pd\u001b[38;5;241m.\u001b[39mDataFrame(responses)\n\u001b[0;32m--> 121\u001b[0m     addresses_df \u001b[38;5;241m=\u001b[39m pd\u001b[38;5;241m.\u001b[39mjson_normalize(\u001b[43mtemp_df\u001b[49m\u001b[43m[\u001b[49m\u001b[38;5;124;43m'\u001b[39;49m\u001b[38;5;124;43maddresses\u001b[39;49m\u001b[38;5;124;43m'\u001b[39;49m\u001b[43m]\u001b[49m\u001b[38;5;241m.\u001b[39mapply(\u001b[38;5;28;01mlambda\u001b[39;00m x: x[\u001b[38;5;241m0\u001b[39m] \u001b[38;5;28;01mif\u001b[39;00m x \u001b[38;5;28;01melse\u001b[39;00m {}))\n\u001b[1;32m    122\u001b[0m     output \u001b[38;5;241m=\u001b[39m pd\u001b[38;5;241m.\u001b[39mconcat([temp_df\u001b[38;5;241m.\u001b[39mdrop(columns\u001b[38;5;241m=\u001b[39m[\u001b[38;5;124m'\u001b[39m\u001b[38;5;124maddresses\u001b[39m\u001b[38;5;124m'\u001b[39m]), addresses_df], axis\u001b[38;5;241m=\u001b[39m\u001b[38;5;241m1\u001b[39m)\n\u001b[1;32m    123\u001b[0m \u001b[38;5;28;01melse\u001b[39;00m:\n",
      "File \u001b[0;32m~/Documents/MADS/SIADS 699 - Capstone/Capstone VS/MADS_Capstone/.venv/lib/python3.11/site-packages/pandas/core/frame.py:4102\u001b[0m, in \u001b[0;36mDataFrame.__getitem__\u001b[0;34m(self, key)\u001b[0m\n\u001b[1;32m   4100\u001b[0m \u001b[38;5;28;01mif\u001b[39;00m \u001b[38;5;28mself\u001b[39m\u001b[38;5;241m.\u001b[39mcolumns\u001b[38;5;241m.\u001b[39mnlevels \u001b[38;5;241m>\u001b[39m \u001b[38;5;241m1\u001b[39m:\n\u001b[1;32m   4101\u001b[0m     \u001b[38;5;28;01mreturn\u001b[39;00m \u001b[38;5;28mself\u001b[39m\u001b[38;5;241m.\u001b[39m_getitem_multilevel(key)\n\u001b[0;32m-> 4102\u001b[0m indexer \u001b[38;5;241m=\u001b[39m \u001b[38;5;28;43mself\u001b[39;49m\u001b[38;5;241;43m.\u001b[39;49m\u001b[43mcolumns\u001b[49m\u001b[38;5;241;43m.\u001b[39;49m\u001b[43mget_loc\u001b[49m\u001b[43m(\u001b[49m\u001b[43mkey\u001b[49m\u001b[43m)\u001b[49m\n\u001b[1;32m   4103\u001b[0m \u001b[38;5;28;01mif\u001b[39;00m is_integer(indexer):\n\u001b[1;32m   4104\u001b[0m     indexer \u001b[38;5;241m=\u001b[39m [indexer]\n",
      "File \u001b[0;32m~/Documents/MADS/SIADS 699 - Capstone/Capstone VS/MADS_Capstone/.venv/lib/python3.11/site-packages/pandas/core/indexes/range.py:417\u001b[0m, in \u001b[0;36mRangeIndex.get_loc\u001b[0;34m(self, key)\u001b[0m\n\u001b[1;32m    415\u001b[0m         \u001b[38;5;28;01mraise\u001b[39;00m \u001b[38;5;167;01mKeyError\u001b[39;00m(key) \u001b[38;5;28;01mfrom\u001b[39;00m \u001b[38;5;21;01merr\u001b[39;00m\n\u001b[1;32m    416\u001b[0m \u001b[38;5;28;01mif\u001b[39;00m \u001b[38;5;28misinstance\u001b[39m(key, Hashable):\n\u001b[0;32m--> 417\u001b[0m     \u001b[38;5;28;01mraise\u001b[39;00m \u001b[38;5;167;01mKeyError\u001b[39;00m(key)\n\u001b[1;32m    418\u001b[0m \u001b[38;5;28mself\u001b[39m\u001b[38;5;241m.\u001b[39m_check_indexing_error(key)\n\u001b[1;32m    419\u001b[0m \u001b[38;5;28;01mraise\u001b[39;00m \u001b[38;5;167;01mKeyError\u001b[39;00m(key)\n",
      "\u001b[0;31mKeyError\u001b[0m: 'addresses'"
     ]
    }
   ],
   "source": [
    "query = 'What state is Yosemite national park in?'\n",
    "endpoint, park_code, intent, output = spacy_model_functions.api_call(query)\n",
    "print(endpoint, park_code, intent, output)"
   ]
  },
  {
   "cell_type": "markdown",
   "metadata": {},
   "source": [
    "More information on SpaCy:\n",
    "https://spacy.io/models"
   ]
  }
 ],
 "metadata": {
  "kernelspec": {
   "display_name": ".venv",
   "language": "python",
   "name": "python3"
  },
  "language_info": {
   "codemirror_mode": {
    "name": "ipython",
    "version": 3
   },
   "file_extension": ".py",
   "mimetype": "text/x-python",
   "name": "python",
   "nbconvert_exporter": "python",
   "pygments_lexer": "ipython3",
   "version": "3.11.8"
  }
 },
 "nbformat": 4,
 "nbformat_minor": 2
}
