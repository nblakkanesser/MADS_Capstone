{
 "cells": [
  {
   "cell_type": "code",
   "execution_count": 1,
   "metadata": {},
   "outputs": [],
   "source": [
    "#! pip install spacy\n",
    "#! pip install $(spacy info en_core_web_sm --url)\n",
    "\n",
    "import pandas as pd\n",
    "import requests\n",
    "import spacy\n",
    "nlp = spacy.load(\"en_core_web_sm\")\n",
    "\n",
    "\n",
    "import sys\n",
    "\n",
    "sys.path.insert(0,'../')\n",
    "from environment import env"
   ]
  },
  {
   "cell_type": "code",
   "execution_count": 2,
   "metadata": {},
   "outputs": [],
   "source": [
    "config = env.env()"
   ]
  },
  {
   "cell_type": "code",
   "execution_count": 3,
   "metadata": {},
   "outputs": [],
   "source": [
    "api_base_url = 'https://developer.nps.gov/api/v1/'\n",
    "\n",
    "park_csv_path = '../02_nps_api_data/park_to_parkcode.csv'"
   ]
  },
  {
   "cell_type": "code",
   "execution_count": 4,
   "metadata": {},
   "outputs": [],
   "source": [
    "class SpaCyModelFunctions:\n",
    "    def __init__(self, config, park_csv_path):\n",
    "        self.config = config\n",
    "        self.park_codes = self.load_park_codes(park_csv_path)\n",
    "\n",
    "    def load_park_codes(self, park_csv_path):\n",
    "        \"\"\"\n",
    "        Loads park codes from a CSV file into a dictionary.\n",
    "        \n",
    "        park_csv_path (str): Path to the CSV file containing park names and their codes.\n",
    "        \"\"\"\n",
    "        park_df = pd.read_csv(park_csv_path)\n",
    "        park_codes = {}\n",
    "        \n",
    "        for index, row in park_df.iterrows():\n",
    "            tokens = self.preprocess_text(row['fullName'].lower())\n",
    "            normalized_park_name = ' '.join(tokens)\n",
    "            park_codes[normalized_park_name] = row['parkCode']\n",
    "        \n",
    "        return park_codes\n",
    "\n",
    "    def preprocess_text(self, text):\n",
    "        doc = nlp(text)\n",
    "        return [token.lemma_ for token in doc if token.is_alpha and not token.is_stop]\n",
    "\n",
    "    def predict_intent(self, query):\n",
    "        tokens = self.preprocess_text(query.lower())\n",
    "        preprocessed_query = ' '.join(tokens)\n",
    "        \n",
    "        if 'description' in preprocessed_query:\n",
    "            return 'description'\n",
    "        elif 'address' in preprocessed_query:\n",
    "            return 'address'\n",
    "        elif 'state' in preprocessed_query:\n",
    "            return 'state'\n",
    "        elif 'alerts' in preprocessed_query:\n",
    "            return 'alerts'\n",
    "        elif 'amenities' in preprocessed_query:\n",
    "            return 'amenities'\n",
    "        elif 'events' in preprocessed_query:\n",
    "            return 'events'\n",
    "        elif 'fees' in preprocessed_query or 'passes' in preprocessed_query:\n",
    "            return 'feespass'\n",
    "        else:\n",
    "            return 'other'\n",
    "\n",
    "    def get_park_code(self, query):\n",
    "        tokens = self.preprocess_text(query.lower())\n",
    "        preprocessed_query = ' '.join(tokens)\n",
    "        \n",
    "        for park_name, park_code in self.park_codes.items():\n",
    "            if park_name in preprocessed_query:\n",
    "                return park_code\n",
    "        return None\n",
    "\n",
    "    def get_params(self, query):\n",
    "        intent = self.predict_intent(query)\n",
    "        park_code = self.get_park_code(query)\n",
    "\n",
    "        if park_code is None:\n",
    "            raise ValueError(\"Park not found in the query. Please provide a valid park name.\")\n",
    "\n",
    "        endpoint_mapping = {\n",
    "            'description': 'parks',\n",
    "            'address': 'addresses',\n",
    "            'state': 'parks',\n",
    "            'alerts': 'alerts',\n",
    "            'amenities': 'amenities',\n",
    "            'events': 'events',\n",
    "            'feespass': 'feespasses'\n",
    "        }\n",
    "\n",
    "        endpoint = endpoint_mapping.get(intent, 'parks')\n",
    "\n",
    "        return endpoint, park_code, intent\n",
    "\n",
    "    def api_call(self, query):\n",
    "        try:\n",
    "            endpoint, park_code, intent = self.get_params(query)\n",
    "        except ValueError as e:\n",
    "            return str(e), None, None, None\n",
    "\n",
    "        responses = []\n",
    "        limit = 1\n",
    "        start = 0\n",
    "        \n",
    "        while True:\n",
    "            params = {\n",
    "                'api_key': self.config['nps_api_key'],\n",
    "                'parkCode': park_code,\n",
    "                'limit': limit,\n",
    "                'start': start,\n",
    "            }\n",
    "            \n",
    "            request = requests.get(f\"{api_base_url}{endpoint}\", params=params)\n",
    "            request_data = request.json()\n",
    "\n",
    "            if 'data' not in request_data:\n",
    "                break\n",
    "\n",
    "            if endpoint == 'parks':\n",
    "                responses.extend([\n",
    "                    {\n",
    "                        'fullName': park['fullName'],\n",
    "                        'parkCode': park['parkCode'],\n",
    "                        'state': park['states'],\n",
    "                        'addresses': park.get('addresses', []),\n",
    "                        'description': park['description']\n",
    "                    } for park in request_data['data']\n",
    "                ])\n",
    "            else:\n",
    "                responses.extend(request_data['data'])\n",
    "\n",
    "            start += limit\n",
    "\n",
    "            if int(start) >= int(request_data['total']):\n",
    "                break\n",
    "\n",
    "        if endpoint == 'parks':\n",
    "            temp_df = pd.DataFrame(responses)\n",
    "            addresses_df = pd.json_normalize(temp_df['addresses'].apply(lambda x: x[0] if x else {}))\n",
    "            output = pd.concat([temp_df.drop(columns=['addresses']), addresses_df], axis=1)\n",
    "        else:\n",
    "            output = pd.DataFrame(responses)\n",
    "\n",
    "        return endpoint, park_code, intent, output\n"
   ]
  },
  {
   "cell_type": "code",
   "execution_count": 5,
   "metadata": {},
   "outputs": [],
   "source": [
    "spacy_model_functions = SpaCyModelFunctions(config, park_csv_path)"
   ]
  },
  {
   "cell_type": "code",
   "execution_count": 6,
   "metadata": {},
   "outputs": [
    {
     "name": "stdout",
     "output_type": "stream",
     "text": [
      "parks grsp state         fullName parkCode state  \\\n",
      "0  Green Springs     grsp    VA   \n",
      "\n",
      "                                         description postalCode  \\\n",
      "0  Green Springs National Historic Landmark Distr...      23093   \n",
      "\n",
      "                                  city stateCode countryCode  \\\n",
      "0  Multiple Privately Owned Properties        VA          US   \n",
      "\n",
      "  provinceTerritoryCode                  line1      type line3 line2  \n",
      "0                        Western Louisa County  Physical              \n"
     ]
    }
   ],
   "source": [
    "query = 'What state is Green Springs in?'\n",
    "endpoint, park_code, intent, output = spacy_model_functions.api_call(query)\n",
    "print(endpoint, park_code, intent, output)"
   ]
  },
  {
   "cell_type": "code",
   "execution_count": 7,
   "metadata": {},
   "outputs": [
    {
     "ename": "JSONDecodeError",
     "evalue": "Expecting value: line 1 column 1 (char 0)",
     "output_type": "error",
     "traceback": [
      "\u001b[0;31m---------------------------------------------------------------------------\u001b[0m",
      "\u001b[0;31mJSONDecodeError\u001b[0m                           Traceback (most recent call last)",
      "File \u001b[0;32m~/Documents/MADS/SIADS 699 - Capstone/Capstone VS/MADS_Capstone/.venv/lib/python3.11/site-packages/requests/models.py:974\u001b[0m, in \u001b[0;36mResponse.json\u001b[0;34m(self, **kwargs)\u001b[0m\n\u001b[1;32m    973\u001b[0m \u001b[38;5;28;01mtry\u001b[39;00m:\n\u001b[0;32m--> 974\u001b[0m     \u001b[38;5;28;01mreturn\u001b[39;00m \u001b[43mcomplexjson\u001b[49m\u001b[38;5;241;43m.\u001b[39;49m\u001b[43mloads\u001b[49m\u001b[43m(\u001b[49m\u001b[38;5;28;43mself\u001b[39;49m\u001b[38;5;241;43m.\u001b[39;49m\u001b[43mtext\u001b[49m\u001b[43m,\u001b[49m\u001b[43m \u001b[49m\u001b[38;5;241;43m*\u001b[39;49m\u001b[38;5;241;43m*\u001b[39;49m\u001b[43mkwargs\u001b[49m\u001b[43m)\u001b[49m\n\u001b[1;32m    975\u001b[0m \u001b[38;5;28;01mexcept\u001b[39;00m JSONDecodeError \u001b[38;5;28;01mas\u001b[39;00m e:\n\u001b[1;32m    976\u001b[0m     \u001b[38;5;66;03m# Catch JSON-related errors and raise as requests.JSONDecodeError\u001b[39;00m\n\u001b[1;32m    977\u001b[0m     \u001b[38;5;66;03m# This aliases json.JSONDecodeError and simplejson.JSONDecodeError\u001b[39;00m\n",
      "File \u001b[0;32m/Library/Frameworks/Python.framework/Versions/3.11/lib/python3.11/json/__init__.py:346\u001b[0m, in \u001b[0;36mloads\u001b[0;34m(s, cls, object_hook, parse_float, parse_int, parse_constant, object_pairs_hook, **kw)\u001b[0m\n\u001b[1;32m    343\u001b[0m \u001b[38;5;28;01mif\u001b[39;00m (\u001b[38;5;28mcls\u001b[39m \u001b[38;5;129;01mis\u001b[39;00m \u001b[38;5;28;01mNone\u001b[39;00m \u001b[38;5;129;01mand\u001b[39;00m object_hook \u001b[38;5;129;01mis\u001b[39;00m \u001b[38;5;28;01mNone\u001b[39;00m \u001b[38;5;129;01mand\u001b[39;00m\n\u001b[1;32m    344\u001b[0m         parse_int \u001b[38;5;129;01mis\u001b[39;00m \u001b[38;5;28;01mNone\u001b[39;00m \u001b[38;5;129;01mand\u001b[39;00m parse_float \u001b[38;5;129;01mis\u001b[39;00m \u001b[38;5;28;01mNone\u001b[39;00m \u001b[38;5;129;01mand\u001b[39;00m\n\u001b[1;32m    345\u001b[0m         parse_constant \u001b[38;5;129;01mis\u001b[39;00m \u001b[38;5;28;01mNone\u001b[39;00m \u001b[38;5;129;01mand\u001b[39;00m object_pairs_hook \u001b[38;5;129;01mis\u001b[39;00m \u001b[38;5;28;01mNone\u001b[39;00m \u001b[38;5;129;01mand\u001b[39;00m \u001b[38;5;129;01mnot\u001b[39;00m kw):\n\u001b[0;32m--> 346\u001b[0m     \u001b[38;5;28;01mreturn\u001b[39;00m \u001b[43m_default_decoder\u001b[49m\u001b[38;5;241;43m.\u001b[39;49m\u001b[43mdecode\u001b[49m\u001b[43m(\u001b[49m\u001b[43ms\u001b[49m\u001b[43m)\u001b[49m\n\u001b[1;32m    347\u001b[0m \u001b[38;5;28;01mif\u001b[39;00m \u001b[38;5;28mcls\u001b[39m \u001b[38;5;129;01mis\u001b[39;00m \u001b[38;5;28;01mNone\u001b[39;00m:\n",
      "File \u001b[0;32m/Library/Frameworks/Python.framework/Versions/3.11/lib/python3.11/json/decoder.py:337\u001b[0m, in \u001b[0;36mJSONDecoder.decode\u001b[0;34m(self, s, _w)\u001b[0m\n\u001b[1;32m    333\u001b[0m \u001b[38;5;250m\u001b[39m\u001b[38;5;124;03m\"\"\"Return the Python representation of ``s`` (a ``str`` instance\u001b[39;00m\n\u001b[1;32m    334\u001b[0m \u001b[38;5;124;03mcontaining a JSON document).\u001b[39;00m\n\u001b[1;32m    335\u001b[0m \n\u001b[1;32m    336\u001b[0m \u001b[38;5;124;03m\"\"\"\u001b[39;00m\n\u001b[0;32m--> 337\u001b[0m obj, end \u001b[38;5;241m=\u001b[39m \u001b[38;5;28;43mself\u001b[39;49m\u001b[38;5;241;43m.\u001b[39;49m\u001b[43mraw_decode\u001b[49m\u001b[43m(\u001b[49m\u001b[43ms\u001b[49m\u001b[43m,\u001b[49m\u001b[43m \u001b[49m\u001b[43midx\u001b[49m\u001b[38;5;241;43m=\u001b[39;49m\u001b[43m_w\u001b[49m\u001b[43m(\u001b[49m\u001b[43ms\u001b[49m\u001b[43m,\u001b[49m\u001b[43m \u001b[49m\u001b[38;5;241;43m0\u001b[39;49m\u001b[43m)\u001b[49m\u001b[38;5;241;43m.\u001b[39;49m\u001b[43mend\u001b[49m\u001b[43m(\u001b[49m\u001b[43m)\u001b[49m\u001b[43m)\u001b[49m\n\u001b[1;32m    338\u001b[0m end \u001b[38;5;241m=\u001b[39m _w(s, end)\u001b[38;5;241m.\u001b[39mend()\n",
      "File \u001b[0;32m/Library/Frameworks/Python.framework/Versions/3.11/lib/python3.11/json/decoder.py:355\u001b[0m, in \u001b[0;36mJSONDecoder.raw_decode\u001b[0;34m(self, s, idx)\u001b[0m\n\u001b[1;32m    354\u001b[0m \u001b[38;5;28;01mexcept\u001b[39;00m \u001b[38;5;167;01mStopIteration\u001b[39;00m \u001b[38;5;28;01mas\u001b[39;00m err:\n\u001b[0;32m--> 355\u001b[0m     \u001b[38;5;28;01mraise\u001b[39;00m JSONDecodeError(\u001b[38;5;124m\"\u001b[39m\u001b[38;5;124mExpecting value\u001b[39m\u001b[38;5;124m\"\u001b[39m, s, err\u001b[38;5;241m.\u001b[39mvalue) \u001b[38;5;28;01mfrom\u001b[39;00m \u001b[38;5;28;01mNone\u001b[39;00m\n\u001b[1;32m    356\u001b[0m \u001b[38;5;28;01mreturn\u001b[39;00m obj, end\n",
      "\u001b[0;31mJSONDecodeError\u001b[0m: Expecting value: line 1 column 1 (char 0)",
      "\nDuring handling of the above exception, another exception occurred:\n",
      "\u001b[0;31mJSONDecodeError\u001b[0m                           Traceback (most recent call last)",
      "Cell \u001b[0;32mIn[7], line 2\u001b[0m\n\u001b[1;32m      1\u001b[0m query \u001b[38;5;241m=\u001b[39m \u001b[38;5;124m'\u001b[39m\u001b[38;5;124mWhat is address of Green Springs?\u001b[39m\u001b[38;5;124m'\u001b[39m\n\u001b[0;32m----> 2\u001b[0m endpoint, park_code, intent, output \u001b[38;5;241m=\u001b[39m \u001b[43mspacy_model_functions\u001b[49m\u001b[38;5;241;43m.\u001b[39;49m\u001b[43mapi_call\u001b[49m\u001b[43m(\u001b[49m\u001b[43mquery\u001b[49m\u001b[43m)\u001b[49m\n\u001b[1;32m      3\u001b[0m \u001b[38;5;28mprint\u001b[39m(endpoint, park_code, intent, output)\n",
      "Cell \u001b[0;32mIn[4], line 96\u001b[0m, in \u001b[0;36mSpaCyModelFunctions.api_call\u001b[0;34m(self, query)\u001b[0m\n\u001b[1;32m     88\u001b[0m params \u001b[38;5;241m=\u001b[39m {\n\u001b[1;32m     89\u001b[0m     \u001b[38;5;124m'\u001b[39m\u001b[38;5;124mapi_key\u001b[39m\u001b[38;5;124m'\u001b[39m: \u001b[38;5;28mself\u001b[39m\u001b[38;5;241m.\u001b[39mconfig[\u001b[38;5;124m'\u001b[39m\u001b[38;5;124mnps_api_key\u001b[39m\u001b[38;5;124m'\u001b[39m],\n\u001b[1;32m     90\u001b[0m     \u001b[38;5;124m'\u001b[39m\u001b[38;5;124mparkCode\u001b[39m\u001b[38;5;124m'\u001b[39m: park_code,\n\u001b[1;32m     91\u001b[0m     \u001b[38;5;124m'\u001b[39m\u001b[38;5;124mlimit\u001b[39m\u001b[38;5;124m'\u001b[39m: limit,\n\u001b[1;32m     92\u001b[0m     \u001b[38;5;124m'\u001b[39m\u001b[38;5;124mstart\u001b[39m\u001b[38;5;124m'\u001b[39m: start,\n\u001b[1;32m     93\u001b[0m }\n\u001b[1;32m     95\u001b[0m request \u001b[38;5;241m=\u001b[39m requests\u001b[38;5;241m.\u001b[39mget(\u001b[38;5;124mf\u001b[39m\u001b[38;5;124m\"\u001b[39m\u001b[38;5;132;01m{\u001b[39;00mapi_base_url\u001b[38;5;132;01m}\u001b[39;00m\u001b[38;5;132;01m{\u001b[39;00mendpoint\u001b[38;5;132;01m}\u001b[39;00m\u001b[38;5;124m\"\u001b[39m, params\u001b[38;5;241m=\u001b[39mparams)\n\u001b[0;32m---> 96\u001b[0m request_data \u001b[38;5;241m=\u001b[39m \u001b[43mrequest\u001b[49m\u001b[38;5;241;43m.\u001b[39;49m\u001b[43mjson\u001b[49m\u001b[43m(\u001b[49m\u001b[43m)\u001b[49m\n\u001b[1;32m     98\u001b[0m \u001b[38;5;28;01mif\u001b[39;00m \u001b[38;5;124m'\u001b[39m\u001b[38;5;124mdata\u001b[39m\u001b[38;5;124m'\u001b[39m \u001b[38;5;129;01mnot\u001b[39;00m \u001b[38;5;129;01min\u001b[39;00m request_data:\n\u001b[1;32m     99\u001b[0m     \u001b[38;5;28;01mbreak\u001b[39;00m\n",
      "File \u001b[0;32m~/Documents/MADS/SIADS 699 - Capstone/Capstone VS/MADS_Capstone/.venv/lib/python3.11/site-packages/requests/models.py:978\u001b[0m, in \u001b[0;36mResponse.json\u001b[0;34m(self, **kwargs)\u001b[0m\n\u001b[1;32m    974\u001b[0m     \u001b[38;5;28;01mreturn\u001b[39;00m complexjson\u001b[38;5;241m.\u001b[39mloads(\u001b[38;5;28mself\u001b[39m\u001b[38;5;241m.\u001b[39mtext, \u001b[38;5;241m*\u001b[39m\u001b[38;5;241m*\u001b[39mkwargs)\n\u001b[1;32m    975\u001b[0m \u001b[38;5;28;01mexcept\u001b[39;00m JSONDecodeError \u001b[38;5;28;01mas\u001b[39;00m e:\n\u001b[1;32m    976\u001b[0m     \u001b[38;5;66;03m# Catch JSON-related errors and raise as requests.JSONDecodeError\u001b[39;00m\n\u001b[1;32m    977\u001b[0m     \u001b[38;5;66;03m# This aliases json.JSONDecodeError and simplejson.JSONDecodeError\u001b[39;00m\n\u001b[0;32m--> 978\u001b[0m     \u001b[38;5;28;01mraise\u001b[39;00m RequestsJSONDecodeError(e\u001b[38;5;241m.\u001b[39mmsg, e\u001b[38;5;241m.\u001b[39mdoc, e\u001b[38;5;241m.\u001b[39mpos)\n",
      "\u001b[0;31mJSONDecodeError\u001b[0m: Expecting value: line 1 column 1 (char 0)"
     ]
    }
   ],
   "source": [
    "#JSONDecodeError: Expecting value: line 1 column 1 (char 0)\n",
    "\n",
    "#query = 'What is address of Green Springs?'\n",
    "#endpoint, park_code, intent, output = spacy_model_functions.api_call(query)\n",
    "#print(endpoint, park_code, intent, output)"
   ]
  },
  {
   "cell_type": "code",
   "execution_count": 8,
   "metadata": {},
   "outputs": [
    {
     "name": "stdout",
     "output_type": "stream",
     "text": [
      "Park not found in the query. Please provide a valid park name. None None None\n"
     ]
    }
   ],
   "source": [
    "query = 'What state is Yosemite in?'\n",
    "endpoint, park_code, intent, output = spacy_model_functions.api_call(query)\n",
    "print(endpoint, park_code, intent, output)"
   ]
  },
  {
   "cell_type": "code",
   "execution_count": 9,
   "metadata": {},
   "outputs": [
    {
     "name": "stdout",
     "output_type": "stream",
     "text": [
      "parks yose state                  fullName parkCode state  \\\n",
      "0  Yosemite National Park     yose    CA   \n",
      "\n",
      "                                         description postalCode      city  \\\n",
      "0  Not just a great valley, but a shrine to human...      95389  Yosemite   \n",
      "\n",
      "  stateCode countryCode provinceTerritoryCode               line1      type  \\\n",
      "0        CA          US                        9039 Village Drive  Physical   \n",
      "\n",
      "  line3 line2  \n",
      "0              \n"
     ]
    }
   ],
   "source": [
    "query = 'What state is Yosemite national park in?'\n",
    "endpoint, park_code, intent, output = spacy_model_functions.api_call(query)\n",
    "print(endpoint, park_code, intent, output)"
   ]
  },
  {
   "cell_type": "markdown",
   "metadata": {},
   "source": [
    "More information on SpaCy:\n",
    "https://spacy.io/models"
   ]
  }
 ],
 "metadata": {
  "kernelspec": {
   "display_name": ".venv",
   "language": "python",
   "name": "python3"
  },
  "language_info": {
   "codemirror_mode": {
    "name": "ipython",
    "version": 3
   },
   "file_extension": ".py",
   "mimetype": "text/x-python",
   "name": "python",
   "nbconvert_exporter": "python",
   "pygments_lexer": "ipython3",
   "version": "3.11.8"
  }
 },
 "nbformat": 4,
 "nbformat_minor": 2
}
