{
 "cells": [
  {
   "cell_type": "markdown",
   "metadata": {},
   "source": [
    "#### Define Imports"
   ]
  },
  {
   "cell_type": "code",
   "execution_count": 1,
   "metadata": {},
   "outputs": [],
   "source": [
    "import pandas as pd \n",
    "import sys\n",
    "\n",
    "sys.path.insert(0,'../')\n",
    "from environment import env\n",
    "from model_functions.gpt_model_functions import *"
   ]
  },
  {
   "cell_type": "markdown",
   "metadata": {},
   "source": [
    "#### Define Variables"
   ]
  },
  {
   "cell_type": "code",
   "execution_count": 2,
   "metadata": {},
   "outputs": [],
   "source": [
    "config = env.env()\n",
    "\n",
    "# Inputs\n",
    "syn_queries = '../02_nps_api_data/synthetic_queries.csv'\n",
    "\n",
    "# **Caution** There are more variables in the cells below"
   ]
  },
  {
   "cell_type": "markdown",
   "metadata": {},
   "source": [
    "#### Read Inputs"
   ]
  },
  {
   "cell_type": "code",
   "execution_count": 3,
   "metadata": {},
   "outputs": [],
   "source": [
    "synthetic_queries_df = pd.read_csv(syn_queries)"
   ]
  },
  {
   "cell_type": "markdown",
   "metadata": {},
   "source": [
    "#### Fine-Tune Endpoint Model"
   ]
  },
  {
   "cell_type": "code",
   "execution_count": 4,
   "metadata": {},
   "outputs": [
    {
     "data": {
      "text/plain": [
       "'ftjob-rp4zNed66xXdFCkMTSkPxrMM'"
      ]
     },
     "execution_count": 4,
     "metadata": {},
     "output_type": "execute_result"
    }
   ],
   "source": [
    "# Target Column\n",
    "target = 'endpoint'\n",
    "\n",
    "# Split data into training and validation set\n",
    "split_synthetic_data(synthetic_queries_df,target)\n",
    "\n",
    "# Fine-Tune Model\n",
    "fine_tune_id = finetune_gpt_model(target)\n",
    "fine_tune_id"
   ]
  },
  {
   "cell_type": "markdown",
   "metadata": {},
   "source": [
    "#### Fine-Tune Parkcode Model"
   ]
  },
  {
   "cell_type": "code",
   "execution_count": null,
   "metadata": {},
   "outputs": [],
   "source": [
    "# Target Column\n",
    "target = 'parkcode'\n",
    "\n",
    "# Split data into training and validation set\n",
    "split_synthetic_data(synthetic_queries_df,target)\n",
    "\n",
    "# Fine-Tune Model\n",
    "fine_tune_id = finetune_gpt_model(target)\n",
    "fine_tune_id"
   ]
  },
  {
   "cell_type": "markdown",
   "metadata": {},
   "source": [
    "#### Fine-Tune Intent Model"
   ]
  },
  {
   "cell_type": "code",
   "execution_count": null,
   "metadata": {},
   "outputs": [],
   "source": [
    "# Target Column\n",
    "target = 'intent'\n",
    "\n",
    "# Split data into training and validation set\n",
    "split_synthetic_data(synthetic_queries_df,target)\n",
    "\n",
    "# Fine-Tune Model\n",
    "fine_tune_id = finetune_gpt_model(target)\n",
    "fine_tune_id"
   ]
  }
 ],
 "metadata": {
  "kernelspec": {
   "display_name": "Python 3",
   "language": "python",
   "name": "python3"
  },
  "language_info": {
   "codemirror_mode": {
    "name": "ipython",
    "version": 3
   },
   "file_extension": ".py",
   "mimetype": "text/x-python",
   "name": "python",
   "nbconvert_exporter": "python",
   "pygments_lexer": "ipython3",
   "version": "3.8.19"
  }
 },
 "nbformat": 4,
 "nbformat_minor": 2
}
