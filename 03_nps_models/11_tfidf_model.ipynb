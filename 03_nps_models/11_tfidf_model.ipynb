{
 "cells": [
  {
   "cell_type": "code",
   "execution_count": 1,
   "metadata": {},
   "outputs": [],
   "source": [
    "\n",
    "import pandas as pd\n",
    "import requests\n",
    "from sklearn.naive_bayes import GaussianNB\n",
    "from sklearn.model_selection import train_test_split\n",
    "from sklearn.feature_extraction.text import TfidfVectorizer\n",
    "import pickle\n",
    "\n",
    "import sys\n",
    "\n",
    "sys.path.insert(0,'../')\n",
    "from environment import env"
   ]
  },
  {
   "cell_type": "code",
   "execution_count": 2,
   "metadata": {},
   "outputs": [],
   "source": [
    "config = env.env()"
   ]
  },
  {
   "cell_type": "markdown",
   "metadata": {},
   "source": [
    "Define Variables"
   ]
  },
  {
   "cell_type": "code",
   "execution_count": 5,
   "metadata": {},
   "outputs": [],
   "source": [
    "config = env.env()\n",
    "\n",
    "#Inputs\n",
    "api_base_url = 'https://developer.nps.gov/api/v1/'\n",
    "park_csv_path = '../02_nps_api_data/park_to_parkcode.csv'\n",
    "training_queries = '../02_nps_api_data/synthetic_queries.csv'\n",
    "\n",
    "# Outputs\n",
    "model_name = 'nltk_model.pkl'"
   ]
  },
  {
   "cell_type": "code",
   "execution_count": 6,
   "metadata": {},
   "outputs": [
    {
     "data": {
      "text/html": [
       "<div>\n",
       "<style scoped>\n",
       "    .dataframe tbody tr th:only-of-type {\n",
       "        vertical-align: middle;\n",
       "    }\n",
       "\n",
       "    .dataframe tbody tr th {\n",
       "        vertical-align: top;\n",
       "    }\n",
       "\n",
       "    .dataframe thead th {\n",
       "        text-align: right;\n",
       "    }\n",
       "</style>\n",
       "<table border=\"1\" class=\"dataframe\">\n",
       "  <thead>\n",
       "    <tr style=\"text-align: right;\">\n",
       "      <th></th>\n",
       "      <th>query</th>\n",
       "      <th>intent</th>\n",
       "      <th>api_call.endpoint</th>\n",
       "      <th>api_call.parkCode</th>\n",
       "    </tr>\n",
       "  </thead>\n",
       "  <tbody>\n",
       "    <tr>\n",
       "      <th>0</th>\n",
       "      <td>Tell me about Abraham Lincoln Birthplace Natio...</td>\n",
       "      <td>description</td>\n",
       "      <td>parks</td>\n",
       "      <td>abli</td>\n",
       "    </tr>\n",
       "    <tr>\n",
       "      <th>1</th>\n",
       "      <td>Give me a description of Abraham Lincoln Birth...</td>\n",
       "      <td>description</td>\n",
       "      <td>parks</td>\n",
       "      <td>abli</td>\n",
       "    </tr>\n",
       "    <tr>\n",
       "      <th>2</th>\n",
       "      <td>Describe Abraham Lincoln Birthplace National H...</td>\n",
       "      <td>description</td>\n",
       "      <td>parks</td>\n",
       "      <td>abli</td>\n",
       "    </tr>\n",
       "    <tr>\n",
       "      <th>3</th>\n",
       "      <td>What is the description of Abraham Lincoln Bir...</td>\n",
       "      <td>description</td>\n",
       "      <td>parks</td>\n",
       "      <td>abli</td>\n",
       "    </tr>\n",
       "    <tr>\n",
       "      <th>4</th>\n",
       "      <td>Tell me about Acadia National Park</td>\n",
       "      <td>description</td>\n",
       "      <td>parks</td>\n",
       "      <td>acad</td>\n",
       "    </tr>\n",
       "  </tbody>\n",
       "</table>\n",
       "</div>"
      ],
      "text/plain": [
       "                                               query       intent  \\\n",
       "0  Tell me about Abraham Lincoln Birthplace Natio...  description   \n",
       "1  Give me a description of Abraham Lincoln Birth...  description   \n",
       "2  Describe Abraham Lincoln Birthplace National H...  description   \n",
       "3  What is the description of Abraham Lincoln Bir...  description   \n",
       "4                 Tell me about Acadia National Park  description   \n",
       "\n",
       "  api_call.endpoint api_call.parkCode  \n",
       "0             parks              abli  \n",
       "1             parks              abli  \n",
       "2             parks              abli  \n",
       "3             parks              abli  \n",
       "4             parks              acad  "
      ]
     },
     "execution_count": 6,
     "metadata": {},
     "output_type": "execute_result"
    }
   ],
   "source": [
    "pd.read_csv(training_queries).head()"
   ]
  },
  {
   "cell_type": "code",
   "execution_count": 23,
   "metadata": {},
   "outputs": [],
   "source": [
    "class TfidfClassifier:\n",
    "    def __init__(self, config, park_csv_path):\n",
    "        self.config = config\n",
    "        self.intent_clf = GaussianNB()\n",
    "        self.intent_vectorizer = TfidfVectorizer()\n",
    "        self.parkcode_clf = GaussianNB()\n",
    "        self.parkcode_vectorizer = TfidfVectorizer()\n",
    "\n",
    "    def fit(self, path):\n",
    "        \"\"\"Loads training data into a df and fits for specific label\n",
    "        \"\"\"\n",
    "        df = pd.read_csv(path)\n",
    "        query = df['query']\n",
    "    \n",
    "        X_train = self.intent_vectorizer.fit_transform(query).toarray()\n",
    "        y_train = df['intent']\n",
    "        self.intent_clf.fit(X_train, y_train)\n",
    "\n",
    "        X_train = self.parkcode_vectorizer.fit_transform(query).toarray()\n",
    "        y_train = df['api_call.parkCode']\n",
    "        self.parkcode_clf.fit(X_train, y_train)\n",
    "\n",
    "        return self.intent_clf, self.parkcode_clf\n",
    "        \n",
    "\n",
    "    def get_params(self, query):\n",
    "        intent_vec = self.intent_vectorizer.transform([query]).toarray()\n",
    "        parkcode_vec = self.parkcode_vectorizer.transform([query]).toarray()\n",
    "\n",
    "        parkcode = self.parkcode_clf.predict(parkcode_vec)\n",
    "        intent = self.intent_clf.predict(intent_vec)\n",
    "        \n",
    "        if intent == 'description':\n",
    "            endpoint = 'parks'\n",
    "        elif intent == 'address':\n",
    "            endpoint = 'addresses'\n",
    "        elif intent == 'state':\n",
    "            endpoint = 'parks'\n",
    "        elif intent == 'alerts':\n",
    "            endpoint = 'alerts'\n",
    "        elif intent == 'amenities':\n",
    "            endpoint = 'amenities'\n",
    "        elif intent == 'events':\n",
    "            endpoint = 'events'\n",
    "        elif intent == 'feespass':\n",
    "            endpoint = 'feespasses'\n",
    "        else:\n",
    "            endpoint = 'parks'\n",
    "\n",
    "        return endpoint, parkcode[0], intent[0]\n",
    "\n"
   ]
  },
  {
   "cell_type": "code",
   "execution_count": 24,
   "metadata": {},
   "outputs": [
    {
     "data": {
      "text/plain": [
       "(GaussianNB(), GaussianNB())"
      ]
     },
     "execution_count": 24,
     "metadata": {},
     "output_type": "execute_result"
    }
   ],
   "source": [
    "tfidf_model = TfidfClassifier(config, park_csv_path)\n",
    "tfidf_model.fit(training_queries)\n",
    "#pickle.dump(tfidf_model, open('tfidf_model.pkl', 'wb'))\n"
   ]
  },
  {
   "cell_type": "code",
   "execution_count": 25,
   "metadata": {},
   "outputs": [
    {
     "name": "stdout",
     "output_type": "stream",
     "text": [
      "parks grsp state\n"
     ]
    }
   ],
   "source": [
    "query = 'What state is Green Springs in?'\n",
    "endpoint, park_code, intent = tfidf_model.get_params(query)\n",
    "print(endpoint, park_code, intent)"
   ]
  },
  {
   "cell_type": "code",
   "execution_count": 21,
   "metadata": {},
   "outputs": [
    {
     "name": "stdout",
     "output_type": "stream",
     "text": [
      "parks frsp description\n"
     ]
    }
   ],
   "source": [
    "query = 'Give me information on Fredericksburg & Spotsylvania National Military Park'\n",
    "endpoint, park_code, intent = tfidf_model.get_params(query)\n",
    "print(endpoint, park_code, intent)"
   ]
  },
  {
   "cell_type": "code",
   "execution_count": null,
   "metadata": {},
   "outputs": [],
   "source": []
  }
 ],
 "metadata": {
  "kernelspec": {
   "display_name": "Python 3",
   "language": "python",
   "name": "python3"
  },
  "language_info": {
   "codemirror_mode": {
    "name": "ipython",
    "version": 3
   },
   "file_extension": ".py",
   "mimetype": "text/x-python",
   "name": "python",
   "nbconvert_exporter": "python",
   "pygments_lexer": "ipython3",
   "version": "3.11.8"
  }
 },
 "nbformat": 4,
 "nbformat_minor": 2
}
