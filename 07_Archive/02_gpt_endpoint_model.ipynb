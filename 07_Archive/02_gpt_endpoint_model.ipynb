{
 "cells": [
  {
   "cell_type": "markdown",
   "metadata": {},
   "source": [
    "#### Define Imports"
   ]
  },
  {
   "cell_type": "code",
   "execution_count": 3,
   "metadata": {},
   "outputs": [],
   "source": [
    "import pandas as pd \n",
    "from sklearn.model_selection import train_test_split\n",
    "from openai import OpenAI\n",
    "import sys\n",
    "\n",
    "sys.path.insert(0,'../')\n",
    "from environment import env\n",
    "from nps_model_functions import helper_functions"
   ]
  },
  {
   "cell_type": "markdown",
   "metadata": {},
   "source": [
    "#### Define Variables"
   ]
  },
  {
   "cell_type": "code",
   "execution_count": 4,
   "metadata": {},
   "outputs": [],
   "source": [
    "config = env.env()\n",
    "\n",
    "# Inputs\n",
    "client = OpenAI(api_key  = config['gpt_api_key'])\n",
    "syn_queries = '../02_nps_api_data/synthetic_queries.csv'\n",
    "\n",
    "# Output\n",
    "train_data = 'endpoint_train_data.jsonl'\n",
    "val_data = 'endpoint_val_data.jsonl'\n",
    "target = 'endpoint'\n",
    "model_name = 'nps_model_endpoint'"
   ]
  },
  {
   "cell_type": "markdown",
   "metadata": {},
   "source": [
    "#### Read Inputs"
   ]
  },
  {
   "cell_type": "code",
   "execution_count": 5,
   "metadata": {},
   "outputs": [],
   "source": [
    "synthetic_queries_df = pd.read_csv(syn_queries)"
   ]
  },
  {
   "cell_type": "markdown",
   "metadata": {},
   "source": [
    "#### Prepare for GPT"
   ]
  },
  {
   "cell_type": "code",
   "execution_count": 8,
   "metadata": {},
   "outputs": [
    {
     "name": "stdout",
     "output_type": "stream",
     "text": [
      "38433 9609\n"
     ]
    }
   ],
   "source": [
    "# Train/validation split\n",
    "train_df, val_df = train_test_split(synthetic_queries_df, test_size=0.2, random_state=42)\n",
    "print(len(train_df),len(val_df))\n",
    "\n",
    "# Saves training and validation data to json for ingestion by OpenAI GPT\n",
    "helper_functions.save_to_jsonl(train_df, train_data, target)\n",
    "helper_functions.save_to_jsonl(val_df, val_data, target)"
   ]
  },
  {
   "cell_type": "markdown",
   "metadata": {},
   "source": [
    "#### Fine Tune"
   ]
  },
  {
   "cell_type": "code",
   "execution_count": 9,
   "metadata": {},
   "outputs": [],
   "source": [
    "# Upload a file that can be used across various endpoints. Individual files can be up to 512 MB, and the size of all files uploaded by one organization can be up to 100 GB.\n",
    "  # Documentation: https://platform.openai.com/docs/api-reference/files/create\n",
    "train_file =  client.files.create(\n",
    "  file=open(train_data, \"rb\"),\n",
    "  purpose=\"fine-tune\"\n",
    ")\n",
    "\n",
    "val_file = client.files.create(\n",
    "  file=open(val_data, \"rb\"),\n",
    "  purpose=\"fine-tune\"\n",
    ")\n",
    "\n",
    "# Retrieve file id to be used in fine tuning job\n",
    "train_file_id = train_file.id\n",
    "val_file_id = val_file.id"
   ]
  },
  {
   "cell_type": "code",
   "execution_count": 10,
   "metadata": {},
   "outputs": [],
   "source": [
    "# Creates a fine-tuning job which begins the process of creating a new model from a given dataset.\n",
    "  # Documentation: https://platform.openai.com/docs/api-reference/fine-tuning/create\n",
    "fine_tune = client.fine_tuning.jobs.create(\n",
    "  # The Davinci model was selected for its performance as a completion model over using a chat model based on our use case.\n",
    "  # We also tried using the gpt-3.5-turbo and we were unable to get the model to complete after an hour of training.\n",
    "  # Conversely, the davinci model averaged a 20 minute training period.\n",
    "  model=\"davinci-002\",\n",
    "  training_file=train_file_id,\n",
    "  validation_file=val_file_id,\n",
    "  seed = 42,\n",
    "  suffix = model_name\n",
    ")\n",
    "# The fine tune id needs to be retained and set in the environment file to be used when calling the fine-tuned model.\n",
    "fine_tune_id = fine_tune.id"
   ]
  },
  {
   "cell_type": "markdown",
   "metadata": {},
   "source": []
  }
 ],
 "metadata": {
  "kernelspec": {
   "display_name": "Python 3",
   "language": "python",
   "name": "python3"
  },
  "language_info": {
   "codemirror_mode": {
    "name": "ipython",
    "version": 3
   },
   "file_extension": ".py",
   "mimetype": "text/x-python",
   "name": "python",
   "nbconvert_exporter": "python",
   "pygments_lexer": "ipython3",
   "version": "3.8.19"
  }
 },
 "nbformat": 4,
 "nbformat_minor": 2
}
