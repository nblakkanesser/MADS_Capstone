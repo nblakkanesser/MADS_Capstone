{
 "cells": [
  {
   "cell_type": "markdown",
   "metadata": {},
   "source": [
    "#### Define Imports"
   ]
  },
  {
   "cell_type": "code",
   "execution_count": 1,
   "metadata": {},
   "outputs": [],
   "source": [
    "import requests\n",
    "import pandas as pd \n",
    "import random\n",
    "import json\n",
    "import sys\n",
    "\n",
    "from helper_functions import *\n",
    "park_model, park_vectorizer = park_code_model.trained_model()\n",
    "\n",
    "sys.path.insert(0,'../')\n",
    "from environment import env"
   ]
  },
  {
   "cell_type": "markdown",
   "metadata": {},
   "source": [
    "#### Define Variables"
   ]
  },
  {
   "cell_type": "code",
   "execution_count": 2,
   "metadata": {},
   "outputs": [],
   "source": [
    "config = env.env()\n",
    "nps_api_key = config['nps_api_key']\n",
    "api_base_url = 'https://developer.nps.gov/api/v1/'\n",
    "park_sample = 25"
   ]
  },
  {
   "cell_type": "markdown",
   "metadata": {},
   "source": [
    "#### Define Functions"
   ]
  },
  {
   "cell_type": "code",
   "execution_count": 3,
   "metadata": {},
   "outputs": [],
   "source": [
    "def get_parks(params):\n",
    "    \"\"\"\n",
    "    Use to find a list of all park names, codes, states, addresses and descriptions from the NPS parks endpoint.\n",
    "    Can also be used to find specific park information.\n",
    "    *Chat GPT was used to create the pagination process for the API\n",
    "\n",
    "    params: The param dict to pass through the API call\n",
    "    \"\"\"\n",
    "    parks = []\n",
    "    limit = 50  # Number of results per page, maximum allowed by NPS API\n",
    "    start = 0   # Initial starting point for pagination\n",
    "    \n",
    "    while True:\n",
    "        params['limit'] = limit\n",
    "        params['start'] =  start\n",
    "        \n",
    "        response = requests.get(f\"{api_base_url}parks\", params=params)\n",
    "        data = response.json()\n",
    "        \n",
    "        parks.extend([\n",
    "            {\n",
    "                'fullName': park['fullName'],\n",
    "                'parkCode': park['parkCode'],\n",
    "                'state': park['states'],\n",
    "                'addresses': park.get('addresses', []),\n",
    "                'description': park['description']\n",
    "            } for park in data['data']\n",
    "        ])\n",
    "        \n",
    "        # Move to the next page\n",
    "        start += limit\n",
    "        \n",
    "        # Break the loop if all parks have been retrieved\n",
    "        if int(start) >= int(data['total']):\n",
    "            break\n",
    "    \n",
    "    return parks"
   ]
  },
  {
   "cell_type": "code",
   "execution_count": 4,
   "metadata": {},
   "outputs": [],
   "source": [
    "def create_synthetic_queries(api_key, entities, endpoint, intent, queries):\n",
    "    \"\"\"\n",
    "    Creates synthetic data in the necessary format for a specified API call.\n",
    "\n",
    "    api_key: Personal API key to use in request.\n",
    "    entities: List of items to loop through such as State, Parks, Amentities.\n",
    "    endpoint: the NPS API endpoint to call such as /activities or /parks.\n",
    "    intent: General label for queries in a particular group. \n",
    "            For example, the questions \"Tell me about {park}\" and \"I want to know more about {park}\" could both be categorized with the label \"GetParkInfo\".\n",
    "    queries: A list of queries you would like to associate with a given set of API calls.\n",
    "    \"\"\"\n",
    "    dataset = []\n",
    "    for entity in entities:\n",
    "        for query in queries:\n",
    "            # Create API parameters \n",
    "            params = {'api_key': nps_api_key,\n",
    "                    \"parkCode\": park_code_model.map_park_code(query.format(entity=entity), park_model, park_vectorizer)\n",
    "            }\n",
    "                \n",
    "\n",
    "            dataset.append({\n",
    "                \"query\": query.format(entity=entity),\n",
    "                \"intent\": intent,\n",
    "                \"api_call\": {\n",
    "                    \"endpoint\": endpoint,\n",
    "                    \"parkCode\": params[\"parkCode\"]\n",
    "                }\n",
    "            })\n",
    "\n",
    "    synthetic_queries = pd.json_normalize(dataset)\n",
    "    return synthetic_queries\n"
   ]
  },
  {
   "cell_type": "markdown",
   "metadata": {},
   "source": [
    "#### Create Synthetic Data"
   ]
  },
  {
   "cell_type": "code",
   "execution_count": 5,
   "metadata": {},
   "outputs": [],
   "source": [
    "# list of parks\n",
    "parks_df = pd.DataFrame(get_parks({'api_key': nps_api_key}))\n",
    "parks = parks_df['fullName'].tolist()\n",
    "park_codes = parks_df['parkCode'].tolist()\n",
    "park_roots = nps_parks_root.nps_parks_root()\n",
    "\n",
    "park_lookup = dict(zip(parks, park_codes))\n",
    "root_dict = dict(zip(parks, park_roots))"
   ]
  },
  {
   "cell_type": "code",
   "execution_count": 6,
   "metadata": {},
   "outputs": [],
   "source": [
    "# Parks combined is the combination of two lists: The full park names and estimated park name abbreviations that users might use (i.e. Acadia National Park vs Acadia)\n",
    "parks_sampled = random.sample(parks, park_sample)\n",
    "roots = [root_dict[park] for park in parks_sampled]\n",
    "parks_combined = roots+parks_sampled"
   ]
  },
  {
   "cell_type": "code",
   "execution_count": 7,
   "metadata": {},
   "outputs": [],
   "source": [
    "queries = [\n",
    "    \"Tell me about {entity}\",\"What is the full name of {entity}?\",\"What is the address of {entity}?\",\"Which state is {entity} located in?\",\"Give me a description of {entity}\",\n",
    "    \"Where is {entity} located?\",\"Can you provide the full name of {entity}?\",\"What is the location of {entity}?\",\"Tell me the address of {entity}\",\n",
    "    \"In which state can I find {entity}?\",\"Describe {entity} to me\"\n",
    "]\n",
    "ParkInfo = create_synthetic_queries(nps_api_key, entities = parks_combined, endpoint = \"parks\", intent = \"ParkInfo\", queries = queries)\n",
    "\n",
    "queries = [\n",
    "    \"What activities can I do at {entity}?\",\"Tell me about the activities available at {entity}\",\"What can I do at {entity}?\",\"List the activities at {entity}\",\n",
    "    \"What recreational activities are offered at {entity}?\",\"What outdoor activities can I enjoy at {entity}?\",\"What kind of activities are there at {entity}?\",\n",
    "    \"What are the top activities at {entity}?\",\"What fun things can I do at {entity}?\",\"What activities are recommended at {entity}?\"\n",
    "]\n",
    "ParkActivities = create_synthetic_queries(nps_api_key, entities = parks_combined, endpoint = \"activities\", intent = \"ParkActivities\", queries = queries)\n",
    "\n",
    "queries = [\n",
    "    \"What alerts are active at {entity} currently?\",\"Are there any current alerts at {entity}?\",\"Tell me the active alerts at {entity}\",\"What are the current alerts for {entity}?\",\n",
    "    \"Which alerts are active in {entity} right now?\",\"List the active alerts at {entity}\",\"Are there any alerts at {entity}?\",\"What are the present alerts for {entity}?\",\n",
    "    \"Can you provide the active alerts for {entity}?\",\"What are the ongoing alerts at {entity}?\"\n",
    "]\n",
    "ParkAlerts = create_synthetic_queries(nps_api_key, entities = parks_combined, endpoint = \"alerts\", intent = \"ParkAlerts\", queries = queries)\n",
    "\n",
    "queries = [\n",
    "    \"What amenities exist at {entity}?\",\"Tell me about the amenities at {entity}\",\"What facilities are available at {entity}?\",\"List the amenities at {entity}\",\n",
    "    \"What kind of amenities can I find at {entity}?\",\"What services and facilities does {entity} offer?\",\"What amenities should I expect at {entity}?\",\n",
    "    \"What conveniences are available at {entity}?\",\"What amenities does {entity} have?\",\"What facilities are provided at {entity}?\"\n",
    "]\n",
    "ParkAmenities = create_synthetic_queries(nps_api_key, entities = parks_combined, endpoint = \"amenities\", intent = \"ParkAmenities\", queries = queries)\n",
    "\n",
    "queries = [\"What events are happening at {entity}?\",\"Tell me about the events at {entity}\",\"What upcoming events are scheduled at {entity}?\",\n",
    "    \"Are there any events at {entity}?\",\"What kind of events are held at {entity}?\",\"What events can I attend at {entity}?\",\n",
    "    \"Are there any special events at {entity}?\",\"What events are planned at {entity}?\",\"What events are currently happening at {entity}?\",\"What activities and events are there at {entity}?\"\n",
    "]\n",
    "ParkEvents = create_synthetic_queries(nps_api_key, entities = parks_combined, endpoint = \"events\", intent = \"ParkEvents\", queries = queries)\n",
    "\n",
    "queries = [\n",
    "    \"How much does it cost to get into {entity}?\",\"What is the entry fee for {entity}?\", \"Tell me about the entrance fees for {entity}\",\n",
    "    \"What are the admission fees for {entity}?\",\"Are there any fees to visit {entity}?\",\"What is the cost of admission to {entity}?\",\n",
    "    \"How expensive is it to visit {entity}?\",\"What are the ticket prices for {entity}?\",\"Do I need to pay to enter {entity}?\",\"Are there any charges to access {entity}?\"\n",
    "]\n",
    "ParkFees = create_synthetic_queries(nps_api_key, entities = parks_combined, endpoint = \"feespasses\", intent = \"ParkFees\", queries = queries)\n",
    "\n",
    "queries =  [\n",
    "    \"Where can I park at {entity}?\",\"Tell me about parking options at {entity}\",\"What are the parking facilities like at {entity}?\",\"Where should I park when visiting {entity}?\",\n",
    "    \"What parking areas are available at {entity}?\",\"Is there parking available at {entity}?\",\"How is parking managed at {entity}?\",\"Can I find parking near {entity}?\",\n",
    "    \"Are there designated parking lots at {entity}?\",\"What are the parking arrangements at {entity}?\"\n",
    "]\n",
    "ParkParkingLots = create_synthetic_queries(nps_api_key, entities = parks_combined, endpoint = \"parkinglots\", intent = \"ParkParkingLots\", queries = queries)\n",
    "\n",
    "queries = [\"What things can I do at {entity}?\",\"Tell me about attractions at {entity}\",\"What are the attractions at {entity}?\",\n",
    "    \"What are the main attractions of {entity}?\",\"What are the highlights of {entity}?\",\"What can I see and do at {entity}?\",\n",
    "    \"What are the recreational opportunities at {entity}?\",\"What are the popular things to do at {entity}?\",\n",
    "    \"What experiences are available at {entity}?\",\"What is there to do {entity}?\"]\n",
    "ParkThingsToDo = create_synthetic_queries(nps_api_key, entities = parks_combined, endpoint = \"thingstodo\", intent = \"ParkThingsToDo\", queries = queries)\n",
    "\n",
    "queries = [\"What tours can I take at {entity}?\",\"Tell me about guided tours at {entity}\",\"Are there any guided tours available at {entity}?\",\"What guided experiences are offered at {entity}?\",\n",
    "    \"Can I join any tours at {entity}?\",\"What kind of guided tours are available at {entity}?\",\"Are there ranger-led tours at {entity}?\",\n",
    "    \"What are the tour options at {entity}?\",\"How can I book a tour at {entity}?\",\"Are there any special tours or programs at {entity}?\"]\n",
    "ParkTours = create_synthetic_queries(nps_api_key, entities = parks_combined, endpoint = \"tours\", intent = \"ParkTours\", queries = queries)\n",
    "\n",
    "queries = [\"Where are the visitor centers located at {entity}?\",\"Tell me about visitor centers at {entity}\",\"What visitor centers can I find at {entity}?\",\n",
    "    \"Are there any visitor centers at {entity}?\",\"Where can I find information centers at {entity}?\",\"What are the visitor facilities like at {entity}?\",\"Can you guide me to the visitor centers at {entity}?\",\n",
    "    \"How many visitor centers are there at {entity}?\",\"What services do the visitor centers offer at {entity}?\",\"Are the visitor centers at {entity} open to the public?\"]\n",
    "ParkVisitorCenters = create_synthetic_queries(nps_api_key, entities = parks_combined, endpoint = \"visitorcenters\", intent = \"ParkVisitorCenters\", queries = queries)"
   ]
  },
  {
   "cell_type": "code",
   "execution_count": 8,
   "metadata": {},
   "outputs": [],
   "source": [
    "synthetic_queries_df = pd.concat([ParkInfo, ParkActivities, ParkAlerts, ParkAmenities, ParkEvents, ParkFees], axis=0, ignore_index=True)"
   ]
  },
  {
   "cell_type": "markdown",
   "metadata": {},
   "source": [
    "#### Write Outputs"
   ]
  },
  {
   "cell_type": "code",
   "execution_count": 122,
   "metadata": {},
   "outputs": [],
   "source": [
    "synthetic_queries_df.to_csv('synthetic_queries.csv', index=False)\n",
    "parks_df[['fullName','parkCode']].to_csv('park_to_parkcode.csv', index=False)\n",
    "pd.DataFrame(list(root_dict.items()), columns=['fullName', 'parkRoot']).to_csv('park_to_root.csv', index=False)"
   ]
  }
 ],
 "metadata": {
  "kernelspec": {
   "display_name": "Python 3",
   "language": "python",
   "name": "python3"
  },
  "language_info": {
   "codemirror_mode": {
    "name": "ipython",
    "version": 3
   },
   "file_extension": ".py",
   "mimetype": "text/x-python",
   "name": "python",
   "nbconvert_exporter": "python",
   "pygments_lexer": "ipython3",
   "version": "3.7.1"
  }
 },
 "nbformat": 4,
 "nbformat_minor": 2
}
