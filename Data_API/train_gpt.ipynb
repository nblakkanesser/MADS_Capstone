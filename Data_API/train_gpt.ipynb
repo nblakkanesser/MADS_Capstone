{
 "cells": [
  {
   "cell_type": "markdown",
   "metadata": {},
   "source": [
    "#### Define Imports"
   ]
  },
  {
   "cell_type": "code",
   "execution_count": 9,
   "metadata": {},
   "outputs": [
    {
     "name": "stdout",
     "output_type": "stream",
     "text": [
      "Collecting openai==0.28\n",
      "  Downloading openai-0.28.0-py3-none-any.whl (76 kB)\n",
      "Requirement already satisfied: tqdm in c:\\python\\lib\\site-packages (from openai==0.28) (4.66.4)\n",
      "Collecting aiohttp\n",
      "  Downloading aiohttp-3.8.6-cp37-cp37m-win32.whl (311 kB)\n",
      "Requirement already satisfied: requests>=2.20 in c:\\python\\lib\\site-packages (from openai==0.28) (2.31.0)\n",
      "Requirement already satisfied: typing-extensions; python_version < \"3.8\" in c:\\python\\lib\\site-packages (from openai==0.28) (4.7.1)\n",
      "Requirement already satisfied: colorama; platform_system == \"Windows\" in c:\\users\\courtney gibson\\appdata\\roaming\\python\\python37\\site-packages (from tqdm->openai==0.28) (0.4.6)\n",
      "Collecting asynctest==0.13.0; python_version < \"3.8\"\n",
      "  Downloading asynctest-0.13.0-py3-none-any.whl (26 kB)\n",
      "Collecting aiosignal>=1.1.2\n",
      "  Downloading aiosignal-1.3.1-py3-none-any.whl (7.6 kB)\n",
      "Collecting async-timeout<5.0,>=4.0.0a3\n",
      "  Downloading async_timeout-4.0.3-py3-none-any.whl (5.7 kB)\n",
      "Collecting frozenlist>=1.1.1\n",
      "  Downloading frozenlist-1.3.3-cp37-cp37m-win32.whl (31 kB)\n",
      "Requirement already satisfied: charset-normalizer<4.0,>=2.0 in c:\\python\\lib\\site-packages (from aiohttp->openai==0.28) (3.3.2)\n",
      "Collecting yarl<2.0,>=1.0\n",
      "  Downloading yarl-1.9.4-cp37-cp37m-win32.whl (70 kB)\n",
      "Collecting attrs>=17.3.0\n",
      "  Downloading attrs-23.2.0-py3-none-any.whl (60 kB)\n",
      "Collecting multidict<7.0,>=4.5\n",
      "  Downloading multidict-6.0.5-cp37-cp37m-win32.whl (24 kB)\n",
      "Requirement already satisfied: urllib3<3,>=1.21.1 in c:\\python\\lib\\site-packages (from requests>=2.20->openai==0.28) (1.25.9)\n",
      "Requirement already satisfied: certifi>=2017.4.17 in c:\\python\\lib\\site-packages (from requests>=2.20->openai==0.28) (2024.6.2)\n",
      "Requirement already satisfied: idna<4,>=2.5 in c:\\python\\lib\\site-packages (from requests>=2.20->openai==0.28) (3.7)\n",
      "Requirement already satisfied: importlib-metadata; python_version < \"3.8\" in c:\\python\\lib\\site-packages (from attrs>=17.3.0->aiohttp->openai==0.28) (6.7.0)\n",
      "Requirement already satisfied: zipp>=0.5 in c:\\python\\lib\\site-packages (from importlib-metadata; python_version < \"3.8\"->attrs>=17.3.0->aiohttp->openai==0.28) (3.15.0)\n",
      "Installing collected packages: asynctest, frozenlist, aiosignal, async-timeout, multidict, yarl, attrs, aiohttp, openai\n",
      "  Attempting uninstall: openai\n",
      "    Found existing installation: openai 1.35.7\n",
      "    Uninstalling openai-1.35.7:\n",
      "      Successfully uninstalled openai-1.35.7\n",
      "Successfully installed aiohttp-3.8.6 aiosignal-1.3.1 async-timeout-4.0.3 asynctest-0.13.0 attrs-23.2.0 frozenlist-1.3.3 multidict-6.0.5 openai-0.28.0 yarl-1.9.4\n",
      "Note: you may need to restart the kernel to use updated packages.\n"
     ]
    },
    {
     "name": "stderr",
     "output_type": "stream",
     "text": [
      "WARNING: You are using pip version 20.1; however, version 24.0 is available.\n",
      "You should consider upgrading via the 'c:\\python\\python.exe -m pip install --upgrade pip' command.\n"
     ]
    }
   ],
   "source": [
    "%pip install openai==0.28"
   ]
  },
  {
   "cell_type": "code",
   "execution_count": 13,
   "metadata": {},
   "outputs": [],
   "source": [
    "import requests\n",
    "import pandas as pd \n",
    "import random\n",
    "from sklearn.model_selection import train_test_split\n",
    "from sklearn.preprocessing import LabelEncoder, OneHotEncoder\n",
    "from sklearn.feature_extraction.text import TfidfVectorizer\n",
    "import json\n",
    "import openai\n",
    "import os\n",
    "\n",
    "from environment import env\n",
    "\n",
    "config = env.env()\n",
    "api_key = config['api_key']\n",
    "\n",
    "api_base_url = 'https://developer.nps.gov/api/v1/'\n"
   ]
  },
  {
   "cell_type": "markdown",
   "metadata": {},
   "source": [
    "#### Define Functions"
   ]
  },
  {
   "cell_type": "code",
   "execution_count": 7,
   "metadata": {},
   "outputs": [],
   "source": [
    "def handle_query(query, use_intent=True):\n",
    "    prompt = f\"Query: {query}\\n\"\n",
    "    if use_intent:\n",
    "        prompt += f\"Intent: {intent}\\n\"\n",
    "    response = openai.Completion.create(\n",
    "        model=fine_tune['fine_tuned_model'],  # Use the fine-tuned model\n",
    "        prompt=prompt,\n",
    "        max_tokens=50\n",
    "    )\n",
    "    completion = response['choices'][0]['text'].strip()\n",
    "    return completion\n",
    "\n"
   ]
  },
  {
   "cell_type": "markdown",
   "metadata": {},
   "source": [
    "#### Define Variables"
   ]
  },
  {
   "cell_type": "markdown",
   "metadata": {},
   "source": [
    "#### Read Inputs"
   ]
  },
  {
   "cell_type": "code",
   "execution_count": 14,
   "metadata": {},
   "outputs": [
    {
     "ename": "APIRemovedInV1",
     "evalue": "\n\nYou tried to access openai.File, but this is no longer supported in openai>=1.0.0 - see the README at https://github.com/openai/openai-python for the API.\n\nYou can run `openai migrate` to automatically upgrade your codebase to use the 1.0.0 interface. \n\nAlternatively, you can pin your installation to the old version, e.g. `pip install openai==0.28`\n\nA detailed migration guide is available here: https://github.com/openai/openai-python/discussions/742\n",
     "output_type": "error",
     "traceback": [
      "\u001b[1;31m---------------------------------------------------------------------------\u001b[0m",
      "\u001b[1;31mAPIRemovedInV1\u001b[0m                            Traceback (most recent call last)",
      "\u001b[1;32m~\\AppData\\Local\\Temp\\ipykernel_26332\\1112436039.py\u001b[0m in \u001b[0;36m<module>\u001b[1;34m\u001b[0m\n\u001b[0;32m      2\u001b[0m \u001b[1;33m\u001b[0m\u001b[0m\n\u001b[0;32m      3\u001b[0m \u001b[1;31m# Upload and prepare the training file\u001b[0m\u001b[1;33m\u001b[0m\u001b[1;33m\u001b[0m\u001b[1;33m\u001b[0m\u001b[0m\n\u001b[1;32m----> 4\u001b[1;33m \u001b[0mtrain_file\u001b[0m \u001b[1;33m=\u001b[0m \u001b[0mopenai\u001b[0m\u001b[1;33m.\u001b[0m\u001b[0mFile\u001b[0m\u001b[1;33m.\u001b[0m\u001b[0mcreate\u001b[0m\u001b[1;33m(\u001b[0m\u001b[0mfile\u001b[0m\u001b[1;33m=\u001b[0m\u001b[0mopen\u001b[0m\u001b[1;33m(\u001b[0m\u001b[1;34m'fine_tune_train_data.jsonl'\u001b[0m\u001b[1;33m)\u001b[0m\u001b[1;33m,\u001b[0m \u001b[0mpurpose\u001b[0m\u001b[1;33m=\u001b[0m\u001b[1;34m'fine-tune'\u001b[0m\u001b[1;33m)\u001b[0m\u001b[1;33m\u001b[0m\u001b[1;33m\u001b[0m\u001b[0m\n\u001b[0m\u001b[0;32m      5\u001b[0m \u001b[0mval_file\u001b[0m \u001b[1;33m=\u001b[0m \u001b[0mopenai\u001b[0m\u001b[1;33m.\u001b[0m\u001b[0mFile\u001b[0m\u001b[1;33m.\u001b[0m\u001b[0mcreate\u001b[0m\u001b[1;33m(\u001b[0m\u001b[0mfile\u001b[0m\u001b[1;33m=\u001b[0m\u001b[0mopen\u001b[0m\u001b[1;33m(\u001b[0m\u001b[1;34m'fine_tune_val_data.jsonl'\u001b[0m\u001b[1;33m)\u001b[0m\u001b[1;33m,\u001b[0m \u001b[0mpurpose\u001b[0m\u001b[1;33m=\u001b[0m\u001b[1;34m'fine-tune'\u001b[0m\u001b[1;33m)\u001b[0m\u001b[1;33m\u001b[0m\u001b[1;33m\u001b[0m\u001b[0m\n\u001b[0;32m      6\u001b[0m \u001b[1;33m\u001b[0m\u001b[0m\n",
      "\u001b[1;32mc:\\python\\lib\\site-packages\\openai\\lib\\_old_api.py\u001b[0m in \u001b[0;36m__call__\u001b[1;34m(self, *_args, **_kwargs)\u001b[0m\n",
      "\u001b[1;31mAPIRemovedInV1\u001b[0m: \n\nYou tried to access openai.File, but this is no longer supported in openai>=1.0.0 - see the README at https://github.com/openai/openai-python for the API.\n\nYou can run `openai migrate` to automatically upgrade your codebase to use the 1.0.0 interface. \n\nAlternatively, you can pin your installation to the old version, e.g. `pip install openai==0.28`\n\nA detailed migration guide is available here: https://github.com/openai/openai-python/discussions/742\n"
     ]
    }
   ],
   "source": [
    "synthetic_queries_df = pd.read_csv('synthetic_queries.csv')\n",
    "\n",
    "# Upload and prepare the training file\n",
    "train_file = openai.File.create(file=open('fine_tune_train_data.jsonl'), purpose='fine-tune')\n",
    "val_file = openai.File.create(file=open('fine_tune_val_data.jsonl'), purpose='fine-tune')\n",
    "\n",
    "# Check if the files are prepared\n",
    "train_file_id = train_file['id']\n",
    "val_file_id = val_file['id']"
   ]
  },
  {
   "cell_type": "code",
   "execution_count": null,
   "metadata": {},
   "outputs": [],
   "source": [
    "fine_tune = openai.FineTune.create(\n",
    "    training_file=train_file_id,\n",
    "    validation_file=val_file_id,\n",
    "    model=\"davinci\"  # or \"curie\" for a smaller model\n",
    ")\n",
    "\n",
    "# Monitor the fine-tuning job\n",
    "fine_tune_id = fine_tune['id']\n",
    "\n",
    "# Wait for fine-tuning to complete\n",
    "status = openai.FineTune.retrieve(fine_tune_id)['status']\n",
    "while status not in ['succeeded', 'failed']:\n",
    "    fine_tune = openai.FineTune.retrieve(fine_tune_id)\n",
    "    status = fine_tune['status']\n",
    "    print(f\"Status: {status}\")\n",
    "    if status == 'succeeded':\n",
    "        print(\"Fine-tuning succeeded\")\n",
    "    elif status == 'failed':\n",
    "        print(\"Fine-tuning failed\")\n",
    "    else:\n",
    "        import time\n",
    "        time.sleep(60)  # Wait for 1 minute before checking again"
   ]
  },
  {
   "cell_type": "code",
   "execution_count": null,
   "metadata": {},
   "outputs": [],
   "source": [
    "# Example usage\n",
    "query = \"What is the info for park YS?\"\n",
    "api_call = handle_query(query)\n",
    "print(api_call)"
   ]
  },
  {
   "cell_type": "markdown",
   "metadata": {},
   "source": []
  }
 ],
 "metadata": {
  "kernelspec": {
   "display_name": "Python 3",
   "language": "python",
   "name": "python3"
  },
  "language_info": {
   "codemirror_mode": {
    "name": "ipython",
    "version": 3
   },
   "file_extension": ".py",
   "mimetype": "text/x-python",
   "name": "python",
   "nbconvert_exporter": "python",
   "pygments_lexer": "ipython3",
   "version": "3.7.1"
  }
 },
 "nbformat": 4,
 "nbformat_minor": 2
}
