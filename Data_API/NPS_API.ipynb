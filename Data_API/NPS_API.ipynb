{
 "cells": [
  {
   "cell_type": "code",
   "execution_count": 1,
   "metadata": {},
   "outputs": [],
   "source": [
    "import requests\n",
    "import pandas as pd "
   ]
  },
  {
   "cell_type": "code",
   "execution_count": null,
   "metadata": {},
   "outputs": [],
   "source": [
    "#To set up NPS API key visit https://www.nps.gov/subjects/developer/get-started.htm\n",
    "api_key = 'your_API_key'\n",
    "api_key = '8CFbllXlU2VsguG3OeTcuUcwv8Nht62pNBs90jMV'"
   ]
  },
  {
   "cell_type": "code",
   "execution_count": null,
   "metadata": {},
   "outputs": [],
   "source": [
    "'''\n",
    "Each API request contains:\n",
    "Resource Endpoint\n",
    "Query String Parameters\n",
    "HTTP Request Header with an API Key\n",
    "For example, consider the following URL:\n",
    "https://developer.nps.gov/api/v1/alerts?parkCode=acad,dena\n",
    "\n",
    "In the above request, two of the three necessary components are represented.\n",
    "Resource Endpoint - https://developer.nps.gov/api/v1/alerts\n",
    "Query String Parameters - parkCode=acad,dena\n",
    "However, just pasting that URL in a browser address bar won't return any results as you also need to send your API key in the HTTP request header. \n",
    "In order to learn more about that, be sure to read the API Guides page about authentication. \n",
    "Also, test out queries and learn more about the API in the API Documentation section of this website.\n",
    "\n",
    "Good luck with your programming project and thanks for using NPS data.\n",
    "'''"
   ]
  },
  {
   "cell_type": "code",
   "execution_count": null,
   "metadata": {},
   "outputs": [],
   "source": [
    "#formating for requests\n",
    "url = 'api_url'\n",
    "r = requests.get(url)\n",
    "txt = r.json()\n",
    "df = pd.DataFrame(txt['response']['data']) #example - ammend to fit returned data structure"
   ]
  }
 ],
 "metadata": {
  "kernelspec": {
   "display_name": "Python 3",
   "language": "python",
   "name": "python3"
  },
  "language_info": {
   "codemirror_mode": {
    "name": "ipython",
    "version": 3
   },
   "file_extension": ".py",
   "mimetype": "text/x-python",
   "name": "python",
   "nbconvert_exporter": "python",
   "pygments_lexer": "ipython3",
   "version": "3.11.8"
  }
 },
 "nbformat": 4,
 "nbformat_minor": 2
}
