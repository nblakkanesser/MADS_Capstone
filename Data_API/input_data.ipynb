{
 "cells": [
  {
   "cell_type": "markdown",
   "metadata": {},
   "source": [
    "#### Define Imports"
   ]
  },
  {
   "cell_type": "code",
   "execution_count": 93,
   "metadata": {},
   "outputs": [],
   "source": [
    "import requests\n",
    "import pandas as pd \n",
    "import random\n",
    "from sklearn.model_selection import train_test_split\n",
    "import json\n",
    "import sys\n",
    "\n",
    "from helper_functions import *\n",
    "state_model, state_vectorizer = state_code_model.trained_model()\n",
    "park_model, park_vectorizer = park_code_model.trained_model()\n",
    "\n",
    "sys.path.insert(0,'../')\n",
    "from environment import env"
   ]
  },
  {
   "cell_type": "markdown",
   "metadata": {},
   "source": [
    "#### Define Variables"
   ]
  },
  {
   "cell_type": "code",
   "execution_count": 94,
   "metadata": {},
   "outputs": [],
   "source": [
    "config = env.env()\n",
    "api_key = config['nps_api_key']\n",
    "api_base_url = 'https://developer.nps.gov/api/v1/'\n",
    "park_sample = 25"
   ]
  },
  {
   "cell_type": "markdown",
   "metadata": {},
   "source": [
    "#### Define Functions"
   ]
  },
  {
   "cell_type": "code",
   "execution_count": 95,
   "metadata": {},
   "outputs": [],
   "source": [
    "def get_parks(params):\n",
    "    \"\"\"\n",
    "    Use to find a list of all park names, codes, states, addresses and descriptions from the NPS parks endpoint.\n",
    "    Can also be used to find specific park information.\n",
    "    *Chat GPT was used to create the pagination process for the API\n",
    "\n",
    "    params: The param dict to pass through the API call\n",
    "    \"\"\"\n",
    "    parks = []\n",
    "    limit = 50  # Number of results per page, maximum allowed by NPS API\n",
    "    start = 0   # Initial starting point for pagination\n",
    "    \n",
    "    while True:\n",
    "        params['limit'] = limit\n",
    "        params['start'] =  start\n",
    "        \n",
    "        response = requests.get(f\"{api_base_url}parks\", params=params)\n",
    "        data = response.json()\n",
    "        \n",
    "        parks.extend([\n",
    "            {\n",
    "                'fullName': park['fullName'],\n",
    "                'parkCode': park['parkCode'],\n",
    "                'state': park['states'],\n",
    "                'addresses': park.get('addresses', []),\n",
    "                'description': park['description']\n",
    "            } for park in data['data']\n",
    "        ])\n",
    "        \n",
    "        # Move to the next page\n",
    "        start += limit\n",
    "        \n",
    "        # Break the loop if all parks have been retrieved\n",
    "        if int(start) >= int(data['total']):\n",
    "            break\n",
    "    \n",
    "    return parks"
   ]
  },
  {
   "cell_type": "code",
   "execution_count": 96,
   "metadata": {},
   "outputs": [],
   "source": [
    "def get_basic(endpoint, params):\n",
    "    \"\"\"\n",
    "    Use to get all data from endpoint without specific processing\n",
    "\n",
    "    endpoint: The API endpoint to call\n",
    "    params: The param dict to pass through the API call\n",
    "    \"\"\"\n",
    "    responses = []\n",
    "    limit = 50  # Number of results per page, maximum allowed by NPS API\n",
    "    start = 0   # Initial starting point for pagination\n",
    "    \n",
    "    while True:\n",
    "        params['limit'] = limit\n",
    "        params['start'] =  start\n",
    "        \n",
    "        request = requests.get(f\"{api_base_url}{endpoint}\", params=params)\n",
    "        request_data = request.json()\n",
    "\n",
    "        for record in request_data['data']:\n",
    "            responses.extend([record])\n",
    "        \n",
    "        # Move to the next page\n",
    "        start += limit\n",
    "        \n",
    "        # Break the loop if all responses have been retrieved\n",
    "        if int(start) >= int(request_data['total']):\n",
    "            break\n",
    "\n",
    "    return responses"
   ]
  },
  {
   "cell_type": "code",
   "execution_count": 97,
   "metadata": {},
   "outputs": [],
   "source": [
    "def get_info(api_key, entities, endpoint, intent, queries, response_call=0):\n",
    "    \"\"\"\n",
    "    Creates synthetic data in the necessary format for a specified API call.\n",
    "\n",
    "    api_key: Personal API key to use in request.\n",
    "    entities: List of items to loop through such as State, Parks, Amentities.\n",
    "    endpoint: the NPS API endpoint to call such as /activities or /parks.\n",
    "    intent: General label for queries in a particular group. \n",
    "            For example, the questions \"Tell me about {park}\" and \"I want to know more about {park}\" could both be categorized with the label \"GetParkInfo\".\n",
    "    queries: A list of queries you would like to associate with a given set of API calls.\n",
    "    response_call: Pass through the function name that should be used to intiate the API call. The results will be recorded in the response column of the dataset in list format.\n",
    "    \"\"\"\n",
    "    dataset = []\n",
    "    for entity in entities:\n",
    "        for query in queries:\n",
    "            # Create API parameters \n",
    "            params = {'api_key': api_key,\n",
    "                    \"parkCode\": park_code_model.map_park_code(query.format(entity=entity), park_model, park_vectorizer)\n",
    "            }\n",
    "                \n",
    "            # Set response function to use\n",
    "            if response_call == 0:\n",
    "                response = \"\"\n",
    "            elif intent == \"ParkInfo\":\n",
    "                response = get_parks(params)\n",
    "            else: \n",
    "                response = get_basic(endpoint, params)\n",
    "\n",
    "            dataset.append({\n",
    "                \"query\": query.format(entity=entity),\n",
    "                \"intent\": intent,\n",
    "                \"api_call\": {\n",
    "                    \"endpoint\": endpoint,\n",
    "                    \"parkCode\": params[\"parkCode\"]\n",
    "                },\n",
    "                \"response\":response\n",
    "            })\n",
    "\n",
    "    synthetic_queries = pd.json_normalize(dataset)\n",
    "    return synthetic_queries\n"
   ]
  },
  {
   "cell_type": "markdown",
   "metadata": {},
   "source": [
    "#### Create Synthetic Data"
   ]
  },
  {
   "cell_type": "code",
   "execution_count": 99,
   "metadata": {},
   "outputs": [],
   "source": [
    "# list of parks\n",
    "parks_df = pd.DataFrame(get_parks({'api_key': api_key}))\n",
    "parks = parks_df['fullName'].tolist()\n",
    "park_codes = parks_df['parkCode'].tolist()\n",
    "park_roots = nps_parks_root.nps_parks_root()\n",
    "\n",
    "park_lookup = dict(zip(parks, park_codes))\n",
    "root_dict = dict(zip(parks, park_roots))"
   ]
  },
  {
   "cell_type": "code",
   "execution_count": 108,
   "metadata": {},
   "outputs": [],
   "source": [
    "# Parks combined is the combination of two lists: The full park names and estimated park name abbreviations that users might use (i.e. Acadia National Park vs Acadia)\n",
    "parks_sampled = random.sample(parks, park_sample)\n",
    "roots = [root_dict[park] for park in parks_sampled]\n",
    "parks_combined = roots+parks_sampled"
   ]
  },
  {
   "cell_type": "code",
   "execution_count": 109,
   "metadata": {},
   "outputs": [],
   "source": [
    "# parks_combined = ['Olympic National Park',\n",
    "#                 'Pullman National Historical Park',\n",
    "#                 'Acadia National Park',\n",
    "#                 'Yosemite National Park'\n",
    "#                 'Harpers Ferry National Historical Park',\n",
    "#                 'Zion National Park']"
   ]
  },
  {
   "cell_type": "code",
   "execution_count": 110,
   "metadata": {},
   "outputs": [],
   "source": [
    "queries = [\n",
    "    \"Tell me about {entity}\",\"What is the full name of {entity}?\",\"What is the address of {entity}?\",\"Which state is {entity} located in?\",\"Give me a description of {entity}\",\n",
    "    \"Where is {entity} located?\",\"Can you provide the full name of {entity}?\",\"What is the location of {entity}?\",\"Tell me the address of {entity}\",\n",
    "    \"In which state can I find {entity}?\",\"Describe {entity} to me\"\n",
    "]\n",
    "ParkInfo = get_info(api_key, entities = parks_combined, endpoint = \"parks\", intent = \"ParkInfo\", queries = queries, response_call = 0)\n",
    "\n",
    "\n",
    "\n",
    "queries = [\n",
    "    \"What activities can I do at {entity}?\",\"Tell me about the activities available at {entity}\",\"What can I do at {entity}?\",\"List the activities at {entity}\",\n",
    "    \"What recreational activities are offered at {entity}?\",\"What outdoor activities can I enjoy at {entity}?\",\"What kind of activities are there at {entity}?\",\n",
    "    \"What are the top activities at {entity}?\",\"What fun things can I do at {entity}?\",\"What activities are recommended at {entity}?\"\n",
    "]\n",
    "ParkActivities = get_info(api_key, entities = parks_combined, endpoint = \"activities\", intent = \"ParkActivities\", queries = queries, response_call = 0)\n",
    "\n",
    "queries = [\n",
    "    \"What alerts are active at {entity} currently?\",\"Are there any current alerts at {entity}?\",\"Tell me the active alerts at {entity}\",\"What are the current alerts for {entity}?\",\n",
    "    \"Which alerts are active in {entity} right now?\",\"List the active alerts at {entity}\",\"Are there any alerts at {entity}?\",\"What are the present alerts for {entity}?\",\n",
    "    \"Can you provide the active alerts for {entity}?\",\"What are the ongoing alerts at {entity}?\"\n",
    "]\n",
    "ParkAlerts = get_info(api_key, entities = parks_combined, endpoint = \"alerts\", intent = \"ParkAlerts\", queries = queries, response_call = 0)\n",
    "\n",
    "queries = [\n",
    "    \"What amenities exist at {entity}?\",\"Tell me about the amenities at {entity}\",\"What facilities are available at {entity}?\",\"List the amenities at {entity}\",\n",
    "    \"What kind of amenities can I find at {entity}?\",\"What services and facilities does {entity} offer?\",\"What amenities should I expect at {entity}?\",\n",
    "    \"What conveniences are available at {entity}?\",\"What amenities does {entity} have?\",\"What facilities are provided at {entity}?\"\n",
    "]\n",
    "ParkAmenities = get_info(api_key, entities = parks_combined, endpoint = \"amenities\", intent = \"ParkAmenities\", queries = queries, response_call = 0)\n",
    "\n",
    "queries = [\"What events are happening at {entity}?\",\"Tell me about the events at {entity}\",\"What upcoming events are scheduled at {entity}?\",\n",
    "    \"Are there any events at {entity}?\",\"What kind of events are held at {entity}?\",\"What events can I attend at {entity}?\",\n",
    "    \"Are there any special events at {entity}?\",\"What events are planned at {entity}?\",\"What events are currently happening at {entity}?\",\"What activities and events are there at {entity}?\"\n",
    "]\n",
    "ParkEvents = get_info(api_key, entities = parks_combined, endpoint = \"events\", intent = \"ParkEvents\", queries = queries, response_call = 0)\n",
    "\n",
    "queries = [\n",
    "    \"How much does it cost to get into {entity}?\",\"What is the entry fee for {entity}?\", \"Tell me about the entrance fees for {entity}\",\n",
    "    \"What are the admission fees for {entity}?\",\"Are there any fees to visit {entity}?\",\"What is the cost of admission to {entity}?\",\n",
    "    \"How expensive is it to visit {entity}?\",\"What are the ticket prices for {entity}?\",\"Do I need to pay to enter {entity}?\",\"Are there any charges to access {entity}?\"\n",
    "]\n",
    "ParkFees = get_info(api_key, entities = parks_combined, endpoint = \"feespasses\", intent = \"ParkFees\", queries = queries, response_call = 0)\n",
    "\n",
    "queries =  [\n",
    "    \"Where can I park at {entity}?\",\"Tell me about parking options at {entity}\",\"What are the parking facilities like at {entity}?\",\"Where should I park when visiting {entity}?\",\n",
    "    \"What parking areas are available at {entity}?\",\"Is there parking available at {entity}?\",\"How is parking managed at {entity}?\",\"Can I find parking near {entity}?\",\n",
    "    \"Are there designated parking lots at {entity}?\",\"What are the parking arrangements at {entity}?\"\n",
    "]\n",
    "ParkParkingLots = get_info(api_key, entities = parks_combined, endpoint = \"parkinglots\", intent = \"ParkParkingLots\", queries = queries, response_call = 0)\n",
    "\n",
    "queries = [\"What things can I do at {entity}?\",\"Tell me about attractions at {entity}\",\"What are the attractions at {entity}?\",\n",
    "    \"What are the main attractions of {entity}?\",\"What are the highlights of {entity}?\",\"What can I see and do at {entity}?\",\n",
    "    \"What are the recreational opportunities at {entity}?\",\"What are the popular things to do at {entity}?\",\n",
    "    \"What experiences are available at {entity}?\",\"What is there to do {entity}?\"]\n",
    "ParkThingsToDo = get_info(api_key, entities = parks_combined, endpoint = \"thingstodo\", intent = \"ParkThingsToDo\", queries = queries, response_call = 0)\n",
    "\n",
    "queries = [\"What tours can I take at {entity}?\",\"Tell me about guided tours at {entity}\",\"Are there any guided tours available at {entity}?\",\"What guided experiences are offered at {entity}?\",\n",
    "    \"Can I join any tours at {entity}?\",\"What kind of guided tours are available at {entity}?\",\"Are there ranger-led tours at {entity}?\",\n",
    "    \"What are the tour options at {entity}?\",\"How can I book a tour at {entity}?\",\"Are there any special tours or programs at {entity}?\"]\n",
    "ParkTours = get_info(api_key, entities = parks_combined, endpoint = \"tours\", intent = \"ParkTours\", queries = queries, response_call = 0)\n",
    "\n",
    "queries = [\"Where are the visitor centers located at {entity}?\",\"Tell me about visitor centers at {entity}\",\"What visitor centers can I find at {entity}?\",\n",
    "    \"Are there any visitor centers at {entity}?\",\"Where can I find information centers at {entity}?\",\"What are the visitor facilities like at {entity}?\",\"Can you guide me to the visitor centers at {entity}?\",\n",
    "    \"How many visitor centers are there at {entity}?\",\"What services do the visitor centers offer at {entity}?\",\"Are the visitor centers at {entity} open to the public?\"]\n",
    "ParkVisitorCenters = get_info(api_key, entities = parks_combined, endpoint = \"visitorcenters\", intent = \"ParkVisitorCenters\", queries = queries, response_call = 0)"
   ]
  },
  {
   "cell_type": "code",
   "execution_count": 111,
   "metadata": {},
   "outputs": [],
   "source": [
    "synthetic_queries_df = pd.concat([ParkInfo, ParkActivities, ParkAlerts, ParkAmenities, ParkEvents, ParkFees], axis=0, ignore_index=True)#ParkParkingLots, ParkThingsToDo, ParkTours, ParkVisitorCenters\n"
   ]
  },
  {
   "cell_type": "markdown",
   "metadata": {},
   "source": [
    "#### Write Outputs"
   ]
  },
  {
   "cell_type": "code",
   "execution_count": 122,
   "metadata": {},
   "outputs": [],
   "source": [
    "synthetic_queries_df.to_csv('synthetic_queries.csv', index=False)\n",
    "parks_df[['fullName','parkCode']].to_csv('park_to_parkcode.csv', index=False)\n",
    "pd.DataFrame(list(root_dict.items()), columns=['fullName', 'parkRoot']).to_csv('park_to_root.csv', index=False)"
   ]
  },
  {
   "cell_type": "markdown",
   "metadata": {},
   "source": [
    "#### Development"
   ]
  },
  {
   "cell_type": "code",
   "execution_count": 63,
   "metadata": {},
   "outputs": [],
   "source": [
    "def create_prompt_response(row):\n",
    "    \"\"\"\n",
    "    Parses the synthetic data into GPT format\n",
    "    \"\"\"\n",
    "    dict = {\n",
    "        \"messages\": [\n",
    "            {\n",
    "            \"role\": \"system\",\n",
    "            \"content\": \"Given a user query, provide the following fields in a JSON dict, where applicable: \\\"endpoint\\\", \\\"parkcode\\\".\"\n",
    "            },\n",
    "            {\n",
    "                \"role\": \"user\",\n",
    "                \"content\": f\"{row['query']}\"\n",
    "            },\n",
    "            {\n",
    "                \"role\": \"assistant\",\n",
    "                \"content\": f\"{{\\\"endpoint\\\": \\\"{row['api_call.endpoint']}\\\", \\\"parkcode\\\": \\\"{row['api_call.parkCode']}\\\"}}\"\n",
    "            }\n",
    "        ]\n",
    "    }\n",
    "    return dict"
   ]
  },
  {
   "cell_type": "code",
   "execution_count": 14,
   "metadata": {},
   "outputs": [],
   "source": [
    "def create_prompt_response(row):\n",
    "    \"\"\"\n",
    "    Parses the synthetic data into GPT format\n",
    "    \"\"\"\n",
    "    dict = {'prompt': row['query'],\n",
    "            'completion':f\"endpoint: {row['api_call.endpoint']}, parkcode: {row['api_call.parkCode']}\"}\n",
    "    return dict"
   ]
  },
  {
   "cell_type": "code",
   "execution_count": null,
   "metadata": {},
   "outputs": [],
   "source": [
    "def create_prompt_response(row):\n",
    "    \"\"\"\n",
    "    Parses the synthetic data into GPT format\n",
    "    \"\"\"\n",
    "    dict = {\"messages\": [\n",
    "        { \"role\": \"user\", \"content\": row['query'] },\n",
    "        {\n",
    "        \"role\": \"assistant\",\n",
    "        \"tool_calls\": [\n",
    "            {\n",
    "            \"id\": \"call_id\",\n",
    "            \"type\": \"function\",\n",
    "            \"function\": {\n",
    "                \"name\": \"call_endpoint\",\n",
    "                \"arguments\": {\"endpoint\": row['api_call.endpoint'],\"parkcode\":row['api_call.parkCode']}\n",
    "            }\n",
    "            }\n",
    "        ]\n",
    "        }\n",
    "    ],\n",
    "    \"parallel_tool_calls\": False,\n",
    "    \"tools\": [\n",
    "        {\n",
    "        \"type\": \"function\",\n",
    "        \"function\": {\n",
    "            \"name\": \"call_endpoint\",\n",
    "            \"description\": \"Make API call\",\n",
    "            \"parameters\": {\n",
    "            \"type\": \"object\",\n",
    "            \"properties\": {\n",
    "                \"endpoint\": {\n",
    "                    \"type\": \"string\",\n",
    "                    \"description\": \"The endpoint to call\"\n",
    "                },\n",
    "                \"parkcode\": { \"type\": \"string\", \"description\": \"The parkcode parameter to filter for\" }\n",
    "            },\n",
    "            \"required\": [\"endpoint\", \"parkcode\"]\n",
    "            } \n",
    "        }\n",
    "        }\n",
    "    ]\n",
    "    }\n",
    "    return dict"
   ]
  },
  {
   "cell_type": "code",
   "execution_count": 187,
   "metadata": {},
   "outputs": [
    {
     "data": {
      "text/plain": [
       "[{'id': '09DF0950-D319-4557-A57E-04CD2F63FF42', 'name': 'Arts and Culture'},\n",
       " {'id': '13A57703-BB1A-41A2-94B8-53B692EB7238', 'name': 'Astronomy'},\n",
       " {'id': '7CE6E935-F839-4FEC-A63E-052B1DEF39D2', 'name': 'Biking'},\n",
       " {'id': '071BA73C-1D3C-46D4-A53C-00D5602F7F0E', 'name': 'Boating'},\n",
       " {'id': 'A59947B7-3376-49B4-AD02-C0423E08C5F7', 'name': 'Camping'},\n",
       " {'id': 'B12FAAB9-713F-4B38-83E4-A273F5A43C77', 'name': 'Climbing'},\n",
       " {'id': 'C11D3746-5063-4BD0-B245-7178D1AD866C', 'name': 'Compass and GPS'},\n",
       " {'id': 'AE42B46C-E4B7-4889-A122-08FE180371AE', 'name': 'Fishing'},\n",
       " {'id': '1DFACD97-1B9C-4F5A-80F2-05593604799E', 'name': 'Food'},\n",
       " {'id': 'B33DC9B6-0B7D-4322-BAD7-A13A34C584A3', 'name': 'Guided Tours'},\n",
       " {'id': '42FD78B9-2B90-4AA9-BC43-F10E9FEA8B5A', 'name': 'Hands-On'},\n",
       " {'id': 'BFF8C027-7C8F-480B-A5F8-CD8CE490BFBA', 'name': 'Hiking'},\n",
       " {'id': '0307955A-B65C-4CE4-A780-EB36BAAADF0B', 'name': 'Horse Trekking'},\n",
       " {'id': '5FF5B286-E9C3-430E-B612-3380D8138600', 'name': 'Ice Skating'},\n",
       " {'id': 'DF4A35E0-7983-4A3E-BC47-F37B872B0F25',\n",
       "  'name': 'Junior Ranger Program'},\n",
       " {'id': '4D224BCA-C127-408B-AC75-A51563C42411', 'name': 'Paddling'},\n",
       " {'id': '0C0D142F-06B5-4BE1-8B44-491B90F93DEB', 'name': 'Park Film'},\n",
       " {'id': '24380E3F-AD9D-4E38-BF13-C8EEB21893E7', 'name': 'Shopping'},\n",
       " {'id': 'F9B1D433-6B86-4804-AED7-B50A519A3B7C', 'name': 'Skiing'},\n",
       " {'id': 'C38B3C62-1BBF-4EA1-A1A2-35DE21B74C17', 'name': 'Snow Play'},\n",
       " {'id': '7C912B83-1B1B-4807-9B66-97C12211E48E', 'name': 'Snowmobiling'},\n",
       " {'id': '01D717BC-18BB-4FE4-95BA-6B13AD702038', 'name': 'Snowshoeing'},\n",
       " {'id': '587BB2D3-EC35-41B2-B3F7-A39E2B088AEE', 'name': 'Swimming'},\n",
       " {'id': '0B685688-3405-4E2A-ABBA-E3069492EC50', 'name': 'Wildlife Watching'}]"
      ]
     },
     "execution_count": 187,
     "metadata": {},
     "output_type": "execute_result"
    }
   ],
   "source": [
    "# endpoint = 'activities'\n",
    "# park = 'acad'\n",
    "# params = {'api_key': api_key,\n",
    "#         'parkCode': park\n",
    "#                 }\n",
    "# test = get_basic(endpoint, params)\n",
    "# test"
   ]
  },
  {
   "cell_type": "markdown",
   "metadata": {},
   "source": []
  }
 ],
 "metadata": {
  "kernelspec": {
   "display_name": "Python 3",
   "language": "python",
   "name": "python3"
  },
  "language_info": {
   "codemirror_mode": {
    "name": "ipython",
    "version": 3
   },
   "file_extension": ".py",
   "mimetype": "text/x-python",
   "name": "python",
   "nbconvert_exporter": "python",
   "pygments_lexer": "ipython3",
   "version": "3.7.1"
  }
 },
 "nbformat": 4,
 "nbformat_minor": 2
}
