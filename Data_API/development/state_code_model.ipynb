{
 "cells": [
  {
   "cell_type": "markdown",
   "metadata": {},
   "source": [
    "#### Define Imports"
   ]
  },
  {
   "cell_type": "code",
   "execution_count": null,
   "metadata": {},
   "outputs": [],
   "source": [
    "import requests\n",
    "import pandas as pd \n",
    "import random\n",
    "from sklearn.feature_extraction.text import TfidfVectorizer\n",
    "from sklearn.model_selection import train_test_split\n",
    "from sklearn.linear_model import LogisticRegression\n",
    "from sklearn.metrics import accuracy_score\n"
   ]
  },
  {
   "cell_type": "markdown",
   "metadata": {},
   "source": [
    "#### Define Functions"
   ]
  },
  {
   "cell_type": "code",
   "execution_count": null,
   "metadata": {},
   "outputs": [],
   "source": [
    "def generate_synthetic_states(raw_queries,state_codes,state_names,state_abbreviations):\n",
    "    \"\"\"\n",
    "    Creates synthetic query data that will be used as training data for a model that identifies the state being asked about in a query.\n",
    "\n",
    "    raw_queries: List of queries to loop through and create data for.\n",
    "    state_codes: State codes associated with the state name.\n",
    "    state_names: List of states to create the queries for.\n",
    "    state_abbreviations: List of state abbreviations to create the queries for.\n",
    "    \"\"\"\n",
    "    queries = []\n",
    "    query_state = []\n",
    "    query_state_code = []\n",
    "    for state_name, state_code, state_abbreviation in zip(state_names, state_codes, state_abbreviations):\n",
    "        for query in raw_queries:\n",
    "            output = query.format(entity=state_name)\n",
    "            queries.append(output)\n",
    "            query_state.append(state_name)\n",
    "            query_state_code.append(state_code)\n",
    "\n",
    "            output = query.format(entity=state_abbreviation)\n",
    "            queries.append(output)\n",
    "            query_state.append(state_abbreviation)\n",
    "            query_state_code.append(state_code)\n",
    "        \n",
    "    data = {\n",
    "    'query': queries,\n",
    "    'state_name': query_state,\n",
    "    'state_code': query_state_code\n",
    "    }\n",
    "\n",
    "    return data\n"
   ]
  },
  {
   "cell_type": "code",
   "execution_count": null,
   "metadata": {},
   "outputs": [],
   "source": [
    "def map_state_code(user_input, model, vectorizer):\n",
    "    \"\"\"\n",
    "    Map user input to the correct state code using the trained model.\n",
    "\n",
    "    user_input: The query provided by the user.\n",
    "    model: Trained classification model.\n",
    "    vectorizer: Fitted vectorizer for text processing.\n",
    "    \"\"\"\n",
    "    # Transform the user input\n",
    "    user_input_vectorized = vectorizer.transform([user_input])\n",
    "    \n",
    "    # Predict the state code\n",
    "    predicted_state_code = model.predict(user_input_vectorized)[0]\n",
    "    \n",
    "    return predicted_state_code"
   ]
  },
  {
   "cell_type": "code",
   "execution_count": null,
   "metadata": {},
   "outputs": [],
   "source": [
    "def train_model(synthetic_state_data):\n",
    "    # Vectorize the text data\n",
    "    vectorizer = TfidfVectorizer()\n",
    "    X = vectorizer.fit_transform(synthetic_state_data['query'])\n",
    "    y = synthetic_state_data['state_code']\n",
    "\n",
    "    # Split the data\n",
    "    X_train, X_test, y_train, y_test = train_test_split(X, y, test_size=0.2, random_state=42)\n",
    "\n",
    "    # Train a logistic regression model\n",
    "    model = LogisticRegression()\n",
    "    model.fit(X_train, y_train)\n",
    "\n",
    "    return model, vectorizer"
   ]
  },
  {
   "cell_type": "markdown",
   "metadata": {},
   "source": [
    "#### Define Variables"
   ]
  },
  {
   "cell_type": "code",
   "execution_count": null,
   "metadata": {},
   "outputs": [],
   "source": [
    "raw_queries = ['Which parks are in {entity}?', \n",
    "    'Parks in {entity}', \n",
    "    'Find parks in {entity}', \n",
    "    '{entity} parks',\n",
    "    'List parks in {entity}',\n",
    "    'What parks can I visit in {entity}?',\n",
    "    'Show me parks located in {entity}',\n",
    "    'Explore {entity} parks',\n",
    "    'Are there any parks around {entity}?',\n",
    "    'Tell me about the parks near {entity}',\n",
    "    'Show parks within {entity}',\n",
    "    'Which national parks are near {entity}?',\n",
    "    'Locate parks in {entity}',\n",
    "    'What are the top parks in {entity}?',\n",
    "    'Give me information about {entity} parks',\n",
    "    'Search for parks near {entity}',\n",
    "    'Find national parks in {entity}',\n",
    "    'What are the names of parks in {entity}?',\n",
    "    'I want to know about parks around {entity}',\n",
    "    'Which parks are in {entity}?', \n",
    "    'Parks in {entity}', \n",
    "    'Find parks in {entity}', \n",
    "    '{entity} parks',\n",
    "    'List parks in {entity}',\n",
    "    'What parks can I visit in {entity}?',\n",
    "    'Show me parks located in {entity}',\n",
    "    'Explore {entity} parks',\n",
    "    'Are there any parks around {entity}?',\n",
    "    'Tell me about the parks near {entity}',\n",
    "    'Show parks within {entity}',\n",
    "    'Which national parks are near {entity}?',\n",
    "    'Locate parks in {entity}',\n",
    "    'What are the top parks in {entity}?',\n",
    "    'Give me information about {entity} parks',\n",
    "    'Search for parks near {entity}',\n",
    "    'Find national parks in {entity}',\n",
    "    'What are the names of parks in {entity}?',\n",
    "    'I want to know about parks around {entity}',\n",
    "    'Are there any good parks near {entity}?']\n",
    "\n",
    "state_codes = [\"AL\", \"AK\", \"AZ\", \"AR\", \"CA\", \"CO\", \"CT\", \"DE\", \"FL\", \"GA\",\n",
    "                \"HI\", \"ID\", \"IL\", \"IN\", \"IA\", \"KS\", \"KY\", \"LA\", \"ME\", \"MD\",\n",
    "                \"MA\", \"MI\", \"MN\", \"MS\", \"MO\", \"MT\", \"NE\", \"NV\", \"NH\", \"NJ\",\n",
    "                \"NM\", \"NY\", \"NC\", \"ND\", \"OH\", \"OK\", \"OR\", \"PA\", \"RI\", \"SC\",\n",
    "                \"SD\", \"TN\", \"TX\", \"UT\", \"VT\", \"VA\", \"WA\", \"WV\", \"WI\", \"WY\"]\n",
    "state_names = [\"Alabama\", \"Alaska\", \"Arizona\", \"Arkansas\", \"California\", \"Colorado\", \n",
    "                \"Connecticut\", \"Delaware\", \"Florida\", \"Georgia\", \"Hawaii\", \"Idaho\", \n",
    "                \"Illinois\", \"Indiana\", \"Iowa\", \"Kansas\", \"Kentucky\", \"Louisiana\", \n",
    "                \"Maine\", \"Maryland\", \"Massachusetts\", \"Michigan\", \"Minnesota\", \n",
    "                \"Mississippi\", \"Missouri\", \"Montana\", \"Nebraska\", \"Nevada\", \n",
    "                \"New Hampshire\", \"New Jersey\", \"New Mexico\", \"New York\", \n",
    "                \"North Carolina\", \"North Dakota\", \"Ohio\", \"Oklahoma\", \"Oregon\", \n",
    "                \"Pennsylvania\", \"Rhode Island\", \"South Carolina\", \"South Dakota\", \n",
    "                \"Tennessee\", \"Texas\", \"Utah\", \"Vermont\", \"Virginia\", \"Washington\", \n",
    "                \"West Virginia\", \"Wisconsin\", \"Wyoming\"]\n",
    "state_abbreviations = [\"Ala.\", \"Alaska\", \"Ariz.\", \"Ark.\", \"Calif.\", \"Colo.\", \n",
    "                        \"Conn.\", \"Del.\", \"Fla.\", \"Ga.\", \"Hawaii\", \"Idaho\", \"Ill.\", \n",
    "                        \"Ind.\", \"Iowa\", \"Kan.\", \"Ky.\", \"La.\", \"Maine\", \"Md.\", \n",
    "                        \"Mass.\", \"Mich.\", \"Minn.\", \"Miss.\", \"Mo.\", \"Mont.\", \"Neb.\", \n",
    "                        \"Nev.\", \"N.H.\", \"N.J.\", \"N.M.\", \"N.Y.\", \"N.C.\", \"N.D.\", \n",
    "                        \"Ohio\", \"Okla.\", \"Ore.\", \"Pa.\", \"R.I.\", \"S.C.\", \"S.D.\", \n",
    "                        \"Tenn.\", \"Tex.\", \"Utah\", \"Vt.\", \"Va.\", \"Wash.\", \"W.Va.\", \n",
    "                        \"Wis.\", \"Wyo.\"]"
   ]
  },
  {
   "cell_type": "code",
   "execution_count": null,
   "metadata": {},
   "outputs": [],
   "source": [
    "def trained_model():\n",
    "    synthetic_state_data = generate_synthetic_states(raw_queries,state_codes,state_names,state_abbreviations)\n",
    "    model, vectorizer = train_model(synthetic_state_data)\n",
    "    return model, vectorizer"
   ]
  }
 ],
 "metadata": {
  "kernelspec": {
   "display_name": "Python 3",
   "language": "python",
   "name": "python3"
  },
  "language_info": {
   "codemirror_mode": {
    "name": "ipython",
    "version": 3
   },
   "file_extension": ".py",
   "mimetype": "text/x-python",
   "name": "python",
   "nbconvert_exporter": "python",
   "pygments_lexer": "ipython3",
   "version": "3.7.1"
  }
 },
 "nbformat": 4,
 "nbformat_minor": 2
}
