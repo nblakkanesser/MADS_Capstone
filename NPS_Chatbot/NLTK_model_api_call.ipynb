{
 "cells": [
  {
   "cell_type": "code",
   "execution_count": 16,
   "metadata": {},
   "outputs": [
    {
     "name": "stdout",
     "output_type": "stream",
     "text": [
      "Preprocessed query: state yosemite\n",
      "None\n"
     ]
    },
    {
     "name": "stderr",
     "output_type": "stream",
     "text": [
      "[nltk_data] Downloading package punkt to\n",
      "[nltk_data]     C:\\Users\\nicoesse\\AppData\\Roaming\\nltk_data...\n",
      "[nltk_data]   Package punkt is already up-to-date!\n",
      "[nltk_data] Downloading package stopwords to\n",
      "[nltk_data]     C:\\Users\\nicoesse\\AppData\\Roaming\\nltk_data...\n",
      "[nltk_data]   Package stopwords is already up-to-date!\n",
      "[nltk_data] Downloading package wordnet to\n",
      "[nltk_data]     C:\\Users\\nicoesse\\AppData\\Roaming\\nltk_data...\n",
      "[nltk_data]   Package wordnet is already up-to-date!\n"
     ]
    }
   ],
   "source": [
    "%run \"../NLP Model/NLTK_Model.ipynb\""
   ]
  },
  {
   "cell_type": "code",
   "execution_count": 17,
   "metadata": {},
   "outputs": [],
   "source": [
    "\n",
    "# Initialize your NLTKModelFunctions instance\n",
    "config = {\n",
    "    'nps_api_key': 'your_API',\n",
    "}\n",
    "\n"
   ]
  },
  {
   "cell_type": "code",
   "execution_count": 20,
   "metadata": {},
   "outputs": [],
   "source": [
    "park_csv_path = '../Data_API/park_to_parkcode.csv'\n",
    "model = NLTKModelFunctions(config, park_csv_path)\n"
   ]
  },
  {
   "cell_type": "code",
   "execution_count": 21,
   "metadata": {},
   "outputs": [],
   "source": [
    "def handle_query(query):\n",
    "    endpoint, park_code, intent, output = model.api_call(query)\n",
    "    \n",
    "    if isinstance(endpoint, str) and endpoint.startswith('Error'):\n",
    "        return endpoint  # Handle errors, if any\n",
    "    \n",
    "    # Example: Respond based on intent or endpoint\n",
    "    if intent == 'description' and not output.empty:\n",
    "        park_description = output.iloc[0]['description']\n",
    "        return f\"The description of the park is: {park_description}\"\n",
    "    elif intent == 'address' and not output.empty:\n",
    "        park_address = output.iloc[0]['addresses']\n",
    "        return f\"The address of the park is: {park_address}\"\n",
    "    elif intent == 'state' and not output.empty:\n",
    "        park_state = output.iloc[0]['state']\n",
    "        return f\"The park is located in the state of {park_state}\"\n",
    "    else:\n",
    "        return \"I'm sorry, I couldn't find the information you're looking for.\"\n"
   ]
  },
  {
   "cell_type": "code",
   "execution_count": 23,
   "metadata": {},
   "outputs": [
    {
     "name": "stdout",
     "output_type": "stream",
     "text": [
      "Preprocessed query: state green spring\n",
      "The park is located in the state of VA\n"
     ]
    }
   ],
   "source": [
    "query = \"What state is Green Springs in?\"\n",
    "response = handle_query(query)\n",
    "print(response)"
   ]
  },
  {
   "cell_type": "code",
   "execution_count": null,
   "metadata": {},
   "outputs": [],
   "source": []
  }
 ],
 "metadata": {
  "kernelspec": {
   "display_name": "Python 3",
   "language": "python",
   "name": "python3"
  },
  "language_info": {
   "codemirror_mode": {
    "name": "ipython",
    "version": 3
   },
   "file_extension": ".py",
   "mimetype": "text/x-python",
   "name": "python",
   "nbconvert_exporter": "python",
   "pygments_lexer": "ipython3",
   "version": "3.11.2"
  }
 },
 "nbformat": 4,
 "nbformat_minor": 2
}
