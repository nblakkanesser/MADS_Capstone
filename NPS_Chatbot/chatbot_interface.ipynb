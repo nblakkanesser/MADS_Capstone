{
 "cells": [
  {
   "cell_type": "markdown",
   "metadata": {},
   "source": [
    "#### Define Imports"
   ]
  },
  {
   "cell_type": "code",
   "execution_count": 1,
   "metadata": {},
   "outputs": [],
   "source": [
    "import sys\n",
    "sys.path.insert(0,'../')\n",
    "import pandas as pd\n",
    "from environment import env\n",
    "from environment import gpt_model_functions\n",
    "config = env.env()\n",
    "\n",
    "from flask import Flask, request, jsonify, render_template\n"
   ]
  },
  {
   "cell_type": "code",
   "execution_count": 2,
   "metadata": {},
   "outputs": [
    {
     "name": "stdout",
     "output_type": "stream",
     "text": [
      " * Serving Flask app '__main__'\n",
      " * Debug mode: off\n"
     ]
    },
    {
     "name": "stderr",
     "output_type": "stream",
     "text": [
      "WARNING: This is a development server. Do not use it in a production deployment. Use a production WSGI server instead.\n",
      " * Running on http://127.0.0.1:8000\n",
      "Press CTRL+C to quit\n",
      "127.0.0.1 - - [09/Jul/2024 12:27:42] \"GET / HTTP/1.1\" 200 -\n",
      "127.0.0.1 - - [09/Jul/2024 12:27:51] \"POST /chat HTTP/1.1\" 200 -\n"
     ]
    }
   ],
   "source": [
    "app = Flask(__name__)\n",
    "\n",
    "@app.route('/')\n",
    "def home():\n",
    "    return render_template('index.html')\n",
    "\n",
    "@app.route('/chat', methods=['POST'])\n",
    "def chat():\n",
    "    user_input = request.json.get(\"message\")\n",
    "    if not user_input:\n",
    "        return jsonify({\"response\": \"Please provide a message.\"})\n",
    "\n",
    "    try:\n",
    "        output = gpt_model_functions.api_call(user_input)\n",
    "    except:\n",
    "        output = \"I specialize only in queries related to amenities, events, alerts, park fees, park locations, and park descriptions. Please clarify your question.\"\n",
    "    return jsonify({\"response\": output})\n",
    "\n",
    "if __name__ == \"__main__\":\n",
    "    app.run(port=8000)"
   ]
  },
  {
   "cell_type": "code",
   "execution_count": null,
   "metadata": {},
   "outputs": [],
   "source": []
  },
  {
   "cell_type": "markdown",
   "metadata": {},
   "source": []
  }
 ],
 "metadata": {
  "kernelspec": {
   "display_name": "Python 3",
   "language": "python",
   "name": "python3"
  },
  "language_info": {
   "codemirror_mode": {
    "name": "ipython",
    "version": 3
   },
   "file_extension": ".py",
   "mimetype": "text/x-python",
   "name": "python",
   "nbconvert_exporter": "python",
   "pygments_lexer": "ipython3",
   "version": "3.8.19"
  }
 },
 "nbformat": 4,
 "nbformat_minor": 2
}
