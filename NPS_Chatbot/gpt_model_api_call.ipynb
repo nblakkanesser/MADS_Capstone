{
 "cells": [
  {
   "cell_type": "markdown",
   "metadata": {},
   "source": [
    "#### Define Imports"
   ]
  },
  {
   "cell_type": "code",
   "execution_count": 1,
   "metadata": {},
   "outputs": [],
   "source": [
    "#%pip install openai"
   ]
  },
  {
   "cell_type": "code",
   "execution_count": 2,
   "metadata": {},
   "outputs": [],
   "source": [
    "import sys\n",
    "sys.path.insert(0,'../')\n",
    "import pandas as pd\n",
    "from environment import env\n",
    "from environment import gpt_model_functions\n",
    "config = env.env()"
   ]
  },
  {
   "cell_type": "markdown",
   "metadata": {},
   "source": [
    "#### API Call"
   ]
  },
  {
   "cell_type": "code",
   "execution_count": 5,
   "metadata": {},
   "outputs": [
    {
     "name": "stdout",
     "output_type": "stream",
     "text": [
      "There are 20 amenity categories. Choose one of the following categories to learn more: \n",
      " Accessibility\n",
      " Biking\n",
      " Convenience\n",
      " Drinking Water\n",
      " Emergency\n",
      " Food\n",
      " Fuel\n",
      " Hiking\n",
      " Information Available\n",
      " Interpretive\n",
      " Junior Ranger Program\n",
      " Parking\n",
      " Permits and Passes\n",
      " Pet-Friendly\n",
      " Picnic\n",
      " Recreation\n",
      " Restrooms\n",
      " Safety\n",
      " Souvenirs and Supplies\n",
      " Transportation\n",
      "There are 2 amenities in the Drinking water category: \n",
      " Water - Bottle-Filling Station\n",
      " Water - Drinking/Potable\n"
     ]
    }
   ],
   "source": [
    "# Amenities\n",
    "query = 'List the amenities at Zion'\n",
    "endpoint, parkcode, intent, output = gpt_model_functions.api_call(query)\n",
    "print(output)"
   ]
  },
  {
   "cell_type": "code",
   "execution_count": 3,
   "metadata": {},
   "outputs": [
    {
     "data": {
      "text/plain": [
       "'Virgin Islands Coral Reef National Monument is located in U.S. Virgin Islands'"
      ]
     },
     "execution_count": 3,
     "metadata": {},
     "output_type": "execute_result"
    }
   ],
   "source": [
    "query = 'Provide the state that Virgin Islands Coral Reef is in'\n",
    "endpoint, parkcode, intent, output = gpt_model_functions.api_call(query)\n",
    "output"
   ]
  },
  {
   "cell_type": "code",
   "execution_count": 4,
   "metadata": {},
   "outputs": [
    {
     "data": {
      "text/plain": [
       "'Yosemite National Park is located at 9039 Village Drive in Yosemite, California 95389'"
      ]
     },
     "execution_count": 4,
     "metadata": {},
     "output_type": "execute_result"
    }
   ],
   "source": [
    "query = 'Where is Yosemite located?'\n",
    "endpoint, parkcode, intent, output = gpt_model_functions.api_call(query)\n",
    "output"
   ]
  },
  {
   "cell_type": "code",
   "execution_count": 5,
   "metadata": {},
   "outputs": [
    {
     "name": "stdout",
     "output_type": "stream",
     "text": [
      "There are 4 active alerts for Yosemite National Park: \n",
      " Alert 1: Expect delays at entrance stations from mid-morning to early afternoon. Delays vary by entrance station but can be up to two hours.\n",
      " Alert 2: Tree work to reduce fire danger is ongoing in western Yosemite Valley. Expect 15-minute delays, Mondays through Fridays, 6 am to 4 pm.\n",
      " Alert 3: A reservation is required to drive into or through Yosemite from 5 am to 4 pm every day from July 1 through August 16, then weekends and holidays only from August 17 through October 27.\n",
      " Alert 4: Shuttles are not servicing stops 14–19 (Curry Village, Happy Isles and Mirror Lake trailheads, and Pines campgrounds). A temporary shuttle stop is available near the Curry Village front desk. Access to the closed shuttle stops is by foot or bicycle only.\n",
      " \n"
     ]
    }
   ],
   "source": [
    "query = 'What alerts are there at Yosemite?'\n",
    "endpoint, parkcode, intent, output = gpt_model_functions.api_call(query)\n",
    "print(output)"
   ]
  },
  {
   "cell_type": "code",
   "execution_count": 6,
   "metadata": {},
   "outputs": [
    {
     "data": {
      "text/plain": [
       "\"Here is the description of Bryce Canyon National Park: Hoodoos (irregular columns of rock) exist on every continent, but here is the largest concentration found anywhere on Earth. Situated along a high plateau at the top of the Grand Staircase, the park's high elevations include numerous life communities, fantastic dark skies, and geological wonders that defy description. \""
      ]
     },
     "execution_count": 6,
     "metadata": {},
     "output_type": "execute_result"
    }
   ],
   "source": [
    "query = 'Provide the description of Bryce Canyon National Park'\n",
    "endpoint, parkcode, intent, output = gpt_model_functions.api_call(query)\n",
    "output"
   ]
  },
  {
   "cell_type": "code",
   "execution_count": 7,
   "metadata": {},
   "outputs": [
    {
     "data": {
      "text/plain": [
       "'Bryce Canyon National Park is the full name of the park.'"
      ]
     },
     "execution_count": 7,
     "metadata": {},
     "output_type": "execute_result"
    }
   ],
   "source": [
    "query = \"What's the full name of Bryce Canyon\"\n",
    "endpoint, parkcode, intent, output = gpt_model_functions.api_call(query)\n",
    "output"
   ]
  },
  {
   "cell_type": "code",
   "execution_count": 8,
   "metadata": {},
   "outputs": [
    {
     "name": "stdout",
     "output_type": "stream",
     "text": [
      "All park visitors are required to purchase a recreational use pass upon entering Bryce Canyon National Park.\n",
      "Cash is not accepted at Bryce Canyon National Park.\n",
      "Please visit https://www.nps.gov/brca/planyourvisit/fees.htm for more information.\n"
     ]
    }
   ],
   "source": [
    "#feespass\n",
    "query = 'How much are the enterance fees for Bryce Canyon?'\n",
    "endpoint, parkcode, intent, output = gpt_model_functions.api_call(query)\n",
    "print(output)"
   ]
  },
  {
   "cell_type": "code",
   "execution_count": 9,
   "metadata": {},
   "outputs": [
    {
     "name": "stdout",
     "output_type": "stream",
     "text": [
      "Today, there are 10 events happening at Zion National Park.\n",
      "Event 1: Evening Lodge Program \n",
      " Location: This program takes place inside the Zion Lodge in the auditorium.\n",
      "Event 2: Kolob Canyons - Morning Ranger Talk \n",
      " Location: Timber Creek Overlook Parking Area\n",
      "Event 3: Lodge Lawn Junior Rangers \n",
      " Location: This program takes place outdoors in front of the Zion Lodge (shuttle stop #5)\n",
      "Event 4: Morning Watchman Hike \n",
      " Location: Register for this program at the Zion Canyon Visitor Center information desk.\n",
      "Event 5: Museum Patio Ranger Talk \n",
      " Location: This program takes place behind the Zion Human History Museum on the outdoor patio.\n",
      "Event 6: Nature Center Youth Programs \n",
      " Location: The Nature Center is next to the South Campground off of the Pa’rus Trail. The shuttle does not stop here, but the Nature Center can be accessed from the Pa’rus Trail. Limited parking is available.\n",
      "Event 7: Ride With A Ranger \n",
      " Location: Register for this program at the Zion Canyon Visitor Center information desk.\n",
      "Event 8: Visitor Center Junior Ranger Program \n",
      " Location: This program takes place in the Zion Canyon Visitor Center outdoor amphitheater.\n",
      "Event 9: Visitor Center Ranger Talk \n",
      " Location: This ranger talk takes place at the Zion Canyon Visitor Center amphitheater.\n",
      "Event 10: Watchman Evening Program \n",
      " Location: This program is in the outdoor Watchman Campground amphitheater. Limited parking is available here, but more parking is available at the Zion Canyon Visitor Center a short distance away.\n"
     ]
    }
   ],
   "source": [
    "# Limited to today currently\n",
    "query = 'What is scheduled at Zion?'\n",
    "endpoint, parkcode, intent, output = gpt_model_functions.api_call(query)\n",
    "print(output)"
   ]
  },
  {
   "cell_type": "markdown",
   "metadata": {},
   "source": []
  }
 ],
 "metadata": {
  "kernelspec": {
   "display_name": "Python 3",
   "language": "python",
   "name": "python3"
  },
  "language_info": {
   "codemirror_mode": {
    "name": "ipython",
    "version": 3
   },
   "file_extension": ".py",
   "mimetype": "text/x-python",
   "name": "python",
   "nbconvert_exporter": "python",
   "pygments_lexer": "ipython3",
   "version": "3.7.1"
  }
 },
 "nbformat": 4,
 "nbformat_minor": 2
}
