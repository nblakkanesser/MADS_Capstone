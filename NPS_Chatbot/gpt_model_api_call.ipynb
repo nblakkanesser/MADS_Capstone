{
 "cells": [
  {
   "cell_type": "markdown",
   "metadata": {},
   "source": [
    "#### Define Imports"
   ]
  },
  {
   "cell_type": "code",
   "execution_count": 1,
   "metadata": {},
   "outputs": [],
   "source": [
    "#%pip install openai"
   ]
  },
  {
   "cell_type": "code",
   "execution_count": 2,
   "metadata": {},
   "outputs": [],
   "source": [
    "import sys\n",
    "sys.path.insert(0,'../')\n",
    "import pandas as pd\n",
    "from environment import env\n",
    "from environment import gpt_model_functions\n",
    "config = env.env()"
   ]
  },
  {
   "cell_type": "code",
   "execution_count": null,
   "metadata": {},
   "outputs": [],
   "source": []
  },
  {
   "cell_type": "markdown",
   "metadata": {},
   "source": [
    "#### API Call"
   ]
  },
  {
   "cell_type": "code",
   "execution_count": 3,
   "metadata": {},
   "outputs": [
    {
     "data": {
      "text/plain": [
       "'Bryce Canyon National Park is located in Utah'"
      ]
     },
     "execution_count": 3,
     "metadata": {},
     "output_type": "execute_result"
    }
   ],
   "source": [
    "query = 'Provide the state that Bryce Canyon is in'\n",
    "endpoint, parkcode, intent, output = gpt_model_functions.api_call(query)\n",
    "output"
   ]
  },
  {
   "cell_type": "code",
   "execution_count": 4,
   "metadata": {},
   "outputs": [
    {
     "data": {
      "text/plain": [
       "'Yosemite National Park is located at 9039 Village Drive in Yosemite, California 95389'"
      ]
     },
     "execution_count": 4,
     "metadata": {},
     "output_type": "execute_result"
    }
   ],
   "source": [
    "query = 'Where is Yosemite located?'\n",
    "endpoint, parkcode, intent, output = gpt_model_functions.api_call(query)\n",
    "output"
   ]
  },
  {
   "cell_type": "code",
   "execution_count": 8,
   "metadata": {},
   "outputs": [],
   "source": [
    "query = 'What alerts are there at Yosemite?'\n",
    "endpoint, parkcode, intent, output = gpt_model_functions.api_call(query)\n"
   ]
  },
  {
   "cell_type": "code",
   "execution_count": 9,
   "metadata": {},
   "outputs": [
    {
     "name": "stdout",
     "output_type": "stream",
     "text": [
      "There are 4 active alerts for Yosemite National Park: \n",
      " Alert 1: Expect delays at entrance stations from mid-morning to early afternoon. Delays vary by entrance station but can be up to two hours.\n",
      " Alert 2: Tree work to reduce fire danger is ongoing in western Yosemite Valley. Expect 15-minute delays, Mondays through Fridays, 6 am to 4 pm.\n",
      " Alert 3: A reservation is required to drive into or through Yosemite from 5 am to 4 pm every day from July 1 through August 16, then weekends and holidays only from August 17 through October 27.\n",
      " Alert 4: Shuttles are not servicing stops 14–19 (Curry Village, Happy Isles and Mirror Lake trailheads, and Pines campgrounds). A temporary shuttle stop is available near the Curry Village front desk. Access to the closed shuttle stops is by foot or bicycle only.\n",
      " \n"
     ]
    }
   ],
   "source": [
    "print(output)"
   ]
  },
  {
   "cell_type": "code",
   "execution_count": 9,
   "metadata": {},
   "outputs": [
    {
     "data": {
      "text/plain": [
       "'description'"
      ]
     },
     "execution_count": 9,
     "metadata": {},
     "output_type": "execute_result"
    }
   ],
   "source": [
    "query = 'Provide the description of Bryce Canyon National Park'\n",
    "endpoint, parkcode, intent, output = gpt_model_functions.api_call(query)\n",
    "intent"
   ]
  },
  {
   "cell_type": "code",
   "execution_count": 8,
   "metadata": {},
   "outputs": [
    {
     "data": {
      "text/plain": [
       "'fullname'"
      ]
     },
     "execution_count": 8,
     "metadata": {},
     "output_type": "execute_result"
    }
   ],
   "source": [
    "query = \"What's the full name of Bryce Canyon\"\n",
    "endpoint, parkcode, intent, output = gpt_model_functions.api_call(query)\n",
    "intent"
   ]
  },
  {
   "cell_type": "code",
   "execution_count": 4,
   "metadata": {},
   "outputs": [
    {
     "data": {
      "text/plain": [
       "'feespass'"
      ]
     },
     "execution_count": 4,
     "metadata": {},
     "output_type": "execute_result"
    }
   ],
   "source": [
    "query = 'How much are the enterance fees for Bryce Canyon National Park?'\n",
    "endpoint, parkcode, intent, output = gpt_model_functions.api_call(query)\n",
    "intent"
   ]
  },
  {
   "cell_type": "code",
   "execution_count": 5,
   "metadata": {},
   "outputs": [
    {
     "data": {
      "text/plain": [
       "'amenities'"
      ]
     },
     "execution_count": 5,
     "metadata": {},
     "output_type": "execute_result"
    }
   ],
   "source": [
    "query = 'What are the amenities at Bryce Canyon National Park?'\n",
    "endpoint, parkcode, intent, output = gpt_model_functions.api_call(query)\n",
    "intent"
   ]
  },
  {
   "cell_type": "code",
   "execution_count": 6,
   "metadata": {},
   "outputs": [
    {
     "data": {
      "text/plain": [
       "'events'"
      ]
     },
     "execution_count": 6,
     "metadata": {},
     "output_type": "execute_result"
    }
   ],
   "source": [
    "query = 'What events are happening at Bryce Canyon National Park?'\n",
    "endpoint, parkcode, intent, output = gpt_model_functions.api_call(query)\n",
    "intent"
   ]
  },
  {
   "cell_type": "code",
   "execution_count": null,
   "metadata": {},
   "outputs": [],
   "source": [
    "model_name = \"distilbert-base-uncased-distilled-squad\"\n",
    "model = AutoModelForQuestionAnswering.from_pretrained(model_name)\n",
    "tokenizer = AutoTokenizer.from_pretrained(model_name)\n",
    "\n",
    "# Create a pipeline\n",
    "nlp = pipeline(\"question-answering\", model=model, tokenizer=tokenizer)\n",
    "\n",
    "# Load the data\n",
    "df = pd.read_csv('parks_data.csv')\n",
    "\n",
    "# Initialize the model and tokenizer\n",
    "\n",
    "\n",
    "# Function to generate answers\n",
    "def answer_question(question, context):\n",
    "    result = nlp(question=question, context=context)\n",
    "    return result['answer']\n",
    "\n",
    "# Function to get park context\n",
    "def get_park_context(park_name):\n",
    "    park = df[df['name'].str.contains(park_name, case=False, na=False)]\n",
    "    if not park.empty:\n",
    "        context = f\"{park.iloc[0]['name']} is located at {park.iloc[0]['address']} in {park.iloc[0]['state']}. {park.iloc[0]['description']}\"\n",
    "        return context\n",
    "    else:\n",
    "        return \"Sorry, I couldn't find the park you're looking for.\"\n",
    "\n",
    "# Function to handle user queries\n",
    "def handle_query(query):\n",
    "    # Extract the entity (park name) from the query\n",
    "    entity = extract_entity(query)\n",
    "    if entity:\n",
    "        context = get_park_context(entity)\n",
    "        answer = answer_question(query, context)\n",
    "        return answer\n",
    "    else:\n",
    "        return \"Please specify a park in your question.\"\n",
    "\n",
    "# Function to extract the entity (park name) from the query\n",
    "def extract_entity(query):\n",
    "    for park_name in df['name']:\n",
    "        if park_name.lower() in query.lower():\n",
    "            return park_name\n",
    "    return None\n",
    "\n",
    "# Example usage\n",
    "query = \"Tell me about Yellowstone National Park\"\n",
    "response = handle_query(query)\n",
    "print(response)"
   ]
  },
  {
   "cell_type": "code",
   "execution_count": null,
   "metadata": {},
   "outputs": [],
   "source": []
  }
 ],
 "metadata": {
  "kernelspec": {
   "display_name": "Python 3",
   "language": "python",
   "name": "python3"
  },
  "language_info": {
   "codemirror_mode": {
    "name": "ipython",
    "version": 3
   },
   "file_extension": ".py",
   "mimetype": "text/x-python",
   "name": "python",
   "nbconvert_exporter": "python",
   "pygments_lexer": "ipython3",
   "version": "3.7.1"
  }
 },
 "nbformat": 4,
 "nbformat_minor": 2
}
