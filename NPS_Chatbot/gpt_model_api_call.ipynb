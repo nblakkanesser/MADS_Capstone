{
 "cells": [
  {
   "cell_type": "markdown",
   "metadata": {},
   "source": [
    "#### Define Imports"
   ]
  },
  {
   "cell_type": "code",
   "execution_count": 1,
   "metadata": {},
   "outputs": [],
   "source": [
    "#%pip install openai"
   ]
  },
  {
   "cell_type": "code",
   "execution_count": 2,
   "metadata": {},
   "outputs": [
    {
     "name": "stderr",
     "output_type": "stream",
     "text": [
      "ERROR: Could not find a version that satisfies the requirement torch (from versions: none)\n",
      "ERROR: No matching distribution found for torch\n"
     ]
    }
   ],
   "source": [
    "! pip install gradio\n",
    "! pip install transformers\n",
    "! pip install torch\n",
    "import gradio as gr\n",
    "from transformers import pipeline, AutoModelForQuestionAnswering, AutoTokenizer\n",
    "import pandas as pd\n",
    "import torch"
   ]
  },
  {
   "cell_type": "code",
   "execution_count": 1,
   "metadata": {},
   "outputs": [],
   "source": [
    "import sys\n",
    "sys.path.insert(0,'../')\n",
    "from environment import env\n",
    "from environment import gpt_model_functions"
   ]
  },
  {
   "cell_type": "markdown",
   "metadata": {},
   "source": [
    "#### API Call"
   ]
  },
  {
   "cell_type": "code",
   "execution_count": 2,
   "metadata": {},
   "outputs": [
    {
     "data": {
      "text/plain": [
       "'Bryce Canyon National Park is located in Utah'"
      ]
     },
     "execution_count": 2,
     "metadata": {},
     "output_type": "execute_result"
    }
   ],
   "source": [
    "query = 'Provide the state that Bryce Canyon is in'\n",
    "endpoint, parkcode, intent, output = gpt_model_functions.api_call(query)\n",
    "output"
   ]
  },
  {
   "cell_type": "code",
   "execution_count": 6,
   "metadata": {},
   "outputs": [
    {
     "data": {
      "text/plain": [
       "'Yosemite National Park is located at 9039 Village Drive in Yosemite, California 95389'"
      ]
     },
     "execution_count": 6,
     "metadata": {},
     "output_type": "execute_result"
    }
   ],
   "source": [
    "query = 'Where is Yosimte located?'\n",
    "endpoint, parkcode, intent, output = gpt_model_functions.api_call(query)\n",
    "output"
   ]
  },
  {
   "cell_type": "code",
   "execution_count": 7,
   "metadata": {},
   "outputs": [
    {
     "data": {
      "text/plain": [
       "'alerts'"
      ]
     },
     "execution_count": 7,
     "metadata": {},
     "output_type": "execute_result"
    }
   ],
   "source": [
    "query = 'What alerts are there at Bryce Canyon National Park?'\n",
    "endpoint, parkcode, intent, output = gpt_model_functions.api_call(query)\n",
    "intent"
   ]
  },
  {
   "cell_type": "code",
   "execution_count": 9,
   "metadata": {},
   "outputs": [
    {
     "data": {
      "text/plain": [
       "2"
      ]
     },
     "execution_count": 9,
     "metadata": {},
     "output_type": "execute_result"
    }
   ],
   "source": [
    "len(output)"
   ]
  },
  {
   "cell_type": "code",
   "execution_count": null,
   "metadata": {},
   "outputs": [],
   "source": [
    "if intent == 'alerts':\n",
    "    output = f'There are {len(output)} active alerts for ' "
   ]
  },
  {
   "cell_type": "code",
   "execution_count": 8,
   "metadata": {},
   "outputs": [
    {
     "data": {
      "text/html": [
       "<div>\n",
       "<style scoped>\n",
       "    .dataframe tbody tr th:only-of-type {\n",
       "        vertical-align: middle;\n",
       "    }\n",
       "\n",
       "    .dataframe tbody tr th {\n",
       "        vertical-align: top;\n",
       "    }\n",
       "\n",
       "    .dataframe thead th {\n",
       "        text-align: right;\n",
       "    }\n",
       "</style>\n",
       "<table border=\"1\" class=\"dataframe\">\n",
       "  <thead>\n",
       "    <tr style=\"text-align: right;\">\n",
       "      <th></th>\n",
       "      <th>id</th>\n",
       "      <th>url</th>\n",
       "      <th>title</th>\n",
       "      <th>parkCode</th>\n",
       "      <th>description</th>\n",
       "      <th>category</th>\n",
       "      <th>relatedRoadEvents</th>\n",
       "      <th>lastIndexedDate</th>\n",
       "    </tr>\n",
       "  </thead>\n",
       "  <tbody>\n",
       "    <tr>\n",
       "      <th>0</th>\n",
       "      <td>9840308A-02FB-4A2F-90A3-E5597EB3881B</td>\n",
       "      <td>https://www.nps.gov/brca/planyourvisit/conditi...</td>\n",
       "      <td>Main Road Status</td>\n",
       "      <td>brca</td>\n",
       "      <td>The main park road is fully open to Rainbow Po...</td>\n",
       "      <td>Information</td>\n",
       "      <td>[]</td>\n",
       "      <td>2024-04-02 13:59:18.0</td>\n",
       "    </tr>\n",
       "    <tr>\n",
       "      <th>1</th>\n",
       "      <td>8833A24A-3F71-4E6E-9254-FF7743304115</td>\n",
       "      <td>https://www.nps.gov/brca/planyourvisit/basicin...</td>\n",
       "      <td>Bryce Canyon is Open - No Reservations Require...</td>\n",
       "      <td>brca</td>\n",
       "      <td>No reservations are required to enter Bryce Ca...</td>\n",
       "      <td>Information</td>\n",
       "      <td>[]</td>\n",
       "      <td>2024-02-16 15:58:11.0</td>\n",
       "    </tr>\n",
       "  </tbody>\n",
       "</table>\n",
       "</div>"
      ],
      "text/plain": [
       "                                     id  \\\n",
       "0  9840308A-02FB-4A2F-90A3-E5597EB3881B   \n",
       "1  8833A24A-3F71-4E6E-9254-FF7743304115   \n",
       "\n",
       "                                                 url  \\\n",
       "0  https://www.nps.gov/brca/planyourvisit/conditi...   \n",
       "1  https://www.nps.gov/brca/planyourvisit/basicin...   \n",
       "\n",
       "                                               title parkCode  \\\n",
       "0                                   Main Road Status     brca   \n",
       "1  Bryce Canyon is Open - No Reservations Require...     brca   \n",
       "\n",
       "                                         description     category  \\\n",
       "0  The main park road is fully open to Rainbow Po...  Information   \n",
       "1  No reservations are required to enter Bryce Ca...  Information   \n",
       "\n",
       "  relatedRoadEvents        lastIndexedDate  \n",
       "0                []  2024-04-02 13:59:18.0  \n",
       "1                []  2024-02-16 15:58:11.0  "
      ]
     },
     "execution_count": 8,
     "metadata": {},
     "output_type": "execute_result"
    }
   ],
   "source": [
    "output"
   ]
  },
  {
   "cell_type": "code",
   "execution_count": 6,
   "metadata": {},
   "outputs": [],
   "source": [
    "statecode_mapping = gpt_model_functions.statecode_mapping"
   ]
  },
  {
   "cell_type": "code",
   "execution_count": 11,
   "metadata": {},
   "outputs": [
    {
     "data": {
      "text/plain": [
       "'Bryce Canyon National Park is located at Highway 63 Bryce Canyon National Park Bryce, Utah 84764'"
      ]
     },
     "execution_count": 11,
     "metadata": {},
     "output_type": "execute_result"
    }
   ],
   "source": [
    "f\"{output['line1'][0]} {output['line2'][0]} {output['city'][0]}, {statecode_mapping(output['state'][0])} {output['postalCode'][0]}\"\n",
    "output = f\"{output['fullName'][0]} is located at {output['line1'][0]} \" + (f\"{output['line2'][0]} \" if output['line2'][0] else \"\") + f\"in {output['city'][0]}, {statecode_mapping(output['state'][0])} {output['postalCode'][0]}\"\n",
    "output\n",
    "#output = f\"{output['fullName'][0]} is located at f\"{output['line1'][0]} \" + (f\"{output['line2'][0]} \" if output['line2'][0] else \"\") + f\"{output['city'][0]}, {statecode_mapping(output['state'][0])} {output['postalCode'][0]}\"\n"
   ]
  },
  {
   "cell_type": "code",
   "execution_count": 9,
   "metadata": {},
   "outputs": [
    {
     "data": {
      "text/plain": [
       "'description'"
      ]
     },
     "execution_count": 9,
     "metadata": {},
     "output_type": "execute_result"
    }
   ],
   "source": [
    "query = 'Provide the description of Bryce Canyon National Park'\n",
    "endpoint, parkcode, intent, output = gpt_model_functions.api_call(query)\n",
    "intent"
   ]
  },
  {
   "cell_type": "code",
   "execution_count": 8,
   "metadata": {},
   "outputs": [
    {
     "data": {
      "text/plain": [
       "'fullname'"
      ]
     },
     "execution_count": 8,
     "metadata": {},
     "output_type": "execute_result"
    }
   ],
   "source": [
    "query = \"What's the full name of Bryce Canyon\"\n",
    "endpoint, parkcode, intent, output = gpt_model_functions.api_call(query)\n",
    "intent"
   ]
  },
  {
   "cell_type": "code",
   "execution_count": 4,
   "metadata": {},
   "outputs": [
    {
     "data": {
      "text/plain": [
       "'feespass'"
      ]
     },
     "execution_count": 4,
     "metadata": {},
     "output_type": "execute_result"
    }
   ],
   "source": [
    "query = 'How much are the enterance fees for Bryce Canyon National Park?'\n",
    "endpoint, parkcode, intent, output = gpt_model_functions.api_call(query)\n",
    "intent"
   ]
  },
  {
   "cell_type": "code",
   "execution_count": 5,
   "metadata": {},
   "outputs": [
    {
     "data": {
      "text/plain": [
       "'amenities'"
      ]
     },
     "execution_count": 5,
     "metadata": {},
     "output_type": "execute_result"
    }
   ],
   "source": [
    "query = 'What are the amenities at Bryce Canyon National Park?'\n",
    "endpoint, parkcode, intent, output = gpt_model_functions.api_call(query)\n",
    "intent"
   ]
  },
  {
   "cell_type": "code",
   "execution_count": 6,
   "metadata": {},
   "outputs": [
    {
     "data": {
      "text/plain": [
       "'events'"
      ]
     },
     "execution_count": 6,
     "metadata": {},
     "output_type": "execute_result"
    }
   ],
   "source": [
    "query = 'What events are happening at Bryce Canyon National Park?'\n",
    "endpoint, parkcode, intent, output = gpt_model_functions.api_call(query)\n",
    "intent"
   ]
  },
  {
   "cell_type": "code",
   "execution_count": null,
   "metadata": {},
   "outputs": [],
   "source": [
    "model_name = \"distilbert-base-uncased-distilled-squad\"\n",
    "model = AutoModelForQuestionAnswering.from_pretrained(model_name)\n",
    "tokenizer = AutoTokenizer.from_pretrained(model_name)\n",
    "\n",
    "# Create a pipeline\n",
    "nlp = pipeline(\"question-answering\", model=model, tokenizer=tokenizer)\n",
    "\n",
    "# Load the data\n",
    "df = pd.read_csv('parks_data.csv')\n",
    "\n",
    "# Initialize the model and tokenizer\n",
    "\n",
    "\n",
    "# Function to generate answers\n",
    "def answer_question(question, context):\n",
    "    result = nlp(question=question, context=context)\n",
    "    return result['answer']\n",
    "\n",
    "# Function to get park context\n",
    "def get_park_context(park_name):\n",
    "    park = df[df['name'].str.contains(park_name, case=False, na=False)]\n",
    "    if not park.empty:\n",
    "        context = f\"{park.iloc[0]['name']} is located at {park.iloc[0]['address']} in {park.iloc[0]['state']}. {park.iloc[0]['description']}\"\n",
    "        return context\n",
    "    else:\n",
    "        return \"Sorry, I couldn't find the park you're looking for.\"\n",
    "\n",
    "# Function to handle user queries\n",
    "def handle_query(query):\n",
    "    # Extract the entity (park name) from the query\n",
    "    entity = extract_entity(query)\n",
    "    if entity:\n",
    "        context = get_park_context(entity)\n",
    "        answer = answer_question(query, context)\n",
    "        return answer\n",
    "    else:\n",
    "        return \"Please specify a park in your question.\"\n",
    "\n",
    "# Function to extract the entity (park name) from the query\n",
    "def extract_entity(query):\n",
    "    for park_name in df['name']:\n",
    "        if park_name.lower() in query.lower():\n",
    "            return park_name\n",
    "    return None\n",
    "\n",
    "# Example usage\n",
    "query = \"Tell me about Yellowstone National Park\"\n",
    "response = handle_query(query)\n",
    "print(response)"
   ]
  },
  {
   "cell_type": "code",
   "execution_count": null,
   "metadata": {},
   "outputs": [],
   "source": []
  }
 ],
 "metadata": {
  "kernelspec": {
   "display_name": "Python 3",
   "language": "python",
   "name": "python3"
  },
  "language_info": {
   "codemirror_mode": {
    "name": "ipython",
    "version": 3
   },
   "file_extension": ".py",
   "mimetype": "text/x-python",
   "name": "python",
   "nbconvert_exporter": "python",
   "pygments_lexer": "ipython3",
   "version": "3.7.1"
  }
 },
 "nbformat": 4,
 "nbformat_minor": 2
}
